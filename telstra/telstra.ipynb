{
 "cells": [
  {
   "cell_type": "code",
   "execution_count": 1,
   "id": "boolean-canal",
   "metadata": {
    "collapsed": true,
    "jupyter": {
     "outputs_hidden": true
    }
   },
   "outputs": [
    {
     "name": "stdout",
     "output_type": "stream",
     "text": [
      "Requirement already satisfied: kaggle in /home/ec2-user/anaconda3/envs/python3/lib/python3.6/site-packages (1.5.12)\n",
      "Requirement already satisfied: python-slugify in /home/ec2-user/anaconda3/envs/python3/lib/python3.6/site-packages (from kaggle) (4.0.1)\n",
      "Requirement already satisfied: urllib3 in /home/ec2-user/anaconda3/envs/python3/lib/python3.6/site-packages (from kaggle) (1.26.4)\n",
      "Requirement already satisfied: six>=1.10 in /home/ec2-user/anaconda3/envs/python3/lib/python3.6/site-packages (from kaggle) (1.15.0)\n",
      "Requirement already satisfied: certifi in /home/ec2-user/anaconda3/envs/python3/lib/python3.6/site-packages (from kaggle) (2020.12.5)\n",
      "Requirement already satisfied: python-dateutil in /home/ec2-user/anaconda3/envs/python3/lib/python3.6/site-packages (from kaggle) (2.8.1)\n",
      "Requirement already satisfied: tqdm in /home/ec2-user/anaconda3/envs/python3/lib/python3.6/site-packages (from kaggle) (4.59.0)\n",
      "Requirement already satisfied: requests in /home/ec2-user/anaconda3/envs/python3/lib/python3.6/site-packages (from kaggle) (2.25.1)\n",
      "Requirement already satisfied: text-unidecode>=1.3 in /home/ec2-user/anaconda3/envs/python3/lib/python3.6/site-packages (from python-slugify->kaggle) (1.3)\n",
      "Requirement already satisfied: idna<3,>=2.5 in /home/ec2-user/anaconda3/envs/python3/lib/python3.6/site-packages (from requests->kaggle) (2.10)\n",
      "Requirement already satisfied: chardet<5,>=3.0.2 in /home/ec2-user/anaconda3/envs/python3/lib/python3.6/site-packages (from requests->kaggle) (3.0.4)\n"
     ]
    }
   ],
   "source": [
    "!pip install kaggle"
   ]
  },
  {
   "cell_type": "code",
   "execution_count": 2,
   "id": "nominated-tournament",
   "metadata": {},
   "outputs": [
    {
     "name": "stdout",
     "output_type": "stream",
     "text": [
      "Warning: Your Kaggle API key is readable by other users on this system! To fix this, you can run 'chmod 600 /home/ec2-user/.kaggle/kaggle.json'\n",
      "403 - Forbidden\n"
     ]
    }
   ],
   "source": [
    "!kaggle competitions download -c telstra-recruiting-network"
   ]
  },
  {
   "cell_type": "code",
   "execution_count": 3,
   "id": "satisfactory-conviction",
   "metadata": {
    "collapsed": true,
    "jupyter": {
     "outputs_hidden": true
    }
   },
   "outputs": [
    {
     "name": "stdout",
     "output_type": "stream",
     "text": [
      "Archive:  telstra-recruiting-network.zip\n",
      "  inflating: event_type.csv.zip      \n",
      "  inflating: log_feature.csv.zip     \n",
      "  inflating: resource_type.csv.zip   \n",
      "  inflating: sample_submission.csv.zip  \n",
      "  inflating: severity_type.csv.zip   \n",
      "  inflating: test.csv.zip            \n",
      "  inflating: train.csv.zip           \n"
     ]
    }
   ],
   "source": [
    "!unzip telstra-recruiting-network.zip"
   ]
  },
  {
   "cell_type": "code",
   "execution_count": null,
   "id": "parliamentary-failing",
   "metadata": {},
   "outputs": [],
   "source": [
    "#https://www.udemy.com/course/12-real-world-case-studies-for-machine-learning/learn/lecture/17306018#overview\n",
    "#https://www.kaggle.com/c/telstra-recruiting-network/overview\n",
    "#https://www.kaggle.com/acauveri/network-severity-prediction-automatic-model\n",
    "#https://github.com/dwipam/code/blob/master/Telstra/Telstra.ipynb"
   ]
  },
  {
   "cell_type": "code",
   "execution_count": 1,
   "id": "iraqi-bulgarian",
   "metadata": {},
   "outputs": [],
   "source": [
    "import numpy as np # linear algebra\n",
    "import pandas as pd # data processing, CSV file I/O (e.g. pd.read_csv)\n",
    "from sklearn import preprocessing\n",
    "from sklearn.linear_model import LogisticRegression\n",
    "from sklearn.naive_bayes import GaussianNB\n",
    "from sklearn import tree\n",
    "from sklearn import svm\n",
    "from sklearn.ensemble import AdaBoostClassifier\n",
    "from sklearn.neighbors import KNeighborsClassifier\n",
    "from sklearn import ensemble\n",
    "from sklearn.metrics import accuracy_score\n",
    "import matplotlib.pyplot as plt\n",
    "import seaborn as sns"
   ]
  },
  {
   "cell_type": "code",
   "execution_count": 2,
   "id": "opponent-opportunity",
   "metadata": {},
   "outputs": [],
   "source": [
    "import warnings\n",
    "warnings.filterwarnings('ignore')"
   ]
  },
  {
   "cell_type": "code",
   "execution_count": 3,
   "id": "deluxe-trace",
   "metadata": {},
   "outputs": [],
   "source": [
    "plt.rc('figure', figsize=(12.0, 6.0))"
   ]
  },
  {
   "cell_type": "code",
   "execution_count": 39,
   "id": "dominican-spider",
   "metadata": {},
   "outputs": [],
   "source": [
    "event_type=pd.read_csv(\"event_type.csv\",error_bad_lines=False)\n",
    "train = pd.read_csv(\"train.csv\")\n",
    "severity_type = pd.read_csv(\"severity_type.csv\")\n",
    "log_feature = pd.read_csv(\"log_feature.csv\")\n",
    "test = pd.read_csv(\"test.csv\")\n",
    "resource_type = pd.read_csv(\"resource_type.csv\",error_bad_lines=False)\n",
    "sample_submission = pd.read_csv(\"sample_submission.csv\")"
   ]
  },
  {
   "cell_type": "code",
   "execution_count": 5,
   "id": "seeing-retail",
   "metadata": {},
   "outputs": [
    {
     "data": {
      "text/plain": [
       "((7381, 3), (11171, 2))"
      ]
     },
     "execution_count": 5,
     "metadata": {},
     "output_type": "execute_result"
    }
   ],
   "source": [
    "train.shape, test.shape"
   ]
  },
  {
   "cell_type": "code",
   "execution_count": 6,
   "id": "recognized-enough",
   "metadata": {},
   "outputs": [
    {
     "name": "stdout",
     "output_type": "stream",
     "text": [
      "test       id      location\n",
      "0  11066  location 481\n",
      "1  18000  location 962\n",
      "2  16964  location 491\n",
      "3   4795  location 532\n",
      "4   3392  location 600\n",
      "train       id      location  fault_severity\n",
      "0  14121  location 118               1\n",
      "1   9320   location 91               0\n",
      "2  14394  location 152               1\n",
      "3   8218  location 931               1\n",
      "sample_submission       id  predict_0  predict_1  predict_2\n",
      "0  11066          0          1          0\n",
      "1  18000          0          1          0\n",
      "2  16964          0          1          0\n",
      "3   4795          0          1          0\n",
      "4   3392          0          1          0\n",
      "event_type (31170, 2)      id     event_type\n",
      "0  6597  event_type 11\n",
      "1  8011  event_type 15\n",
      "severity_type (18552, 2)      id    severity_type\n",
      "0  6597  severity_type 2\n",
      "1  8011  severity_type 2\n",
      "log_feature (58671, 3)      id log_feature  volume\n",
      "0  6597  feature 68       6\n",
      "1  8011  feature 68       7\n",
      "resource_type (21076, 2)      id    resource_type\n",
      "0  6597  resource_type 8\n",
      "1  8011  resource_type 8\n"
     ]
    }
   ],
   "source": [
    "print('test',test.head())\n",
    "print('train',train.head(4))\n",
    "print('sample_submission',sample_submission.head())\n",
    "print('event_type',event_type.shape,event_type.head(2))\n",
    "print('severity_type',severity_type.shape,severity_type.head(2))\n",
    "print('log_feature',log_feature.shape,log_feature.head(2))\n",
    "print('resource_type',resource_type.shape,resource_type.head(2))"
   ]
  },
  {
   "cell_type": "code",
   "execution_count": 7,
   "id": "developmental-stuff",
   "metadata": {},
   "outputs": [
    {
     "data": {
      "text/plain": [
       "0    64.82\n",
       "1    25.35\n",
       "2     9.84\n",
       "Name: fault_severity, dtype: float64"
      ]
     },
     "execution_count": 7,
     "metadata": {},
     "output_type": "execute_result"
    }
   ],
   "source": [
    "round(train['fault_severity'].value_counts() / len(train)*100,2)"
   ]
  },
  {
   "cell_type": "code",
   "execution_count": 40,
   "id": "olympic-roads",
   "metadata": {},
   "outputs": [],
   "source": [
    "# train_merge1=merge_fn(train,event_type.drop_duplicates(subset=['id']),'id','left')\n",
    "# train_merge2=merge_fn(train_merge1,severity_type.drop_duplicates(subset=['id']),'id','left')\n",
    "# train_merge3=merge_fn(train_merge2,log_feature.drop_duplicates(subset=['id']),'id','left')\n",
    "# train_merge4=merge_fn(train_merge3,resource_type.drop_duplicates(subset=['id']),'id','left')\n",
    "from functools import reduce\n",
    "def merge_data_frames(data_frames):\n",
    "    df = reduce(lambda left, right: pd.merge(left, right.drop_duplicates(subset=['id']), on='id', how='left'), data_frames)\n",
    "    return df\n",
    "data_frames = [train, event_type, severity_type, log_feature, resource_type]\n",
    "train = merge_data_frames(data_frames)\n",
    "data_frames[0] = test\n",
    "test = merge_data_frames(data_frames)"
   ]
  },
  {
   "cell_type": "code",
   "execution_count": 9,
   "id": "primary-hollywood",
   "metadata": {},
   "outputs": [
    {
     "data": {
      "text/plain": [
       "((7381, 8), (11171, 7))"
      ]
     },
     "execution_count": 9,
     "metadata": {},
     "output_type": "execute_result"
    }
   ],
   "source": [
    "train.shape, test.shape"
   ]
  },
  {
   "cell_type": "code",
   "execution_count": 10,
   "id": "responsible-death",
   "metadata": {},
   "outputs": [
    {
     "data": {
      "text/html": [
       "<div>\n",
       "<style scoped>\n",
       "    .dataframe tbody tr th:only-of-type {\n",
       "        vertical-align: middle;\n",
       "    }\n",
       "\n",
       "    .dataframe tbody tr th {\n",
       "        vertical-align: top;\n",
       "    }\n",
       "\n",
       "    .dataframe thead th {\n",
       "        text-align: right;\n",
       "    }\n",
       "</style>\n",
       "<table border=\"1\" class=\"dataframe\">\n",
       "  <thead>\n",
       "    <tr style=\"text-align: right;\">\n",
       "      <th></th>\n",
       "      <th>id</th>\n",
       "      <th>location</th>\n",
       "      <th>fault_severity</th>\n",
       "      <th>event_type</th>\n",
       "      <th>severity_type</th>\n",
       "      <th>log_feature</th>\n",
       "      <th>volume</th>\n",
       "      <th>resource_type</th>\n",
       "    </tr>\n",
       "  </thead>\n",
       "  <tbody>\n",
       "    <tr>\n",
       "      <th>0</th>\n",
       "      <td>14121</td>\n",
       "      <td>location 118</td>\n",
       "      <td>1</td>\n",
       "      <td>event_type 34</td>\n",
       "      <td>severity_type 2</td>\n",
       "      <td>feature 312</td>\n",
       "      <td>19</td>\n",
       "      <td>resource_type 2</td>\n",
       "    </tr>\n",
       "    <tr>\n",
       "      <th>1</th>\n",
       "      <td>9320</td>\n",
       "      <td>location 91</td>\n",
       "      <td>0</td>\n",
       "      <td>event_type 34</td>\n",
       "      <td>severity_type 2</td>\n",
       "      <td>feature 315</td>\n",
       "      <td>200</td>\n",
       "      <td>resource_type 2</td>\n",
       "    </tr>\n",
       "    <tr>\n",
       "      <th>2</th>\n",
       "      <td>14394</td>\n",
       "      <td>location 152</td>\n",
       "      <td>1</td>\n",
       "      <td>event_type 35</td>\n",
       "      <td>severity_type 2</td>\n",
       "      <td>feature 221</td>\n",
       "      <td>1</td>\n",
       "      <td>resource_type 2</td>\n",
       "    </tr>\n",
       "    <tr>\n",
       "      <th>3</th>\n",
       "      <td>8218</td>\n",
       "      <td>location 931</td>\n",
       "      <td>1</td>\n",
       "      <td>event_type 15</td>\n",
       "      <td>severity_type 1</td>\n",
       "      <td>feature 80</td>\n",
       "      <td>9</td>\n",
       "      <td>resource_type 8</td>\n",
       "    </tr>\n",
       "    <tr>\n",
       "      <th>4</th>\n",
       "      <td>14804</td>\n",
       "      <td>location 120</td>\n",
       "      <td>0</td>\n",
       "      <td>event_type 34</td>\n",
       "      <td>severity_type 1</td>\n",
       "      <td>feature 134</td>\n",
       "      <td>1</td>\n",
       "      <td>resource_type 2</td>\n",
       "    </tr>\n",
       "  </tbody>\n",
       "</table>\n",
       "</div>"
      ],
      "text/plain": [
       "      id      location  fault_severity     event_type    severity_type  \\\n",
       "0  14121  location 118               1  event_type 34  severity_type 2   \n",
       "1   9320   location 91               0  event_type 34  severity_type 2   \n",
       "2  14394  location 152               1  event_type 35  severity_type 2   \n",
       "3   8218  location 931               1  event_type 15  severity_type 1   \n",
       "4  14804  location 120               0  event_type 34  severity_type 1   \n",
       "\n",
       "   log_feature  volume    resource_type  \n",
       "0  feature 312      19  resource_type 2  \n",
       "1  feature 315     200  resource_type 2  \n",
       "2  feature 221       1  resource_type 2  \n",
       "3   feature 80       9  resource_type 8  \n",
       "4  feature 134       1  resource_type 2  "
      ]
     },
     "execution_count": 10,
     "metadata": {},
     "output_type": "execute_result"
    }
   ],
   "source": [
    "train.head()"
   ]
  },
  {
   "cell_type": "code",
   "execution_count": 11,
   "id": "latin-guide",
   "metadata": {},
   "outputs": [
    {
     "name": "stdout",
     "output_type": "stream",
     "text": [
      "location unique values:929\n",
      "\n",
      "fault_severity unique values:3\n",
      "\n",
      "event_type unique values:45\n",
      "\n",
      "severity_type unique values:5\n",
      "\n",
      "log_feature unique values:223\n",
      "\n",
      "volume unique values:153\n",
      "\n",
      "resource_type unique values:10\n",
      "\n"
     ]
    }
   ],
   "source": [
    "for column in train.drop('id',axis=1).columns:\n",
    "    print(f'{column} unique values:{train[column].nunique()}\\n')"
   ]
  },
  {
   "cell_type": "code",
   "execution_count": 12,
   "id": "immune-narrow",
   "metadata": {},
   "outputs": [
    {
     "data": {
      "text/plain": [
       "<AxesSubplot:xlabel='severity_type', ylabel='id'>"
      ]
     },
     "execution_count": 12,
     "metadata": {},
     "output_type": "execute_result"
    },
    {
     "data": {
      "image/png": "[encoded data removed]",
      "text/plain": [
       "<Figure size 864x432 with 1 Axes>"
      ]
     },
     "metadata": {
      "needs_background": "light"
     },
     "output_type": "display_data"
    }
   ],
   "source": [
    "df_grouped = train.groupby(['severity_type','fault_severity']).count().reset_index()\n",
    "sns.barplot(data=df_grouped, x='severity_type', y='id', hue='fault_severity')"
   ]
  },
  {
   "cell_type": "code",
   "execution_count": 13,
   "id": "italian-vermont",
   "metadata": {},
   "outputs": [
    {
     "data": {
      "text/plain": [
       "<AxesSubplot:>"
      ]
     },
     "execution_count": 13,
     "metadata": {},
     "output_type": "execute_result"
    },
    {
     "data": {
      "image/png": "[encoded data removed]",
      "text/plain": [
       "<Figure size 864x432 with 1 Axes>"
      ]
     },
     "metadata": {
      "needs_background": "light"
     },
     "output_type": "display_data"
    }
   ],
   "source": [
    "sns.boxplot(data=train['volume'])"
   ]
  },
  {
   "cell_type": "code",
   "execution_count": 41,
   "id": "historical-filing",
   "metadata": {},
   "outputs": [],
   "source": [
    "#train[train['location']=='location 1107']['fault_severity'].value_counts().sort_index().values / len(train[train['location']=='location 1107']['fault_severity'])\n",
    "\n",
    "for location in train['location'].unique():\n",
    "    s = train[train['location']==location]['fault_severity'].value_counts().sort_index()\n",
    "    if s.get(1):\n",
    "        train.loc[train['location']==location, 'has_severity_1'] = 1\n",
    "    else:\n",
    "        train.loc[train['location']==location, 'has_severity_1'] = 0\n",
    "    if s.get(2):\n",
    "        train.loc[train['location']==location, 'has_severity_2'] = 1\n",
    "    else:\n",
    "        train.loc[train['location']==location, 'has_severity_2'] = 0"
   ]
  },
  {
   "cell_type": "code",
   "execution_count": 42,
   "id": "faced-contractor",
   "metadata": {},
   "outputs": [],
   "source": [
    "for location in test['location'].unique():\n",
    "    has_sev_1 = train[train['location']==location]['has_severity_1'].values\n",
    "    has_sev_2 = train[train['location']==location]['has_severity_2'].values\n",
    "    if has_sev_1.any():\n",
    "        test.loc[test['location']==location, 'has_severity_1'] = train[train['location']==location]['has_severity_1'].values[0]\n",
    "    else:\n",
    "        test.loc[test['location']==location, 'has_severity_1'] = 0\n",
    "    if has_sev_2.any():\n",
    "        test.loc[test['location']==location, 'has_severity_2'] = train[train['location']==location]['has_severity_2'].values[0]\n",
    "    else:\n",
    "        test.loc[test['location']==location, 'has_severity_2'] = 0\n",
    "        "
   ]
  },
  {
   "cell_type": "code",
   "execution_count": 43,
   "id": "regular-tooth",
   "metadata": {},
   "outputs": [],
   "source": [
    "def get_location_mean(train, location):\n",
    "    return train[train['location']==location]['fault_severity'].mean()"
   ]
  },
  {
   "cell_type": "code",
   "execution_count": 44,
   "id": "accepted-retreat",
   "metadata": {},
   "outputs": [],
   "source": [
    "#train.groupby('location').mean()['fault_severity']"
   ]
  },
  {
   "cell_type": "code",
   "execution_count": 18,
   "id": "tracked-dependence",
   "metadata": {},
   "outputs": [],
   "source": [
    "def prob_severity_by_location(location):\n",
    "    train[train['location']==location].value_counts()"
   ]
  },
  {
   "cell_type": "code",
   "execution_count": 45,
   "id": "forbidden-thumbnail",
   "metadata": {},
   "outputs": [],
   "source": [
    "train['location_fault_mean'] = train['location'].apply(lambda x: get_location_mean(train, x))"
   ]
  },
  {
   "cell_type": "code",
   "execution_count": 51,
   "id": "shared-public",
   "metadata": {},
   "outputs": [],
   "source": [
    "def add_location_fault_mean_to_test(train_df, location):\n",
    "    mean = 0\n",
    "    count = 0\n",
    "    try:\n",
    "        mean = train_df[train_df['location'] == location]['location_fault_mean'].values[0]\n",
    "    except Exception as e:\n",
    "        count +=1\n",
    "    finally:\n",
    "        return mean"
   ]
  },
  {
   "cell_type": "code",
   "execution_count": 52,
   "id": "three-neighborhood",
   "metadata": {},
   "outputs": [],
   "source": [
    "test['location_fault_mean'] = test['location'].apply(lambda x: add_location_fault_mean_to_test(train, x))"
   ]
  },
  {
   "cell_type": "code",
   "execution_count": 58,
   "id": "alive-explosion",
   "metadata": {},
   "outputs": [
    {
     "data": {
      "text/plain": [
       "{'fault_severity'}"
      ]
     },
     "execution_count": 58,
     "metadata": {},
     "output_type": "execute_result"
    }
   ],
   "source": [
    "set(train.columns) - set(test.columns)"
   ]
  },
  {
   "cell_type": "markdown",
   "id": "downtown-causing",
   "metadata": {},
   "source": [
    "### Feature engineering"
   ]
  },
  {
   "cell_type": "code",
   "execution_count": 59,
   "id": "designed-montana",
   "metadata": {},
   "outputs": [],
   "source": [
    "test['fault_severity'] = -1\n",
    "all_data = train.append(test)"
   ]
  },
  {
   "cell_type": "code",
   "execution_count": 60,
   "id": "intellectual-literacy",
   "metadata": {},
   "outputs": [],
   "source": [
    "all_data['mean_volumn']=all_data.groupby(['location','event_type','severity_type','log_feature','resource_type','location_fault_mean', 'has_severity_1', 'has_severity_2'])['volume'].transform('mean')"
   ]
  },
  {
   "cell_type": "code",
   "execution_count": 62,
   "id": "sublime-sound",
   "metadata": {},
   "outputs": [],
   "source": [
    "cols = all_data.select_dtypes('object').columns"
   ]
  },
  {
   "cell_type": "code",
   "execution_count": 63,
   "id": "industrial-actor",
   "metadata": {},
   "outputs": [],
   "source": [
    "def categorical_conversion(df,cat_col):\n",
    "    for i in range(len(cat_col)):\n",
    "        df[cat_col[i]]=df[cat_col[i]].astype('category')\n",
    "    return df"
   ]
  },
  {
   "cell_type": "code",
   "execution_count": 64,
   "id": "heavy-samba",
   "metadata": {},
   "outputs": [],
   "source": [
    "all_data = categorical_conversion(all_data, cols)"
   ]
  },
  {
   "cell_type": "code",
   "execution_count": 65,
   "id": "fourth-answer",
   "metadata": {},
   "outputs": [
    {
     "data": {
      "text/plain": [
       "id                        int64\n",
       "location               category\n",
       "fault_severity            int64\n",
       "event_type             category\n",
       "severity_type          category\n",
       "log_feature            category\n",
       "volume                    int64\n",
       "resource_type          category\n",
       "has_severity_1          float64\n",
       "has_severity_2          float64\n",
       "location_fault_mean     float64\n",
       "mean_volumn             float64\n",
       "dtype: object"
      ]
     },
     "execution_count": 65,
     "metadata": {},
     "output_type": "execute_result"
    }
   ],
   "source": [
    "all_data.dtypes"
   ]
  },
  {
   "cell_type": "code",
   "execution_count": 66,
   "id": "alternative-ethics",
   "metadata": {},
   "outputs": [],
   "source": [
    "def label_encoding_conversion(df,cat_col):\n",
    "    le=preprocessing.LabelEncoder()\n",
    "    for i in range(len(cat_col)):\n",
    "        df[cat_col[i]]=le.fit_transform(df[cat_col[i]])\n",
    "    return df\n"
   ]
  },
  {
   "cell_type": "code",
   "execution_count": 67,
   "id": "global-computer",
   "metadata": {},
   "outputs": [],
   "source": [
    "def one_hot_encode(df, cat_cols):\n",
    "    for col in cat_cols:\n",
    "        dummies = pd.get_dummies(df[col], drop_first=True, prefix=col)\n",
    "        df = pd.concat([df, dummies], axis=1)\n",
    "        df.drop(col, axis=1, inplace=True)\n",
    "    return df"
   ]
  },
  {
   "cell_type": "code",
   "execution_count": 68,
   "id": "cathedral-shakespeare",
   "metadata": {},
   "outputs": [],
   "source": [
    "def encode_id_from_columns(df, cols):\n",
    "    for col in cols:\n",
    "        df[col] = df[col].apply(lambda x: int(x.split(' ')[1]))\n",
    "    return df.astype('int32')"
   ]
  },
  {
   "cell_type": "code",
   "execution_count": 69,
   "id": "particular-discrimination",
   "metadata": {},
   "outputs": [
    {
     "data": {
      "text/plain": [
       "Index(['location', 'event_type', 'severity_type', 'log_feature',\n",
       "       'resource_type'],\n",
       "      dtype='object')"
      ]
     },
     "execution_count": 69,
     "metadata": {},
     "output_type": "execute_result"
    }
   ],
   "source": [
    "cols = all_data.select_dtypes('category').columns\n",
    "cols"
   ]
  },
  {
   "cell_type": "code",
   "execution_count": 70,
   "id": "quick-median",
   "metadata": {},
   "outputs": [
    {
     "data": {
      "text/html": [
       "<div>\n",
       "<style scoped>\n",
       "    .dataframe tbody tr th:only-of-type {\n",
       "        vertical-align: middle;\n",
       "    }\n",
       "\n",
       "    .dataframe tbody tr th {\n",
       "        vertical-align: top;\n",
       "    }\n",
       "\n",
       "    .dataframe thead th {\n",
       "        text-align: right;\n",
       "    }\n",
       "</style>\n",
       "<table border=\"1\" class=\"dataframe\">\n",
       "  <thead>\n",
       "    <tr style=\"text-align: right;\">\n",
       "      <th></th>\n",
       "      <th>id</th>\n",
       "      <th>location</th>\n",
       "      <th>fault_severity</th>\n",
       "      <th>event_type</th>\n",
       "      <th>severity_type</th>\n",
       "      <th>log_feature</th>\n",
       "      <th>volume</th>\n",
       "      <th>resource_type</th>\n",
       "      <th>has_severity_1</th>\n",
       "      <th>has_severity_2</th>\n",
       "      <th>location_fault_mean</th>\n",
       "      <th>mean_volumn</th>\n",
       "    </tr>\n",
       "  </thead>\n",
       "  <tbody>\n",
       "    <tr>\n",
       "      <th>0</th>\n",
       "      <td>14121</td>\n",
       "      <td>118</td>\n",
       "      <td>1</td>\n",
       "      <td>34</td>\n",
       "      <td>2</td>\n",
       "      <td>312</td>\n",
       "      <td>19</td>\n",
       "      <td>2</td>\n",
       "      <td>1</td>\n",
       "      <td>0</td>\n",
       "      <td>0</td>\n",
       "      <td>17</td>\n",
       "    </tr>\n",
       "    <tr>\n",
       "      <th>1</th>\n",
       "      <td>9320</td>\n",
       "      <td>91</td>\n",
       "      <td>0</td>\n",
       "      <td>34</td>\n",
       "      <td>2</td>\n",
       "      <td>315</td>\n",
       "      <td>200</td>\n",
       "      <td>2</td>\n",
       "      <td>1</td>\n",
       "      <td>0</td>\n",
       "      <td>0</td>\n",
       "      <td>205</td>\n",
       "    </tr>\n",
       "    <tr>\n",
       "      <th>2</th>\n",
       "      <td>14394</td>\n",
       "      <td>152</td>\n",
       "      <td>1</td>\n",
       "      <td>35</td>\n",
       "      <td>2</td>\n",
       "      <td>221</td>\n",
       "      <td>1</td>\n",
       "      <td>2</td>\n",
       "      <td>1</td>\n",
       "      <td>0</td>\n",
       "      <td>0</td>\n",
       "      <td>1</td>\n",
       "    </tr>\n",
       "    <tr>\n",
       "      <th>3</th>\n",
       "      <td>8218</td>\n",
       "      <td>931</td>\n",
       "      <td>1</td>\n",
       "      <td>15</td>\n",
       "      <td>1</td>\n",
       "      <td>80</td>\n",
       "      <td>9</td>\n",
       "      <td>8</td>\n",
       "      <td>1</td>\n",
       "      <td>1</td>\n",
       "      <td>0</td>\n",
       "      <td>5</td>\n",
       "    </tr>\n",
       "    <tr>\n",
       "      <th>4</th>\n",
       "      <td>14804</td>\n",
       "      <td>120</td>\n",
       "      <td>0</td>\n",
       "      <td>34</td>\n",
       "      <td>1</td>\n",
       "      <td>134</td>\n",
       "      <td>1</td>\n",
       "      <td>2</td>\n",
       "      <td>1</td>\n",
       "      <td>0</td>\n",
       "      <td>0</td>\n",
       "      <td>1</td>\n",
       "    </tr>\n",
       "  </tbody>\n",
       "</table>\n",
       "</div>"
      ],
      "text/plain": [
       "      id  location  fault_severity  event_type  severity_type  log_feature  \\\n",
       "0  14121       118               1          34              2          312   \n",
       "1   9320        91               0          34              2          315   \n",
       "2  14394       152               1          35              2          221   \n",
       "3   8218       931               1          15              1           80   \n",
       "4  14804       120               0          34              1          134   \n",
       "\n",
       "   volume  resource_type  has_severity_1  has_severity_2  location_fault_mean  \\\n",
       "0      19              2               1               0                    0   \n",
       "1     200              2               1               0                    0   \n",
       "2       1              2               1               0                    0   \n",
       "3       9              8               1               1                    0   \n",
       "4       1              2               1               0                    0   \n",
       "\n",
       "   mean_volumn  \n",
       "0           17  \n",
       "1          205  \n",
       "2            1  \n",
       "3            5  \n",
       "4            1  "
      ]
     },
     "execution_count": 70,
     "metadata": {},
     "output_type": "execute_result"
    }
   ],
   "source": [
    "all_data = encode_id_from_columns(all_data, cols)\n",
    "all_data.head()"
   ]
  },
  {
   "cell_type": "code",
   "execution_count": 71,
   "id": "broke-rwanda",
   "metadata": {},
   "outputs": [],
   "source": [
    "one_hot_cols = ['severity_type', 'resource_type', 'event_type', 'log_feature']\n",
    "all_data = one_hot_encode(all_data,one_hot_cols)"
   ]
  },
  {
   "cell_type": "code",
   "execution_count": 72,
   "id": "stuffed-opera",
   "metadata": {},
   "outputs": [
    {
     "name": "stdout",
     "output_type": "stream",
     "text": [
      "(18552, 340) 18552\n"
     ]
    },
    {
     "data": {
      "text/html": [
       "<div>\n",
       "<style scoped>\n",
       "    .dataframe tbody tr th:only-of-type {\n",
       "        vertical-align: middle;\n",
       "    }\n",
       "\n",
       "    .dataframe tbody tr th {\n",
       "        vertical-align: top;\n",
       "    }\n",
       "\n",
       "    .dataframe thead th {\n",
       "        text-align: right;\n",
       "    }\n",
       "</style>\n",
       "<table border=\"1\" class=\"dataframe\">\n",
       "  <thead>\n",
       "    <tr style=\"text-align: right;\">\n",
       "      <th></th>\n",
       "      <th>id</th>\n",
       "      <th>location</th>\n",
       "      <th>fault_severity</th>\n",
       "      <th>volume</th>\n",
       "      <th>has_severity_1</th>\n",
       "      <th>has_severity_2</th>\n",
       "      <th>location_fault_mean</th>\n",
       "      <th>mean_volumn</th>\n",
       "      <th>severity_type_2</th>\n",
       "      <th>severity_type_3</th>\n",
       "      <th>...</th>\n",
       "      <th>log_feature_369</th>\n",
       "      <th>log_feature_370</th>\n",
       "      <th>log_feature_374</th>\n",
       "      <th>log_feature_375</th>\n",
       "      <th>log_feature_376</th>\n",
       "      <th>log_feature_377</th>\n",
       "      <th>log_feature_378</th>\n",
       "      <th>log_feature_380</th>\n",
       "      <th>log_feature_381</th>\n",
       "      <th>log_feature_384</th>\n",
       "    </tr>\n",
       "  </thead>\n",
       "  <tbody>\n",
       "    <tr>\n",
       "      <th>0</th>\n",
       "      <td>14121</td>\n",
       "      <td>118</td>\n",
       "      <td>1</td>\n",
       "      <td>19</td>\n",
       "      <td>1</td>\n",
       "      <td>0</td>\n",
       "      <td>0</td>\n",
       "      <td>17</td>\n",
       "      <td>1</td>\n",
       "      <td>0</td>\n",
       "      <td>...</td>\n",
       "      <td>0</td>\n",
       "      <td>0</td>\n",
       "      <td>0</td>\n",
       "      <td>0</td>\n",
       "      <td>0</td>\n",
       "      <td>0</td>\n",
       "      <td>0</td>\n",
       "      <td>0</td>\n",
       "      <td>0</td>\n",
       "      <td>0</td>\n",
       "    </tr>\n",
       "    <tr>\n",
       "      <th>1</th>\n",
       "      <td>9320</td>\n",
       "      <td>91</td>\n",
       "      <td>0</td>\n",
       "      <td>200</td>\n",
       "      <td>1</td>\n",
       "      <td>0</td>\n",
       "      <td>0</td>\n",
       "      <td>205</td>\n",
       "      <td>1</td>\n",
       "      <td>0</td>\n",
       "      <td>...</td>\n",
       "      <td>0</td>\n",
       "      <td>0</td>\n",
       "      <td>0</td>\n",
       "      <td>0</td>\n",
       "      <td>0</td>\n",
       "      <td>0</td>\n",
       "      <td>0</td>\n",
       "      <td>0</td>\n",
       "      <td>0</td>\n",
       "      <td>0</td>\n",
       "    </tr>\n",
       "    <tr>\n",
       "      <th>2</th>\n",
       "      <td>14394</td>\n",
       "      <td>152</td>\n",
       "      <td>1</td>\n",
       "      <td>1</td>\n",
       "      <td>1</td>\n",
       "      <td>0</td>\n",
       "      <td>0</td>\n",
       "      <td>1</td>\n",
       "      <td>1</td>\n",
       "      <td>0</td>\n",
       "      <td>...</td>\n",
       "      <td>0</td>\n",
       "      <td>0</td>\n",
       "      <td>0</td>\n",
       "      <td>0</td>\n",
       "      <td>0</td>\n",
       "      <td>0</td>\n",
       "      <td>0</td>\n",
       "      <td>0</td>\n",
       "      <td>0</td>\n",
       "      <td>0</td>\n",
       "    </tr>\n",
       "    <tr>\n",
       "      <th>3</th>\n",
       "      <td>8218</td>\n",
       "      <td>931</td>\n",
       "      <td>1</td>\n",
       "      <td>9</td>\n",
       "      <td>1</td>\n",
       "      <td>1</td>\n",
       "      <td>0</td>\n",
       "      <td>5</td>\n",
       "      <td>0</td>\n",
       "      <td>0</td>\n",
       "      <td>...</td>\n",
       "      <td>0</td>\n",
       "      <td>0</td>\n",
       "      <td>0</td>\n",
       "      <td>0</td>\n",
       "      <td>0</td>\n",
       "      <td>0</td>\n",
       "      <td>0</td>\n",
       "      <td>0</td>\n",
       "      <td>0</td>\n",
       "      <td>0</td>\n",
       "    </tr>\n",
       "    <tr>\n",
       "      <th>4</th>\n",
       "      <td>14804</td>\n",
       "      <td>120</td>\n",
       "      <td>0</td>\n",
       "      <td>1</td>\n",
       "      <td>1</td>\n",
       "      <td>0</td>\n",
       "      <td>0</td>\n",
       "      <td>1</td>\n",
       "      <td>0</td>\n",
       "      <td>0</td>\n",
       "      <td>...</td>\n",
       "      <td>0</td>\n",
       "      <td>0</td>\n",
       "      <td>0</td>\n",
       "      <td>0</td>\n",
       "      <td>0</td>\n",
       "      <td>0</td>\n",
       "      <td>0</td>\n",
       "      <td>0</td>\n",
       "      <td>0</td>\n",
       "      <td>0</td>\n",
       "    </tr>\n",
       "  </tbody>\n",
       "</table>\n",
       "<p>5 rows × 340 columns</p>\n",
       "</div>"
      ],
      "text/plain": [
       "      id  location  fault_severity  volume  has_severity_1  has_severity_2  \\\n",
       "0  14121       118               1      19               1               0   \n",
       "1   9320        91               0     200               1               0   \n",
       "2  14394       152               1       1               1               0   \n",
       "3   8218       931               1       9               1               1   \n",
       "4  14804       120               0       1               1               0   \n",
       "\n",
       "   location_fault_mean  mean_volumn  severity_type_2  severity_type_3  ...  \\\n",
       "0                    0           17                1                0  ...   \n",
       "1                    0          205                1                0  ...   \n",
       "2                    0            1                1                0  ...   \n",
       "3                    0            5                0                0  ...   \n",
       "4                    0            1                0                0  ...   \n",
       "\n",
       "   log_feature_369  log_feature_370  log_feature_374  log_feature_375  \\\n",
       "0                0                0                0                0   \n",
       "1                0                0                0                0   \n",
       "2                0                0                0                0   \n",
       "3                0                0                0                0   \n",
       "4                0                0                0                0   \n",
       "\n",
       "   log_feature_376  log_feature_377  log_feature_378  log_feature_380  \\\n",
       "0                0                0                0                0   \n",
       "1                0                0                0                0   \n",
       "2                0                0                0                0   \n",
       "3                0                0                0                0   \n",
       "4                0                0                0                0   \n",
       "\n",
       "   log_feature_381  log_feature_384  \n",
       "0                0                0  \n",
       "1                0                0  \n",
       "2                0                0  \n",
       "3                0                0  \n",
       "4                0                0  \n",
       "\n",
       "[5 rows x 340 columns]"
      ]
     },
     "execution_count": 72,
     "metadata": {},
     "output_type": "execute_result"
    }
   ],
   "source": [
    "print(all_data.shape, (train.shape[0] + test.shape[0]))\n",
    "all_data.head()"
   ]
  },
  {
   "cell_type": "code",
   "execution_count": 73,
   "id": "mature-audit",
   "metadata": {},
   "outputs": [
    {
     "data": {
      "text/plain": [
       "((7381, 340), (11171, 340))"
      ]
     },
     "execution_count": 73,
     "metadata": {},
     "output_type": "execute_result"
    }
   ],
   "source": [
    "train = all_data[all_data['fault_severity'] >= 0]\n",
    "test = all_data[all_data['fault_severity'] == -1]\n",
    "train.shape, test.shape"
   ]
  },
  {
   "cell_type": "code",
   "execution_count": 74,
   "id": "colored-window",
   "metadata": {},
   "outputs": [],
   "source": [
    "test.drop('fault_severity', axis=1,inplace=True)"
   ]
  },
  {
   "cell_type": "markdown",
   "id": "moral-accreditation",
   "metadata": {},
   "source": [
    "### Testing different models"
   ]
  },
  {
   "cell_type": "code",
   "execution_count": 75,
   "id": "universal-association",
   "metadata": {},
   "outputs": [],
   "source": [
    "from sklearn.ensemble import RandomForestClassifier, AdaBoostClassifier, VotingClassifier\n",
    "from sklearn.linear_model import LogisticRegression \n",
    "from sklearn.preprocessing import MinMaxScaler, StandardScaler\n",
    "from sklearn.svm import SVC\n",
    "from sklearn.model_selection import train_test_split, GridSearchCV\n",
    "from sklearn.metrics import accuracy_score, confusion_matrix, classification_report"
   ]
  },
  {
   "cell_type": "code",
   "execution_count": 76,
   "id": "defined-portable",
   "metadata": {},
   "outputs": [],
   "source": [
    "X = train.copy()\n",
    "y = X['fault_severity']\n",
    "X.drop(['fault_severity', 'id'], axis=1, inplace=True)\n",
    "x_train, x_test, y_train, y_test = train_test_split(X, y, test_size=0.2, random_state=42)"
   ]
  },
  {
   "cell_type": "code",
   "execution_count": 77,
   "id": "registered-assist",
   "metadata": {},
   "outputs": [],
   "source": [
    "scaler = MinMaxScaler()\n",
    "x_train = scaler.fit_transform(x_train)\n",
    "x_test = scaler.transform(x_test)"
   ]
  },
  {
   "cell_type": "code",
   "execution_count": 78,
   "id": "hollywood-workplace",
   "metadata": {},
   "outputs": [],
   "source": [
    "rnd_clf = RandomForestClassifier()\n",
    "da_clf = AdaBoostClassifier()\n",
    "log_clf = LogisticRegression() \n",
    "svm_clf = SVC(probability=True)"
   ]
  },
  {
   "cell_type": "code",
   "execution_count": 79,
   "id": "structured-tribune",
   "metadata": {},
   "outputs": [],
   "source": [
    "voting_clf = VotingClassifier(\n",
    "estimators=[('lr', log_clf), ('rf', rnd_clf), ('svc', svm_clf), ('ada', da_clf)], voting='soft')\n",
    "#voting_clf.fit(x_train, y_train)"
   ]
  },
  {
   "cell_type": "code",
   "execution_count": 80,
   "id": "weekly-romantic",
   "metadata": {},
   "outputs": [
    {
     "name": "stdout",
     "output_type": "stream",
     "text": [
      "RandomForestClassifier 0.7156398104265402\n",
      "AdaBoostClassifier 0.6892349356804333\n",
      "LogisticRegression 0.7136086662153013\n",
      "SVC 0.7176709546377793\n",
      "VotingClassifier 0.7271496276235613\n"
     ]
    }
   ],
   "source": [
    "clfs = [rnd_clf, da_clf, log_clf, svm_clf, voting_clf]\n",
    "for clf in clfs:\n",
    "    clf.fit(x_train, y_train)\n",
    "    y_pred = clf.predict(x_test)\n",
    "    print(clf.__class__.__name__, accuracy_score(y_test, y_pred)) "
   ]
  },
  {
   "cell_type": "code",
   "execution_count": 118,
   "id": "constant-place",
   "metadata": {
    "collapsed": true,
    "jupyter": {
     "outputs_hidden": true
    }
   },
   "outputs": [
    {
     "data": {
      "text/plain": [
       "{0.12615782528199498: 'id',\n",
       " 0.16911350998808278: 'location',\n",
       " 0.21973863700898102: 'fault_severity',\n",
       " 0.05307043255702785: 'volume',\n",
       " 0.03292531096605325: 'location_fault_mean',\n",
       " 0.0957499612991713: 'has_severity_1',\n",
       " 0.023104770082245544: 'has_severity_2',\n",
       " 5.3284815477297126e-05: 'mean_volumn',\n",
       " 0.010205354867491252: 'severity_type_2',\n",
       " 0.00041988696719021606: 'severity_type_3',\n",
       " 0.0007016850973964706: 'severity_type_4',\n",
       " 0.01440425146744589: 'severity_type_5',\n",
       " 0.0007835700190901204: 'resource_type_10',\n",
       " 0.0017070824098888492: 'resource_type_2',\n",
       " 0.0: 'log_feature_94',\n",
       " 0.002757128031333259: 'resource_type_4',\n",
       " 0.0018599354897398084: 'resource_type_5',\n",
       " 0.012584990581653039: 'resource_type_6',\n",
       " 0.0009227434699362007: 'resource_type_7',\n",
       " 0.0012473763644781117: 'resource_type_8',\n",
       " 0.008897242254227186: 'resource_type_9',\n",
       " 8.309485894229902e-05: 'event_type_10',\n",
       " 0.0030519322870347157: 'event_type_11',\n",
       " 0.002075564367496917: 'event_type_12',\n",
       " 0.011151293886289682: 'event_type_13',\n",
       " 0.001121694960327783: 'event_type_15',\n",
       " 0.0001810608554473542: 'event_type_18',\n",
       " 0.0035516715260677932: 'event_type_19',\n",
       " 0.0008404927014378862: 'event_type_2',\n",
       " 0.0012755365168071622: 'event_type_20',\n",
       " 0.00224872454364389: 'event_type_21',\n",
       " 0.0004706815359751352: 'event_type_22',\n",
       " 2.5731552537489092e-06: 'event_type_23',\n",
       " 0.00024671788553335517: 'event_type_24',\n",
       " 0.00014452440500513437: 'event_type_25',\n",
       " 0.00010279933721798672: 'event_type_26',\n",
       " 0.0003667630551276734: 'event_type_27',\n",
       " 9.234531466874628e-05: 'event_type_28',\n",
       " 0.00038006896170416894: 'event_type_29',\n",
       " 0.00024817187241913747: 'event_type_3',\n",
       " 0.00038758602149499934: 'event_type_30',\n",
       " 0.006079804850773315: 'event_type_31',\n",
       " 0.006771389718203483: 'event_type_32',\n",
       " 0.0002408611266404745: 'event_type_36',\n",
       " 0.0001957244600872049: 'event_type_37',\n",
       " 0.000509171459971606: 'event_type_38',\n",
       " 0.0016708313452982778: 'event_type_39',\n",
       " 0.0010578760166614289: 'event_type_40',\n",
       " 0.0021800921475861688: 'event_type_42',\n",
       " 0.00037947777244917925: 'event_type_43',\n",
       " 0.00021954929943194092: 'event_type_44',\n",
       " 0.0006521508566701917: 'event_type_45',\n",
       " 2.2119333087859818e-05: 'event_type_46',\n",
       " 0.0002025260575571088: 'event_type_47',\n",
       " 0.00039834941882731505: 'event_type_48',\n",
       " 0.0008041654601972856: 'event_type_49',\n",
       " 3.5751204944631494e-05: 'event_type_5',\n",
       " 0.00020550119674554257: 'event_type_50',\n",
       " 0.0030555996504360384: 'event_type_51',\n",
       " 0.0002398016482939853: 'event_type_53',\n",
       " 0.0005100980705403861: 'event_type_54',\n",
       " 2.094636757331893e-05: 'event_type_6',\n",
       " 7.58243508224337e-06: 'event_type_7',\n",
       " 0.000156890225390956: 'event_type_8',\n",
       " 3.6533211858295214e-05: 'event_type_9',\n",
       " 0.0005158522068737933: 'log_feature_10',\n",
       " 8.252028330912083e-06: 'log_feature_101',\n",
       " 5.639692050659931e-05: 'log_feature_103',\n",
       " 0.00010011364967758496: 'log_feature_104',\n",
       " 5.8495554347802154e-05: 'log_feature_106',\n",
       " 0.00015089762456608707: 'log_feature_107',\n",
       " 0.0002684854629246694: 'log_feature_11',\n",
       " 0.0001494142991979154: 'log_feature_111',\n",
       " 7.900872478713303e-05: 'log_feature_114',\n",
       " 0.0006331257614304906: 'log_feature_115',\n",
       " 1.4595498259730231e-05: 'log_feature_119',\n",
       " 0.0001975985412209215: 'log_feature_125',\n",
       " 6.228918193105667e-06: 'log_feature_129',\n",
       " 0.0003201466355302935: 'log_feature_130',\n",
       " 0.00023983812615289125: 'log_feature_131',\n",
       " 0.0024862139902212033: 'log_feature_132',\n",
       " 0.000619366252763192: 'log_feature_133',\n",
       " 9.95506347428435e-05: 'log_feature_134',\n",
       " 0.00040357840458510156: 'log_feature_135',\n",
       " 0.00018546125489426975: 'log_feature_139',\n",
       " 0.00011660469980843381: 'log_feature_140',\n",
       " 4.716516273858785e-05: 'log_feature_141',\n",
       " 2.1665317165155393e-05: 'log_feature_145',\n",
       " 1.2263679786449043e-06: 'log_feature_146',\n",
       " 0.00010389789312350384: 'log_feature_149',\n",
       " 5.900736794739686e-05: 'log_feature_15',\n",
       " 0.00011669900371853914: 'log_feature_150',\n",
       " 0.0004482889818378447: 'log_feature_152',\n",
       " 0.001053714812209188: 'log_feature_153',\n",
       " 4.621752419657873e-05: 'log_feature_154',\n",
       " 0.0008970267304229238: 'log_feature_155',\n",
       " 0.00019284223006800754: 'log_feature_156',\n",
       " 0.00035067357938616586: 'log_feature_158',\n",
       " 0.00037368143309507646: 'log_feature_159',\n",
       " 0.00012814859334042767: 'log_feature_160',\n",
       " 0.0003937853851610342: 'log_feature_161',\n",
       " 0.0005430368543053362: 'log_feature_163',\n",
       " 0.0005908515013237853: 'log_feature_165',\n",
       " 1.7498203740534397e-05: 'log_feature_166',\n",
       " 0.00021433964817298522: 'log_feature_167',\n",
       " 0.00601801410180777: 'log_feature_168',\n",
       " 0.0017133088691042003: 'log_feature_169',\n",
       " 0.0014147325480459152: 'log_feature_170',\n",
       " 0.00018446570781505668: 'log_feature_172',\n",
       " 8.922566852744964e-05: 'log_feature_173',\n",
       " 0.00024253640496838666: 'log_feature_176',\n",
       " 0.001292996981173222: 'log_feature_177',\n",
       " 0.00010850927622452137: 'log_feature_178',\n",
       " 0.000686403759882847: 'log_feature_179',\n",
       " 0.0012817419763927532: 'log_feature_18',\n",
       " 0.00020817292155473051: 'log_feature_181',\n",
       " 9.220265815284667e-05: 'log_feature_184',\n",
       " 0.0008316711433069349: 'log_feature_185',\n",
       " 0.0003110600719752027: 'log_feature_186',\n",
       " 8.091001889622998e-05: 'log_feature_188',\n",
       " 0.0006539128007507356: 'log_feature_189',\n",
       " 0.004049053580106383: 'log_feature_190',\n",
       " 0.002464603311566657: 'log_feature_193',\n",
       " 0.0011479720980792358: 'log_feature_194',\n",
       " 0.0006062176819380391: 'log_feature_195',\n",
       " 0.0009171271171149538: 'log_feature_196',\n",
       " 0.0001778834691599351: 'log_feature_198',\n",
       " 0.0002255598910407273: 'log_feature_199',\n",
       " 0.00033485366688519103: 'log_feature_2',\n",
       " 0.0039227306824690875: 'log_feature_20',\n",
       " 0.0019805870836072264: 'log_feature_200',\n",
       " 0.011935627020271991: 'log_feature_201',\n",
       " 0.0003589488251330542: 'log_feature_202',\n",
       " 0.000875827187356189: 'log_feature_203',\n",
       " 0.0005192174374669983: 'log_feature_204',\n",
       " 0.0013645427222365013: 'log_feature_205',\n",
       " 0.0016651690737737187: 'log_feature_206',\n",
       " 0.00046671715844475277: 'log_feature_207',\n",
       " 0.00010896415157372111: 'log_feature_209',\n",
       " 5.459213615136717e-06: 'log_feature_212',\n",
       " 0.0003176653246408834: 'log_feature_214',\n",
       " 0.0003713154878493225: 'log_feature_215',\n",
       " 0.0024249621030351535: 'log_feature_217',\n",
       " 0.00011874857959677045: 'log_feature_218',\n",
       " 0.0008563457381908205: 'log_feature_219',\n",
       " 0.0016495451970399077: 'log_feature_22',\n",
       " 0.0009704729949627775: 'log_feature_220',\n",
       " 0.0017851421786593408: 'log_feature_221',\n",
       " 0.00018744895424671523: 'log_feature_222',\n",
       " 5.58987595665694e-05: 'log_feature_223',\n",
       " 0.002488298704483087: 'log_feature_224',\n",
       " 0.0007066641585352742: 'log_feature_225',\n",
       " 0.0004032368687057258: 'log_feature_227',\n",
       " 0.0001419746864838806: 'log_feature_228',\n",
       " 0.0030082260099839253: 'log_feature_230',\n",
       " 0.0015819920325710665: 'log_feature_231',\n",
       " 0.0005632193388192846: 'log_feature_232',\n",
       " 0.0008483818613380171: 'log_feature_233',\n",
       " 1.6064454660834548e-07: 'log_feature_234',\n",
       " 7.908431334927932e-05: 'log_feature_235',\n",
       " 0.00019419169708363292: 'log_feature_236',\n",
       " 0.00018387889209818832: 'log_feature_237',\n",
       " 0.00012848941124122867: 'log_feature_238',\n",
       " 9.814351876863672e-05: 'log_feature_241',\n",
       " 5.326664003259476e-05: 'log_feature_243',\n",
       " 1.4760535557582436e-05: 'log_feature_245',\n",
       " 2.4952853799901863e-05: 'log_feature_246',\n",
       " 1.877001653972407e-05: 'log_feature_265',\n",
       " 0.00015716710308366478: 'log_feature_268',\n",
       " 0.00228508269241578: 'log_feature_27',\n",
       " 0.00012799384007340317: 'log_feature_273',\n",
       " 0.00030347249226055485: 'log_feature_275',\n",
       " 0.00030008953013433017: 'log_feature_277',\n",
       " 0.0005399962363785396: 'log_feature_278',\n",
       " 0.0013571476536107273: 'log_feature_279',\n",
       " 0.00011425296002181944: 'log_feature_280',\n",
       " 0.00043314716660283476: 'log_feature_283',\n",
       " 0.0004650946821147124: 'log_feature_284',\n",
       " 0.0005567469722510227: 'log_feature_285',\n",
       " 0.0006352240174226156: 'log_feature_289',\n",
       " 0.001568977406471153: 'log_feature_29',\n",
       " 7.868586488425046e-05: 'log_feature_291',\n",
       " 0.00023414093880471453: 'log_feature_297',\n",
       " 0.0017695203502721675: 'log_feature_299',\n",
       " 4.4721593368308916e-05: 'log_feature_30',\n",
       " 0.0001719524210513958: 'log_feature_301',\n",
       " 0.0004541846832161969: 'log_feature_303',\n",
       " 0.0022989252066736984: 'log_feature_304',\n",
       " 0.002160377388265219: 'log_feature_305',\n",
       " 0.0006931611064837996: 'log_feature_306',\n",
       " 0.000602978398339026: 'log_feature_307',\n",
       " 0.00036021648059968717: 'log_feature_308',\n",
       " 5.8087993277394e-07: 'log_feature_309',\n",
       " 0.004028582329011107: 'log_feature_310',\n",
       " 0.0024834343444485327: 'log_feature_311',\n",
       " 0.00111024655850103: 'log_feature_312',\n",
       " 0.0013812970267623767: 'log_feature_313',\n",
       " 1.5572236684903353e-06: 'log_feature_314',\n",
       " 0.00014700789231363506: 'log_feature_315',\n",
       " 0.00023167649139480963: 'log_feature_316',\n",
       " 0.00028610905933304926: 'log_feature_317',\n",
       " 1.136976560239578e-05: 'log_feature_319',\n",
       " 8.07663338623437e-05: 'log_feature_327',\n",
       " 0.0018857340917454446: 'log_feature_332',\n",
       " 9.35038377015853e-05: 'log_feature_339',\n",
       " 0.00010859261909641291: 'log_feature_345',\n",
       " 0.0004575600667585556: 'log_feature_348',\n",
       " 6.240400440054176e-05: 'log_feature_349',\n",
       " 0.00019647687921924118: 'log_feature_35',\n",
       " 6.117919098037704e-06: 'log_feature_354',\n",
       " 0.00024054792379042976: 'log_feature_357',\n",
       " 0.0010741815802903915: 'log_feature_359',\n",
       " 4.094524250536078e-06: 'log_feature_36',\n",
       " 0.0005588788597104835: 'log_feature_360',\n",
       " 4.480664734215893e-06: 'log_feature_361',\n",
       " 1.4462968730952489e-06: 'log_feature_362',\n",
       " 0.0014055114421706548: 'log_feature_366',\n",
       " 0.0001709821655942082: 'log_feature_367',\n",
       " 0.0001500385485510945: 'log_feature_368',\n",
       " 0.00031937616472217737: 'log_feature_369',\n",
       " 0.0007757026709907996: 'log_feature_37',\n",
       " 0.0008489229278304157: 'log_feature_370',\n",
       " 0.0012974343725058004: 'log_feature_374',\n",
       " 3.222079102056266e-05: 'log_feature_375',\n",
       " 0.00037229445230040347: 'log_feature_376',\n",
       " 0.00011052162138215489: 'log_feature_380',\n",
       " 0.00022496780170503603: 'log_feature_381',\n",
       " 0.0002678908100065919: 'log_feature_39',\n",
       " 3.9310686620920095e-05: 'log_feature_4',\n",
       " 0.0004967420527935013: 'log_feature_40',\n",
       " 0.0008426773691695011: 'log_feature_42',\n",
       " 0.000639089993591454: 'log_feature_43',\n",
       " 0.00012430246231894755: 'log_feature_44',\n",
       " 0.0005515565325551438: 'log_feature_45',\n",
       " 4.653952306906768e-06: 'log_feature_48',\n",
       " 0.00035322517842341285: 'log_feature_49',\n",
       " 0.00019006321364488455: 'log_feature_50',\n",
       " 0.0007103321187746024: 'log_feature_51',\n",
       " 0.006021473595589412: 'log_feature_52',\n",
       " 0.0022526511669166546: 'log_feature_53',\n",
       " 0.0011339541339557809: 'log_feature_54',\n",
       " 0.0003709824004506431: 'log_feature_56',\n",
       " 1.1859443934507352e-05: 'log_feature_58',\n",
       " 0.0007113247056751733: 'log_feature_60',\n",
       " 0.000738367177419218: 'log_feature_61',\n",
       " 5.663076457120524e-05: 'log_feature_62',\n",
       " 0.00021253813593598875: 'log_feature_63',\n",
       " 0.0006306168405566609: 'log_feature_64',\n",
       " 0.005107817201739105: 'log_feature_66',\n",
       " 0.0001523881757015869: 'log_feature_67',\n",
       " 0.0015765905627643908: 'log_feature_69',\n",
       " 0.004972477576705468: 'log_feature_7',\n",
       " 0.003659769199459481: 'log_feature_70',\n",
       " 0.0015419843628490726: 'log_feature_71',\n",
       " 0.0011910032119894338: 'log_feature_73',\n",
       " 0.00037157191012253166: 'log_feature_74',\n",
       " 0.0001051449731087012: 'log_feature_75',\n",
       " 7.177011797572253e-05: 'log_feature_77',\n",
       " 0.00010367731024276634: 'log_feature_78',\n",
       " 0.004032331606669696: 'log_feature_79',\n",
       " 0.001557916521309777: 'log_feature_8',\n",
       " 0.0064977034923992235: 'log_feature_80',\n",
       " 0.00042617871361203273: 'log_feature_81',\n",
       " 0.00013850073391996785: 'log_feature_82',\n",
       " 0.0003250164813913548: 'log_feature_83',\n",
       " 0.0010540618119543297: 'log_feature_84',\n",
       " 0.0020259369646899454: 'log_feature_85',\n",
       " 7.228516633500296e-05: 'log_feature_86',\n",
       " 0.0005854383429773916: 'log_feature_90',\n",
       " 0.00011000214504931455: 'log_feature_93',\n",
       " 8.008740355104242e-05: 'log_feature_95'}"
      ]
     },
     "execution_count": 118,
     "metadata": {},
     "output_type": "execute_result"
    }
   ],
   "source": [
    "dict(zip(rnd_clf.feature_importances_, x_train.columns))"
   ]
  },
  {
   "cell_type": "markdown",
   "id": "maritime-guyana",
   "metadata": {},
   "source": [
    "### Dimensionality reduction"
   ]
  },
  {
   "cell_type": "code",
   "execution_count": 119,
   "id": "numerical-cleaners",
   "metadata": {},
   "outputs": [],
   "source": [
    "from sklearn.decomposition import PCA"
   ]
  },
  {
   "cell_type": "code",
   "execution_count": 120,
   "id": "undefined-technician",
   "metadata": {
    "collapsed": true,
    "jupyter": {
     "outputs_hidden": true
    }
   },
   "outputs": [
    {
     "data": {
      "text/plain": [
       "array([0.28193999, 0.10950475, 0.07872005, 0.05493997, 0.04618073,\n",
       "       0.03304066, 0.02757757, 0.02126172, 0.02041787, 0.01752729,\n",
       "       0.01524834, 0.01280427, 0.01203151, 0.01169067, 0.01049247,\n",
       "       0.00985348, 0.00876488, 0.00795401, 0.00777893, 0.00773687,\n",
       "       0.00738739, 0.00720684, 0.00651969, 0.00640248, 0.00638589,\n",
       "       0.00607236, 0.0057869 , 0.00552316, 0.00518312, 0.00474724,\n",
       "       0.00460648, 0.00439903, 0.00416068, 0.00406739, 0.00399895,\n",
       "       0.00394296, 0.00379968, 0.00359511, 0.00342725, 0.00325079,\n",
       "       0.00319658, 0.0027807 ])"
      ]
     },
     "execution_count": 120,
     "metadata": {},
     "output_type": "execute_result"
    }
   ],
   "source": [
    "pca = PCA(n_components=0.9)\n",
    "x_train_compressed = pca.fit_transform(x_train) #later all train data\n",
    "x_test_compressed = pca.transform(x_test)\n",
    "pca.explained_variance_ratio_"
   ]
  },
  {
   "cell_type": "code",
   "execution_count": 121,
   "id": "realistic-apartment",
   "metadata": {
    "collapsed": true,
    "jupyter": {
     "outputs_hidden": true
    }
   },
   "outputs": [
    {
     "data": {
      "text/plain": [
       "array([[-5.23662571e-01, -2.97101904e-01, -7.49868956e-01, ...,\n",
       "         3.01065328e-02,  2.09116470e-02, -9.62972782e-02],\n",
       "       [ 1.11429837e+00,  2.17347094e-01,  2.47374134e-01, ...,\n",
       "         2.72567539e-03,  3.28681861e-03,  4.88953649e-02],\n",
       "       [-2.45782678e-01,  4.91013461e-01, -1.03082400e+00, ...,\n",
       "         9.54740905e-03,  2.57337299e-03, -7.37461212e-02],\n",
       "       ...,\n",
       "       [ 1.16022653e+00,  2.00690150e-01,  2.33545994e-01, ...,\n",
       "        -1.26764911e-02, -4.90951099e-03,  1.27544691e-02],\n",
       "       [ 6.57701030e-01, -5.83109446e-01,  3.67445248e-01, ...,\n",
       "        -4.28609080e-02, -2.65425401e-02, -1.93404438e-02],\n",
       "       [ 1.06997609e+00,  2.77142715e-01, -1.47444103e-01, ...,\n",
       "        -3.01344768e-03, -3.82911255e-03,  1.13159476e-03]])"
      ]
     },
     "execution_count": 121,
     "metadata": {},
     "output_type": "execute_result"
    }
   ],
   "source": [
    "x_train_compressed"
   ]
  },
  {
   "cell_type": "code",
   "execution_count": 122,
   "id": "located-resource",
   "metadata": {},
   "outputs": [
    {
     "data": {
      "text/plain": [
       "RandomForestClassifier()"
      ]
     },
     "execution_count": 122,
     "metadata": {},
     "output_type": "execute_result"
    }
   ],
   "source": [
    "rfc = RandomForestClassifier()\n",
    "rfc.fit(x_train_compressed, y_train)"
   ]
  },
  {
   "cell_type": "code",
   "execution_count": 123,
   "id": "subjective-invite",
   "metadata": {},
   "outputs": [],
   "source": [
    "pred = rfc.predict(x_test_compressed)"
   ]
  },
  {
   "cell_type": "code",
   "execution_count": 124,
   "id": "ranking-dependence",
   "metadata": {},
   "outputs": [
    {
     "name": "stdout",
     "output_type": "stream",
     "text": [
      "0.6953283683141503\n"
     ]
    }
   ],
   "source": [
    "print(accuracy_score(y_test,pred)) # it got a bit worse"
   ]
  },
  {
   "cell_type": "markdown",
   "id": "broad-michigan",
   "metadata": {},
   "source": [
    "It didnt help"
   ]
  },
  {
   "cell_type": "code",
   "execution_count": 81,
   "id": "respiratory-indonesia",
   "metadata": {
    "collapsed": true,
    "jupyter": {
     "outputs_hidden": true
    }
   },
   "outputs": [
    {
     "name": "stdout",
     "output_type": "stream",
     "text": [
      "Collecting xgboost\n",
      "  Downloading xgboost-1.3.3-py3-none-manylinux2010_x86_64.whl (157.5 MB)\n",
      "\u001b[K     |████████████████████████████████| 157.5 MB 27 kB/s s eta 0:00:01\n",
      "\u001b[?25hRequirement already satisfied: numpy in /home/ec2-user/anaconda3/envs/python3/lib/python3.6/site-packages (from xgboost) (1.19.5)\n",
      "Requirement already satisfied: scipy in /home/ec2-user/anaconda3/envs/python3/lib/python3.6/site-packages (from xgboost) (1.5.3)\n",
      "Installing collected packages: xgboost\n",
      "Successfully installed xgboost-1.3.3\n"
     ]
    }
   ],
   "source": [
    "!pip install xgboost"
   ]
  },
  {
   "cell_type": "code",
   "execution_count": 82,
   "id": "presidential-battlefield",
   "metadata": {},
   "outputs": [],
   "source": [
    "import xgboost as xgb"
   ]
  },
  {
   "cell_type": "code",
   "execution_count": 83,
   "id": "general-contrast",
   "metadata": {},
   "outputs": [],
   "source": [
    "def plot_confusion_matrix(cm, classes, normalized=True, cmap='bone'):\n",
    "    plt.figure(figsize=[7, 6])\n",
    "    norm_cm = cm\n",
    "    if normalized:\n",
    "        norm_cm = cm.astype('float') / cm.sum(axis=1)[:, np.newaxis]\n",
    "        sns.heatmap(norm_cm, annot=cm, fmt='g', xticklabels=classes, yticklabels=classes, cmap=cmap)\n"
   ]
  },
  {
   "cell_type": "code",
   "execution_count": 84,
   "id": "optical-america",
   "metadata": {},
   "outputs": [],
   "source": [
    "# Functionalize model fittting\n",
    "def FitModel(x_train,y_train, x_test, y_test, algorithm,gridSearchParams,cv):\n",
    "    grid = GridSearchCV(\n",
    "        estimator=algorithm,\n",
    "        param_grid=gridSearchParams,\n",
    "        cv=cv, scoring='accuracy', verbose=1, n_jobs=-1)\n",
    "    \n",
    "    print('Training Started...')\n",
    "    grid_result = grid.fit(x_train, y_train)\n",
    "    best_params = grid_result.best_params_\n",
    "    print()\n",
    "    print('Predicting on Test Set...')\n",
    "    pred = grid_result.predict(x_test)\n",
    "    cm = confusion_matrix(y_test, pred)\n",
    "\n",
    "    print('Best Params :',best_params)\n",
    "    print('Accuracy Score : ' + str(accuracy_score(y_test,pred)))\n",
    "    \n",
    "    plot_confusion_matrix(cm, ['0', '1', '2'])\n",
    "    return grid_result"
   ]
  },
  {
   "cell_type": "code",
   "execution_count": 88,
   "id": "creative-clone",
   "metadata": {
    "collapsed": true,
    "jupyter": {
     "outputs_hidden": true
    }
   },
   "outputs": [
    {
     "name": "stdout",
     "output_type": "stream",
     "text": [
      "Training Started...\n",
      "Fitting 5 folds for each of 1 candidates, totalling 5 fits\n"
     ]
    },
    {
     "ename": "KeyboardInterrupt",
     "evalue": "",
     "output_type": "error",
     "traceback": [
      "\u001b[0;31m---------------------------------------------------------------------------\u001b[0m",
      "\u001b[0;31mKeyboardInterrupt\u001b[0m                         Traceback (most recent call last)",
      "\u001b[0;32m<ipython-input-88-8f6288ce3afa>\u001b[0m in \u001b[0;36m<module>\u001b[0;34m\u001b[0m\n\u001b[1;32m      4\u001b[0m \u001b[0;34m\u001b[0m\u001b[0m\n\u001b[1;32m      5\u001b[0m         }\n\u001b[0;32m----> 6\u001b[0;31m \u001b[0mmodel\u001b[0m \u001b[0;34m=\u001b[0m \u001b[0mFitModel\u001b[0m\u001b[0;34m(\u001b[0m\u001b[0mx_train\u001b[0m\u001b[0;34m,\u001b[0m\u001b[0my_train\u001b[0m\u001b[0;34m,\u001b[0m \u001b[0mx_test\u001b[0m\u001b[0;34m,\u001b[0m \u001b[0my_test\u001b[0m\u001b[0;34m,\u001b[0m\u001b[0mxgb\u001b[0m\u001b[0;34m.\u001b[0m\u001b[0mXGBClassifier\u001b[0m\u001b[0;34m(\u001b[0m\u001b[0mn_jobs\u001b[0m\u001b[0;34m=\u001b[0m\u001b[0;34m-\u001b[0m\u001b[0;36m1\u001b[0m\u001b[0;34m,\u001b[0m\u001b[0mobjective\u001b[0m\u001b[0;34m=\u001b[0m\u001b[0;34m'softprob'\u001b[0m\u001b[0;34m,\u001b[0m \u001b[0mn_estimators\u001b[0m\u001b[0;34m=\u001b[0m\u001b[0;36m250\u001b[0m\u001b[0;34m,\u001b[0m \u001b[0mmax_depth\u001b[0m\u001b[0;34m=\u001b[0m\u001b[0;36m8\u001b[0m\u001b[0;34m)\u001b[0m\u001b[0;34m,\u001b[0m\u001b[0mparam\u001b[0m\u001b[0;34m,\u001b[0m\u001b[0mcv\u001b[0m\u001b[0;34m=\u001b[0m\u001b[0;36m5\u001b[0m\u001b[0;34m)\u001b[0m\u001b[0;34m\u001b[0m\u001b[0;34m\u001b[0m\u001b[0m\n\u001b[0m",
      "\u001b[0;32m<ipython-input-84-fac3f80cd943>\u001b[0m in \u001b[0;36mFitModel\u001b[0;34m(x_train, y_train, x_test, y_test, algorithm, gridSearchParams, cv)\u001b[0m\n\u001b[1;32m      7\u001b[0m \u001b[0;34m\u001b[0m\u001b[0m\n\u001b[1;32m      8\u001b[0m     \u001b[0mprint\u001b[0m\u001b[0;34m(\u001b[0m\u001b[0;34m'Training Started...'\u001b[0m\u001b[0;34m)\u001b[0m\u001b[0;34m\u001b[0m\u001b[0;34m\u001b[0m\u001b[0m\n\u001b[0;32m----> 9\u001b[0;31m     \u001b[0mgrid_result\u001b[0m \u001b[0;34m=\u001b[0m \u001b[0mgrid\u001b[0m\u001b[0;34m.\u001b[0m\u001b[0mfit\u001b[0m\u001b[0;34m(\u001b[0m\u001b[0mx_train\u001b[0m\u001b[0;34m,\u001b[0m \u001b[0my_train\u001b[0m\u001b[0;34m)\u001b[0m\u001b[0;34m\u001b[0m\u001b[0;34m\u001b[0m\u001b[0m\n\u001b[0m\u001b[1;32m     10\u001b[0m     \u001b[0mbest_params\u001b[0m \u001b[0;34m=\u001b[0m \u001b[0mgrid_result\u001b[0m\u001b[0;34m.\u001b[0m\u001b[0mbest_params_\u001b[0m\u001b[0;34m\u001b[0m\u001b[0;34m\u001b[0m\u001b[0m\n\u001b[1;32m     11\u001b[0m     \u001b[0mprint\u001b[0m\u001b[0;34m(\u001b[0m\u001b[0;34m)\u001b[0m\u001b[0;34m\u001b[0m\u001b[0;34m\u001b[0m\u001b[0m\n",
      "\u001b[0;32m~/anaconda3/envs/python3/lib/python3.6/site-packages/sklearn/utils/validation.py\u001b[0m in \u001b[0;36minner_f\u001b[0;34m(*args, **kwargs)\u001b[0m\n\u001b[1;32m     61\u001b[0m             \u001b[0mextra_args\u001b[0m \u001b[0;34m=\u001b[0m \u001b[0mlen\u001b[0m\u001b[0;34m(\u001b[0m\u001b[0margs\u001b[0m\u001b[0;34m)\u001b[0m \u001b[0;34m-\u001b[0m \u001b[0mlen\u001b[0m\u001b[0;34m(\u001b[0m\u001b[0mall_args\u001b[0m\u001b[0;34m)\u001b[0m\u001b[0;34m\u001b[0m\u001b[0;34m\u001b[0m\u001b[0m\n\u001b[1;32m     62\u001b[0m             \u001b[0;32mif\u001b[0m \u001b[0mextra_args\u001b[0m \u001b[0;34m<=\u001b[0m \u001b[0;36m0\u001b[0m\u001b[0;34m:\u001b[0m\u001b[0;34m\u001b[0m\u001b[0;34m\u001b[0m\u001b[0m\n\u001b[0;32m---> 63\u001b[0;31m                 \u001b[0;32mreturn\u001b[0m \u001b[0mf\u001b[0m\u001b[0;34m(\u001b[0m\u001b[0;34m*\u001b[0m\u001b[0margs\u001b[0m\u001b[0;34m,\u001b[0m \u001b[0;34m**\u001b[0m\u001b[0mkwargs\u001b[0m\u001b[0;34m)\u001b[0m\u001b[0;34m\u001b[0m\u001b[0;34m\u001b[0m\u001b[0m\n\u001b[0m\u001b[1;32m     64\u001b[0m \u001b[0;34m\u001b[0m\u001b[0m\n\u001b[1;32m     65\u001b[0m             \u001b[0;31m# extra_args > 0\u001b[0m\u001b[0;34m\u001b[0m\u001b[0;34m\u001b[0m\u001b[0;34m\u001b[0m\u001b[0m\n",
      "\u001b[0;32m~/anaconda3/envs/python3/lib/python3.6/site-packages/sklearn/model_selection/_search.py\u001b[0m in \u001b[0;36mfit\u001b[0;34m(self, X, y, groups, **fit_params)\u001b[0m\n\u001b[1;32m    839\u001b[0m                 \u001b[0;32mreturn\u001b[0m \u001b[0mresults\u001b[0m\u001b[0;34m\u001b[0m\u001b[0;34m\u001b[0m\u001b[0m\n\u001b[1;32m    840\u001b[0m \u001b[0;34m\u001b[0m\u001b[0m\n\u001b[0;32m--> 841\u001b[0;31m             \u001b[0mself\u001b[0m\u001b[0;34m.\u001b[0m\u001b[0m_run_search\u001b[0m\u001b[0;34m(\u001b[0m\u001b[0mevaluate_candidates\u001b[0m\u001b[0;34m)\u001b[0m\u001b[0;34m\u001b[0m\u001b[0;34m\u001b[0m\u001b[0m\n\u001b[0m\u001b[1;32m    842\u001b[0m \u001b[0;34m\u001b[0m\u001b[0m\n\u001b[1;32m    843\u001b[0m             \u001b[0;31m# multimetric is determined here because in the case of a callable\u001b[0m\u001b[0;34m\u001b[0m\u001b[0;34m\u001b[0m\u001b[0;34m\u001b[0m\u001b[0m\n",
      "\u001b[0;32m~/anaconda3/envs/python3/lib/python3.6/site-packages/sklearn/model_selection/_search.py\u001b[0m in \u001b[0;36m_run_search\u001b[0;34m(self, evaluate_candidates)\u001b[0m\n\u001b[1;32m   1286\u001b[0m     \u001b[0;32mdef\u001b[0m \u001b[0m_run_search\u001b[0m\u001b[0;34m(\u001b[0m\u001b[0mself\u001b[0m\u001b[0;34m,\u001b[0m \u001b[0mevaluate_candidates\u001b[0m\u001b[0;34m)\u001b[0m\u001b[0;34m:\u001b[0m\u001b[0;34m\u001b[0m\u001b[0;34m\u001b[0m\u001b[0m\n\u001b[1;32m   1287\u001b[0m         \u001b[0;34m\"\"\"Search all candidates in param_grid\"\"\"\u001b[0m\u001b[0;34m\u001b[0m\u001b[0;34m\u001b[0m\u001b[0m\n\u001b[0;32m-> 1288\u001b[0;31m         \u001b[0mevaluate_candidates\u001b[0m\u001b[0;34m(\u001b[0m\u001b[0mParameterGrid\u001b[0m\u001b[0;34m(\u001b[0m\u001b[0mself\u001b[0m\u001b[0;34m.\u001b[0m\u001b[0mparam_grid\u001b[0m\u001b[0;34m)\u001b[0m\u001b[0;34m)\u001b[0m\u001b[0;34m\u001b[0m\u001b[0;34m\u001b[0m\u001b[0m\n\u001b[0m\u001b[1;32m   1289\u001b[0m \u001b[0;34m\u001b[0m\u001b[0m\n\u001b[1;32m   1290\u001b[0m \u001b[0;34m\u001b[0m\u001b[0m\n",
      "\u001b[0;32m~/anaconda3/envs/python3/lib/python3.6/site-packages/sklearn/model_selection/_search.py\u001b[0m in \u001b[0;36mevaluate_candidates\u001b[0;34m(candidate_params, cv, more_results)\u001b[0m\n\u001b[1;32m    807\u001b[0m                                    (split_idx, (train, test)) in product(\n\u001b[1;32m    808\u001b[0m                                    \u001b[0menumerate\u001b[0m\u001b[0;34m(\u001b[0m\u001b[0mcandidate_params\u001b[0m\u001b[0;34m)\u001b[0m\u001b[0;34m,\u001b[0m\u001b[0;34m\u001b[0m\u001b[0;34m\u001b[0m\u001b[0m\n\u001b[0;32m--> 809\u001b[0;31m                                    enumerate(cv.split(X, y, groups))))\n\u001b[0m\u001b[1;32m    810\u001b[0m \u001b[0;34m\u001b[0m\u001b[0m\n\u001b[1;32m    811\u001b[0m                 \u001b[0;32mif\u001b[0m \u001b[0mlen\u001b[0m\u001b[0;34m(\u001b[0m\u001b[0mout\u001b[0m\u001b[0;34m)\u001b[0m \u001b[0;34m<\u001b[0m \u001b[0;36m1\u001b[0m\u001b[0;34m:\u001b[0m\u001b[0;34m\u001b[0m\u001b[0;34m\u001b[0m\u001b[0m\n",
      "\u001b[0;32m~/anaconda3/envs/python3/lib/python3.6/site-packages/joblib/parallel.py\u001b[0m in \u001b[0;36m__call__\u001b[0;34m(self, iterable)\u001b[0m\n\u001b[1;32m   1052\u001b[0m \u001b[0;34m\u001b[0m\u001b[0m\n\u001b[1;32m   1053\u001b[0m             \u001b[0;32mwith\u001b[0m \u001b[0mself\u001b[0m\u001b[0;34m.\u001b[0m\u001b[0m_backend\u001b[0m\u001b[0;34m.\u001b[0m\u001b[0mretrieval_context\u001b[0m\u001b[0;34m(\u001b[0m\u001b[0;34m)\u001b[0m\u001b[0;34m:\u001b[0m\u001b[0;34m\u001b[0m\u001b[0;34m\u001b[0m\u001b[0m\n\u001b[0;32m-> 1054\u001b[0;31m                 \u001b[0mself\u001b[0m\u001b[0;34m.\u001b[0m\u001b[0mretrieve\u001b[0m\u001b[0;34m(\u001b[0m\u001b[0;34m)\u001b[0m\u001b[0;34m\u001b[0m\u001b[0;34m\u001b[0m\u001b[0m\n\u001b[0m\u001b[1;32m   1055\u001b[0m             \u001b[0;31m# Make sure that we get a last message telling us we are done\u001b[0m\u001b[0;34m\u001b[0m\u001b[0;34m\u001b[0m\u001b[0;34m\u001b[0m\u001b[0m\n\u001b[1;32m   1056\u001b[0m             \u001b[0melapsed_time\u001b[0m \u001b[0;34m=\u001b[0m \u001b[0mtime\u001b[0m\u001b[0;34m.\u001b[0m\u001b[0mtime\u001b[0m\u001b[0;34m(\u001b[0m\u001b[0;34m)\u001b[0m \u001b[0;34m-\u001b[0m \u001b[0mself\u001b[0m\u001b[0;34m.\u001b[0m\u001b[0m_start_time\u001b[0m\u001b[0;34m\u001b[0m\u001b[0;34m\u001b[0m\u001b[0m\n",
      "\u001b[0;32m~/anaconda3/envs/python3/lib/python3.6/site-packages/joblib/parallel.py\u001b[0m in \u001b[0;36mretrieve\u001b[0;34m(self)\u001b[0m\n\u001b[1;32m    931\u001b[0m             \u001b[0;32mtry\u001b[0m\u001b[0;34m:\u001b[0m\u001b[0;34m\u001b[0m\u001b[0;34m\u001b[0m\u001b[0m\n\u001b[1;32m    932\u001b[0m                 \u001b[0;32mif\u001b[0m \u001b[0mgetattr\u001b[0m\u001b[0;34m(\u001b[0m\u001b[0mself\u001b[0m\u001b[0;34m.\u001b[0m\u001b[0m_backend\u001b[0m\u001b[0;34m,\u001b[0m \u001b[0;34m'supports_timeout'\u001b[0m\u001b[0;34m,\u001b[0m \u001b[0;32mFalse\u001b[0m\u001b[0;34m)\u001b[0m\u001b[0;34m:\u001b[0m\u001b[0;34m\u001b[0m\u001b[0;34m\u001b[0m\u001b[0m\n\u001b[0;32m--> 933\u001b[0;31m                     \u001b[0mself\u001b[0m\u001b[0;34m.\u001b[0m\u001b[0m_output\u001b[0m\u001b[0;34m.\u001b[0m\u001b[0mextend\u001b[0m\u001b[0;34m(\u001b[0m\u001b[0mjob\u001b[0m\u001b[0;34m.\u001b[0m\u001b[0mget\u001b[0m\u001b[0;34m(\u001b[0m\u001b[0mtimeout\u001b[0m\u001b[0;34m=\u001b[0m\u001b[0mself\u001b[0m\u001b[0;34m.\u001b[0m\u001b[0mtimeout\u001b[0m\u001b[0;34m)\u001b[0m\u001b[0;34m)\u001b[0m\u001b[0;34m\u001b[0m\u001b[0;34m\u001b[0m\u001b[0m\n\u001b[0m\u001b[1;32m    934\u001b[0m                 \u001b[0;32melse\u001b[0m\u001b[0;34m:\u001b[0m\u001b[0;34m\u001b[0m\u001b[0;34m\u001b[0m\u001b[0m\n\u001b[1;32m    935\u001b[0m                     \u001b[0mself\u001b[0m\u001b[0;34m.\u001b[0m\u001b[0m_output\u001b[0m\u001b[0;34m.\u001b[0m\u001b[0mextend\u001b[0m\u001b[0;34m(\u001b[0m\u001b[0mjob\u001b[0m\u001b[0;34m.\u001b[0m\u001b[0mget\u001b[0m\u001b[0;34m(\u001b[0m\u001b[0;34m)\u001b[0m\u001b[0;34m)\u001b[0m\u001b[0;34m\u001b[0m\u001b[0;34m\u001b[0m\u001b[0m\n",
      "\u001b[0;32m~/anaconda3/envs/python3/lib/python3.6/site-packages/joblib/_parallel_backends.py\u001b[0m in \u001b[0;36mwrap_future_result\u001b[0;34m(future, timeout)\u001b[0m\n\u001b[1;32m    540\u001b[0m         AsyncResults.get from multiprocessing.\"\"\"\n\u001b[1;32m    541\u001b[0m         \u001b[0;32mtry\u001b[0m\u001b[0;34m:\u001b[0m\u001b[0;34m\u001b[0m\u001b[0;34m\u001b[0m\u001b[0m\n\u001b[0;32m--> 542\u001b[0;31m             \u001b[0;32mreturn\u001b[0m \u001b[0mfuture\u001b[0m\u001b[0;34m.\u001b[0m\u001b[0mresult\u001b[0m\u001b[0;34m(\u001b[0m\u001b[0mtimeout\u001b[0m\u001b[0;34m=\u001b[0m\u001b[0mtimeout\u001b[0m\u001b[0;34m)\u001b[0m\u001b[0;34m\u001b[0m\u001b[0;34m\u001b[0m\u001b[0m\n\u001b[0m\u001b[1;32m    543\u001b[0m         \u001b[0;32mexcept\u001b[0m \u001b[0mCfTimeoutError\u001b[0m \u001b[0;32mas\u001b[0m \u001b[0me\u001b[0m\u001b[0;34m:\u001b[0m\u001b[0;34m\u001b[0m\u001b[0;34m\u001b[0m\u001b[0m\n\u001b[1;32m    544\u001b[0m             \u001b[0;32mraise\u001b[0m \u001b[0mTimeoutError\u001b[0m \u001b[0;32mfrom\u001b[0m \u001b[0me\u001b[0m\u001b[0;34m\u001b[0m\u001b[0;34m\u001b[0m\u001b[0m\n",
      "\u001b[0;32m~/anaconda3/envs/python3/lib/python3.6/concurrent/futures/_base.py\u001b[0m in \u001b[0;36mresult\u001b[0;34m(self, timeout)\u001b[0m\n\u001b[1;32m    425\u001b[0m                 \u001b[0;32mreturn\u001b[0m \u001b[0mself\u001b[0m\u001b[0;34m.\u001b[0m\u001b[0m__get_result\u001b[0m\u001b[0;34m(\u001b[0m\u001b[0;34m)\u001b[0m\u001b[0;34m\u001b[0m\u001b[0;34m\u001b[0m\u001b[0m\n\u001b[1;32m    426\u001b[0m \u001b[0;34m\u001b[0m\u001b[0m\n\u001b[0;32m--> 427\u001b[0;31m             \u001b[0mself\u001b[0m\u001b[0;34m.\u001b[0m\u001b[0m_condition\u001b[0m\u001b[0;34m.\u001b[0m\u001b[0mwait\u001b[0m\u001b[0;34m(\u001b[0m\u001b[0mtimeout\u001b[0m\u001b[0;34m)\u001b[0m\u001b[0;34m\u001b[0m\u001b[0;34m\u001b[0m\u001b[0m\n\u001b[0m\u001b[1;32m    428\u001b[0m \u001b[0;34m\u001b[0m\u001b[0m\n\u001b[1;32m    429\u001b[0m             \u001b[0;32mif\u001b[0m \u001b[0mself\u001b[0m\u001b[0;34m.\u001b[0m\u001b[0m_state\u001b[0m \u001b[0;32min\u001b[0m \u001b[0;34m[\u001b[0m\u001b[0mCANCELLED\u001b[0m\u001b[0;34m,\u001b[0m \u001b[0mCANCELLED_AND_NOTIFIED\u001b[0m\u001b[0;34m]\u001b[0m\u001b[0;34m:\u001b[0m\u001b[0;34m\u001b[0m\u001b[0;34m\u001b[0m\u001b[0m\n",
      "\u001b[0;32m~/anaconda3/envs/python3/lib/python3.6/threading.py\u001b[0m in \u001b[0;36mwait\u001b[0;34m(self, timeout)\u001b[0m\n\u001b[1;32m    293\u001b[0m         \u001b[0;32mtry\u001b[0m\u001b[0;34m:\u001b[0m    \u001b[0;31m# restore state no matter what (e.g., KeyboardInterrupt)\u001b[0m\u001b[0;34m\u001b[0m\u001b[0;34m\u001b[0m\u001b[0m\n\u001b[1;32m    294\u001b[0m             \u001b[0;32mif\u001b[0m \u001b[0mtimeout\u001b[0m \u001b[0;32mis\u001b[0m \u001b[0;32mNone\u001b[0m\u001b[0;34m:\u001b[0m\u001b[0;34m\u001b[0m\u001b[0;34m\u001b[0m\u001b[0m\n\u001b[0;32m--> 295\u001b[0;31m                 \u001b[0mwaiter\u001b[0m\u001b[0;34m.\u001b[0m\u001b[0macquire\u001b[0m\u001b[0;34m(\u001b[0m\u001b[0;34m)\u001b[0m\u001b[0;34m\u001b[0m\u001b[0;34m\u001b[0m\u001b[0m\n\u001b[0m\u001b[1;32m    296\u001b[0m                 \u001b[0mgotit\u001b[0m \u001b[0;34m=\u001b[0m \u001b[0;32mTrue\u001b[0m\u001b[0;34m\u001b[0m\u001b[0;34m\u001b[0m\u001b[0m\n\u001b[1;32m    297\u001b[0m             \u001b[0;32melse\u001b[0m\u001b[0;34m:\u001b[0m\u001b[0;34m\u001b[0m\u001b[0;34m\u001b[0m\u001b[0m\n",
      "\u001b[0;31mKeyboardInterrupt\u001b[0m: "
     ]
    }
   ],
   "source": [
    "param ={\n",
    "            'n_estimators': [500],\n",
    "            'max_depth' : [8]\n",
    "           \n",
    "        }\n",
    "model = FitModel(x_train,y_train, x_test, y_test,xgb.XGBClassifier(n_jobs=-1,objective='softprob', n_estimators=250, max_depth=8),param,cv=5)"
   ]
  },
  {
   "cell_type": "code",
   "execution_count": 279,
   "id": "fitting-foundation",
   "metadata": {
    "collapsed": true,
    "jupyter": {
     "outputs_hidden": true
    }
   },
   "outputs": [
    {
     "name": "stdout",
     "output_type": "stream",
     "text": [
      "[17:16:33] WARNING: ../src/learner.cc:541: \n",
      "Parameters: { silent } might not be used.\n",
      "\n",
      "  This may not be accurate due to some parameters are only used in language bindings but\n",
      "  passed down to XGBoost core.  Or some parameters are not used but slip through this\n",
      "  verification. Please open an issue if you find above cases.\n",
      "\n",
      "\n",
      "[17:16:33] WARNING: ../src/learner.cc:1061: Starting in XGBoost 1.3.0, the default evaluation metric used with the objective 'multi:softprob' was changed from 'merror' to 'mlogloss'. Explicitly set eval_metric if you'd like to restore the old behavior.\n"
     ]
    }
   ],
   "source": [
    "# params = {'min_child_weight': 3, 'eta': 0.05, 'colsample_bytree': 0.4,'max_depth': 8, 'subsample': 0.9, 'lambda': 0.5, 'nthread': -1,\n",
    "#             'objective': 'multi:softprob', 'n_estimators': 500, 'silent': 0, 'num_class': 3}\n",
    "# num_boost_round = 500\n",
    "\n",
    "#dtrain = xgb.DMatrix(x_train, y_train)\n",
    "# dvalid = xgb.DMatrix(x_test, y_test)\n",
    "\n",
    "# model = xgb.xgbClassifier.train(params, dtrain, num_boost_round)"
   ]
  },
  {
   "cell_type": "code",
   "execution_count": 87,
   "id": "spare-commander",
   "metadata": {
    "collapsed": true,
    "jupyter": {
     "outputs_hidden": true
    }
   },
   "outputs": [
    {
     "ename": "NameError",
     "evalue": "name 'model' is not defined",
     "output_type": "error",
     "traceback": [
      "\u001b[0;31m---------------------------------------------------------------------------\u001b[0m",
      "\u001b[0;31mNameError\u001b[0m                                 Traceback (most recent call last)",
      "\u001b[0;32m<ipython-input-87-c27bec2bc2f2>\u001b[0m in \u001b[0;36m<module>\u001b[0;34m\u001b[0m\n\u001b[1;32m      1\u001b[0m \u001b[0;31m# validation\u001b[0m\u001b[0;34m\u001b[0m\u001b[0;34m\u001b[0m\u001b[0;34m\u001b[0m\u001b[0m\n\u001b[0;32m----> 2\u001b[0;31m \u001b[0my_pred\u001b[0m \u001b[0;34m=\u001b[0m \u001b[0mmodel\u001b[0m\u001b[0;34m.\u001b[0m\u001b[0mpredict\u001b[0m\u001b[0;34m(\u001b[0m\u001b[0mx_test\u001b[0m\u001b[0;34m)\u001b[0m\u001b[0;34m\u001b[0m\u001b[0;34m\u001b[0m\u001b[0m\n\u001b[0m",
      "\u001b[0;31mNameError\u001b[0m: name 'model' is not defined"
     ]
    }
   ],
   "source": [
    "# validation\n",
    "y_pred = model.predict(x_test)"
   ]
  },
  {
   "cell_type": "code",
   "execution_count": 133,
   "id": "novel-commitment",
   "metadata": {},
   "outputs": [
    {
     "data": {
      "text/plain": [
       "0.7366283006093433"
      ]
     },
     "execution_count": 133,
     "metadata": {},
     "output_type": "execute_result"
    }
   ],
   "source": [
    "accuracy_score(y_pred, y_test)"
   ]
  },
  {
   "cell_type": "code",
   "execution_count": null,
   "id": "forbidden-gossip",
   "metadata": {},
   "outputs": [],
   "source": [
    "npred = voting_clf.predict_proba(scaler.transform(test.drop('id',axis=1)))"
   ]
  },
  {
   "cell_type": "code",
   "execution_count": null,
   "id": "heated-gospel",
   "metadata": {},
   "outputs": [],
   "source": [
    "pred_df=pd.DataFrame(npred,columns=['predict_0', 'predict_1', 'predict_2'])\n",
    "submission=pd.concat([test[['id']],pred_df],axis=1)\n",
    "submission.to_csv('sub.csv',index=False,header=True)"
   ]
  },
  {
   "cell_type": "code",
   "execution_count": null,
   "id": "adverse-context",
   "metadata": {},
   "outputs": [],
   "source": [
    "!kaggle competitions submit -c telstra-recruiting-network -f sub.csv -m \"Voting Classifier (75% acc on train/test/split) with predict_proba\""
   ]
  },
  {
   "cell_type": "markdown",
   "id": "sound-purchase",
   "metadata": {},
   "source": [
    "### Scores so far:\n",
    "RandomForestClassifier 0.71  \n",
    "AdaBoostClassifier 0.72  \n",
    "LogisticRegression 0.73  \n",
    "SVC 0.73  \n",
    "VotingClassifier 0.75  \n",
    "XGBClassifier: 0.73  \n",
    "\n",
    "Lets try to balance the dataset using SMOTE"
   ]
  },
  {
   "cell_type": "code",
   "execution_count": 166,
   "id": "executive-russell",
   "metadata": {},
   "outputs": [
    {
     "data": {
      "text/plain": [
       "0    4784\n",
       "1    1871\n",
       "2     726\n",
       "Name: fault_severity, dtype: int64"
      ]
     },
     "execution_count": 166,
     "metadata": {},
     "output_type": "execute_result"
    }
   ],
   "source": [
    "train.fault_severity.value_counts()"
   ]
  },
  {
   "cell_type": "code",
   "execution_count": 89,
   "id": "approved-extra",
   "metadata": {
    "collapsed": true,
    "jupyter": {
     "outputs_hidden": true
    }
   },
   "outputs": [
    {
     "name": "stdout",
     "output_type": "stream",
     "text": [
      "Collecting imblearn\n",
      "  Downloading imblearn-0.0-py2.py3-none-any.whl (1.9 kB)\n",
      "Collecting imbalanced-learn\n",
      "  Downloading imbalanced_learn-0.8.0-py3-none-any.whl (206 kB)\n",
      "\u001b[K     |████████████████████████████████| 206 kB 3.5 MB/s eta 0:00:01\n",
      "\u001b[?25hRequirement already satisfied: numpy>=1.13.3 in /home/ec2-user/anaconda3/envs/python3/lib/python3.6/site-packages (from imbalanced-learn->imblearn) (1.19.5)\n",
      "Requirement already satisfied: joblib>=0.11 in /home/ec2-user/anaconda3/envs/python3/lib/python3.6/site-packages (from imbalanced-learn->imblearn) (1.0.1)\n",
      "Requirement already satisfied: scipy>=0.19.1 in /home/ec2-user/anaconda3/envs/python3/lib/python3.6/site-packages (from imbalanced-learn->imblearn) (1.5.3)\n",
      "Requirement already satisfied: scikit-learn>=0.24 in /home/ec2-user/anaconda3/envs/python3/lib/python3.6/site-packages (from imbalanced-learn->imblearn) (0.24.1)\n",
      "Requirement already satisfied: threadpoolctl>=2.0.0 in /home/ec2-user/anaconda3/envs/python3/lib/python3.6/site-packages (from scikit-learn>=0.24->imbalanced-learn->imblearn) (2.1.0)\n",
      "Installing collected packages: imbalanced-learn, imblearn\n",
      "Successfully installed imbalanced-learn-0.8.0 imblearn-0.0\n"
     ]
    }
   ],
   "source": [
    "!pip install imblearn"
   ]
  },
  {
   "cell_type": "code",
   "execution_count": 90,
   "id": "about-antarctica",
   "metadata": {},
   "outputs": [],
   "source": [
    "from imblearn.over_sampling import SMOTE"
   ]
  },
  {
   "cell_type": "code",
   "execution_count": 91,
   "id": "checked-trance",
   "metadata": {},
   "outputs": [],
   "source": [
    "SM = SMOTE(random_state=42)\n",
    "x_resampled,y_resamples = SM.fit_resample(train.drop('fault_severity', axis=1),train.fault_severity)"
   ]
  },
  {
   "cell_type": "code",
   "execution_count": 92,
   "id": "assisted-segment",
   "metadata": {},
   "outputs": [
    {
     "data": {
      "text/plain": [
       "(14352, 339)"
      ]
     },
     "execution_count": 92,
     "metadata": {},
     "output_type": "execute_result"
    }
   ],
   "source": [
    "x_resampled.shape"
   ]
  },
  {
   "cell_type": "code",
   "execution_count": 93,
   "id": "surprised-conditioning",
   "metadata": {},
   "outputs": [
    {
     "data": {
      "text/plain": [
       "(14352,)"
      ]
     },
     "execution_count": 93,
     "metadata": {},
     "output_type": "execute_result"
    }
   ],
   "source": [
    "y_resamples.shape"
   ]
  },
  {
   "cell_type": "code",
   "execution_count": 94,
   "id": "fitted-management",
   "metadata": {},
   "outputs": [
    {
     "data": {
      "text/plain": [
       "2    4784\n",
       "1    4784\n",
       "0    4784\n",
       "Name: fault_severity, dtype: int64"
      ]
     },
     "execution_count": 94,
     "metadata": {},
     "output_type": "execute_result"
    }
   ],
   "source": [
    "pd.Series(y_resamples).value_counts()"
   ]
  },
  {
   "cell_type": "code",
   "execution_count": 95,
   "id": "vietnamese-badge",
   "metadata": {},
   "outputs": [],
   "source": [
    "x_resampled.drop(['location','id'], axis=1, inplace=True)\n",
    "ids = test.id\n",
    "test.drop(['location','id'], axis=1, inplace=True)"
   ]
  },
  {
   "cell_type": "code",
   "execution_count": 96,
   "id": "saving-specific",
   "metadata": {},
   "outputs": [],
   "source": [
    "x_train, x_test, y_train, y_test = train_test_split(x_resampled, y_resamples, test_size=0.1, random_state=42)"
   ]
  },
  {
   "cell_type": "code",
   "execution_count": 98,
   "id": "bronze-drain",
   "metadata": {},
   "outputs": [],
   "source": [
    "scaler = StandardScaler()\n",
    "x_train = scaler.fit_transform(x_train)\n",
    "x_test = scaler.transform(x_test)"
   ]
  },
  {
   "cell_type": "code",
   "execution_count": 162,
   "id": "massive-agriculture",
   "metadata": {
    "collapsed": true,
    "jupyter": {
     "outputs_hidden": true
    }
   },
   "outputs": [
    {
     "name": "stdout",
     "output_type": "stream",
     "text": [
      "Collecting tensorflow\n",
      "  Downloading tensorflow-2.4.1-cp36-cp36m-manylinux2010_x86_64.whl (394.3 MB)\n",
      "\u001b[K     |████████████████████████████████| 394.3 MB 7.5 kB/s  eta 0:00:01\n",
      "\u001b[?25hRequirement already satisfied: wheel~=0.35 in /home/ec2-user/anaconda3/envs/python3/lib/python3.6/site-packages (from tensorflow) (0.36.2)\n",
      "Requirement already satisfied: numpy~=1.19.2 in /home/ec2-user/anaconda3/envs/python3/lib/python3.6/site-packages (from tensorflow) (1.19.5)\n",
      "Requirement already satisfied: typing-extensions~=3.7.4 in /home/ec2-user/anaconda3/envs/python3/lib/python3.6/site-packages (from tensorflow) (3.7.4.3)\n",
      "Collecting tensorboard~=2.4\n",
      "  Downloading tensorboard-2.4.1-py3-none-any.whl (10.6 MB)\n",
      "\u001b[K     |████████████████████████████████| 10.6 MB 67.3 MB/s eta 0:00:01\n",
      "\u001b[?25hCollecting keras-preprocessing~=1.1.2\n",
      "  Downloading Keras_Preprocessing-1.1.2-py2.py3-none-any.whl (42 kB)\n",
      "\u001b[K     |████████████████████████████████| 42 kB 1.9 MB/s  eta 0:00:01\n",
      "\u001b[?25hCollecting astunparse~=1.6.3\n",
      "  Downloading astunparse-1.6.3-py2.py3-none-any.whl (12 kB)\n",
      "Requirement already satisfied: wrapt~=1.12.1 in /home/ec2-user/anaconda3/envs/python3/lib/python3.6/site-packages (from tensorflow) (1.12.1)\n",
      "Collecting tensorflow-estimator<2.5.0,>=2.4.0\n",
      "  Downloading tensorflow_estimator-2.4.0-py2.py3-none-any.whl (462 kB)\n",
      "\u001b[K     |████████████████████████████████| 462 kB 56.1 MB/s eta 0:00:01\n",
      "\u001b[?25hCollecting gast==0.3.3\n",
      "  Downloading gast-0.3.3-py2.py3-none-any.whl (9.7 kB)\n",
      "Collecting absl-py~=0.10\n",
      "  Downloading absl_py-0.12.0-py3-none-any.whl (129 kB)\n",
      "\u001b[K     |████████████████████████████████| 129 kB 73.3 MB/s eta 0:00:01\n",
      "\u001b[?25hCollecting opt-einsum~=3.3.0\n",
      "  Downloading opt_einsum-3.3.0-py3-none-any.whl (65 kB)\n",
      "\u001b[K     |████████████████████████████████| 65 kB 5.5 MB/s  eta 0:00:01\n",
      "\u001b[?25hRequirement already satisfied: protobuf>=3.9.2 in /home/ec2-user/anaconda3/envs/python3/lib/python3.6/site-packages (from tensorflow) (3.15.2)\n",
      "Requirement already satisfied: google-pasta~=0.2 in /home/ec2-user/anaconda3/envs/python3/lib/python3.6/site-packages (from tensorflow) (0.2.0)\n",
      "Collecting termcolor~=1.1.0\n",
      "  Downloading termcolor-1.1.0.tar.gz (3.9 kB)\n",
      "Collecting h5py~=2.10.0\n",
      "  Downloading h5py-2.10.0-cp36-cp36m-manylinux1_x86_64.whl (2.9 MB)\n",
      "\u001b[K     |████████████████████████████████| 2.9 MB 46.4 MB/s eta 0:00:01\n",
      "\u001b[?25hCollecting flatbuffers~=1.12.0\n",
      "  Downloading flatbuffers-1.12-py2.py3-none-any.whl (15 kB)\n",
      "Requirement already satisfied: six~=1.15.0 in /home/ec2-user/anaconda3/envs/python3/lib/python3.6/site-packages (from tensorflow) (1.15.0)\n",
      "Collecting grpcio~=1.32.0\n",
      "  Downloading grpcio-1.32.0-cp36-cp36m-manylinux2014_x86_64.whl (3.8 MB)\n",
      "\u001b[K     |████████████████████████████████| 3.8 MB 47.3 MB/s eta 0:00:01\n",
      "\u001b[?25hRequirement already satisfied: setuptools>=41.0.0 in /home/ec2-user/anaconda3/envs/python3/lib/python3.6/site-packages (from tensorboard~=2.4->tensorflow) (49.6.0.post20210108)\n",
      "Collecting google-auth-oauthlib<0.5,>=0.4.1\n",
      "  Downloading google_auth_oauthlib-0.4.4-py2.py3-none-any.whl (18 kB)\n",
      "Collecting markdown>=2.6.8\n",
      "  Downloading Markdown-3.3.4-py3-none-any.whl (97 kB)\n",
      "\u001b[K     |████████████████████████████████| 97 kB 1.8 MB/s  eta 0:00:01\n",
      "\u001b[?25hRequirement already satisfied: werkzeug>=0.11.15 in /home/ec2-user/anaconda3/envs/python3/lib/python3.6/site-packages (from tensorboard~=2.4->tensorflow) (1.0.1)\n",
      "Requirement already satisfied: requests<3,>=2.21.0 in /home/ec2-user/anaconda3/envs/python3/lib/python3.6/site-packages (from tensorboard~=2.4->tensorflow) (2.25.1)\n",
      "Collecting tensorboard-plugin-wit>=1.6.0\n",
      "  Downloading tensorboard_plugin_wit-1.8.0-py3-none-any.whl (781 kB)\n",
      "\u001b[K     |████████████████████████████████| 781 kB 71.9 MB/s eta 0:00:01\n",
      "\u001b[?25hCollecting google-auth<2,>=1.6.3\n",
      "  Downloading google_auth-1.28.0-py2.py3-none-any.whl (136 kB)\n",
      "\u001b[K     |████████████████████████████████| 136 kB 71.5 MB/s eta 0:00:01\n",
      "\u001b[?25hRequirement already satisfied: rsa<5,>=3.1.4 in /home/ec2-user/anaconda3/envs/python3/lib/python3.6/site-packages (from google-auth<2,>=1.6.3->tensorboard~=2.4->tensorflow) (4.7.2)\n",
      "Collecting pyasn1-modules>=0.2.1\n",
      "  Downloading pyasn1_modules-0.2.8-py2.py3-none-any.whl (155 kB)\n",
      "\u001b[K     |████████████████████████████████| 155 kB 71.6 MB/s eta 0:00:01\n",
      "\u001b[?25hCollecting cachetools<5.0,>=2.0.0\n",
      "  Downloading cachetools-4.2.1-py3-none-any.whl (12 kB)\n",
      "Collecting requests-oauthlib>=0.7.0\n",
      "  Downloading requests_oauthlib-1.3.0-py2.py3-none-any.whl (23 kB)\n",
      "Requirement already satisfied: importlib-metadata in /home/ec2-user/anaconda3/envs/python3/lib/python3.6/site-packages (from markdown>=2.6.8->tensorboard~=2.4->tensorflow) (3.7.0)\n",
      "Requirement already satisfied: pyasn1<0.5.0,>=0.4.6 in /home/ec2-user/anaconda3/envs/python3/lib/python3.6/site-packages (from pyasn1-modules>=0.2.1->google-auth<2,>=1.6.3->tensorboard~=2.4->tensorflow) (0.4.8)\n",
      "Requirement already satisfied: urllib3<1.27,>=1.21.1 in /home/ec2-user/anaconda3/envs/python3/lib/python3.6/site-packages (from requests<3,>=2.21.0->tensorboard~=2.4->tensorflow) (1.26.3)\n",
      "Requirement already satisfied: chardet<5,>=3.0.2 in /home/ec2-user/anaconda3/envs/python3/lib/python3.6/site-packages (from requests<3,>=2.21.0->tensorboard~=2.4->tensorflow) (3.0.4)\n",
      "Requirement already satisfied: idna<3,>=2.5 in /home/ec2-user/anaconda3/envs/python3/lib/python3.6/site-packages (from requests<3,>=2.21.0->tensorboard~=2.4->tensorflow) (2.10)\n",
      "Requirement already satisfied: certifi>=2017.4.17 in /home/ec2-user/anaconda3/envs/python3/lib/python3.6/site-packages (from requests<3,>=2.21.0->tensorboard~=2.4->tensorflow) (2020.12.5)\n",
      "Collecting oauthlib>=3.0.0\n",
      "  Downloading oauthlib-3.1.0-py2.py3-none-any.whl (147 kB)\n",
      "\u001b[K     |████████████████████████████████| 147 kB 67.7 MB/s eta 0:00:01\n",
      "\u001b[?25hRequirement already satisfied: zipp>=0.5 in /home/ec2-user/anaconda3/envs/python3/lib/python3.6/site-packages (from importlib-metadata->markdown>=2.6.8->tensorboard~=2.4->tensorflow) (3.4.0)\n",
      "Building wheels for collected packages: termcolor\n",
      "  Building wheel for termcolor (setup.py) ... \u001b[?25ldone\n",
      "\u001b[?25h  Created wheel for termcolor: filename=termcolor-1.1.0-py3-none-any.whl size=4829 sha256=f5b7cdf71c6cd46ffc419509193f56ada046697e5361f4c18c59a5b31e0621cf\n",
      "  Stored in directory: /home/ec2-user/.cache/pip/wheels/93/2a/eb/e58dbcbc963549ee4f065ff80a59f274cc7210b6eab962acdc\n",
      "Successfully built termcolor\n",
      "Installing collected packages: pyasn1-modules, oauthlib, cachetools, requests-oauthlib, google-auth, tensorboard-plugin-wit, markdown, grpcio, google-auth-oauthlib, absl-py, termcolor, tensorflow-estimator, tensorboard, opt-einsum, keras-preprocessing, h5py, gast, flatbuffers, astunparse, tensorflow\n",
      "  Attempting uninstall: h5py\n",
      "    Found existing installation: h5py 3.1.0\n",
      "    Uninstalling h5py-3.1.0:\n",
      "      Successfully uninstalled h5py-3.1.0\n",
      "Successfully installed absl-py-0.12.0 astunparse-1.6.3 cachetools-4.2.1 flatbuffers-1.12 gast-0.3.3 google-auth-1.28.0 google-auth-oauthlib-0.4.4 grpcio-1.32.0 h5py-2.10.0 keras-preprocessing-1.1.2 markdown-3.3.4 oauthlib-3.1.0 opt-einsum-3.3.0 pyasn1-modules-0.2.8 requests-oauthlib-1.3.0 tensorboard-2.4.1 tensorboard-plugin-wit-1.8.0 tensorflow-2.4.1 tensorflow-estimator-2.4.0 termcolor-1.1.0\n"
     ]
    }
   ],
   "source": [
    "!pip install tensorflow"
   ]
  },
  {
   "cell_type": "code",
   "execution_count": 168,
   "id": "incorporated-circle",
   "metadata": {},
   "outputs": [],
   "source": [
    "from tensorflow.keras.models import Sequential\n",
    "from tensorflow.keras.layers import Dense, Dropout\n",
    "from tensorflow.keras.callbacks import EarlyStopping\n",
    "from tensorflow.keras.wrappers.scikit_learn import KerasClassifier"
   ]
  },
  {
   "cell_type": "code",
   "execution_count": 174,
   "id": "compliant-brunei",
   "metadata": {},
   "outputs": [],
   "source": [
    "def create_model():\n",
    "    model = Sequential()\n",
    "    model.add(Dense(337, activation='relu'))\n",
    "    #model.add(Dropout(0.3))\n",
    "    #model.add(Dense(100, activation='relu'))\n",
    "    #model.add(Dropout(0.2))\n",
    "    #model.add(Dense(3, activation='softmax'))\n",
    "    model.add(Dense(1, activation='sigmoid'))\n",
    "       \n",
    "    #model.compile(loss='categorical_crossentropy', optimizer='adam', metrics=['accuracy'])\n",
    "    model.compile(loss='binary_crossentropy', optimizer='adam', metrics=['accuracy'])\n",
    "    return model"
   ]
  },
  {
   "cell_type": "code",
   "execution_count": 179,
   "id": "entertaining-daily",
   "metadata": {},
   "outputs": [],
   "source": [
    "params_xgb = {'min_child_weight': 3, 'eta': 0.05, 'colsample_bytree': 0.4,'max_depth': 8, 'subsample': 0.9, 'lambda': 0.5, 'nthread': -1,\n",
    "            'objective': 'multi:softprob', 'n_estimators': 500, 'silent': 0, 'num_class': 3}\n",
    "num_boost_round = 100"
   ]
  },
  {
   "cell_type": "code",
   "execution_count": 234,
   "id": "quick-hunger",
   "metadata": {},
   "outputs": [],
   "source": [
    "rnd_clf = RandomForestClassifier()\n",
    "da_clf = AdaBoostClassifier()\n",
    "log_clf = LogisticRegression() \n",
    "svm_clf = SVC(probability=True)\n",
    "xgb_clf = xgb.XGBClassifier(params_xgb, objective='softprob')\n",
    "keras_clf = KerasClassifier(create_model, epochs=40, verbose=False)\n",
    "keras_clf._estimator_type = 'classifier'\n",
    "voting_clf = VotingClassifier(\n",
    "estimators=[('lr', log_clf), ('rf', rnd_clf), ('svc', svm_clf), ('ada', da_clf), ('xgb', xgb_clf)], voting='soft')"
   ]
  },
  {
   "cell_type": "code",
   "execution_count": 186,
   "id": "timely-stable",
   "metadata": {},
   "outputs": [
    {
     "name": "stdout",
     "output_type": "stream",
     "text": [
      "LogisticRegression 0.7883008356545961\n",
      "RandomForestClassifier 0.7973537604456824\n",
      "SVC 0.7771587743732591\n",
      "AdaBoostClassifier 0.7214484679665738\n",
      "[14:53:46] WARNING: ../src/learner.cc:541: \n",
      "Parameters: { num_boost_round } might not be used.\n",
      "\n",
      "  This may not be accurate due to some parameters are only used in language bindings but\n",
      "  passed down to XGBoost core.  Or some parameters are not used but slip through this\n",
      "  verification. Please open an issue if you find above cases.\n",
      "\n",
      "\n",
      "[14:53:48] WARNING: ../src/learner.cc:1061: Starting in XGBoost 1.3.0, the default evaluation metric used with the objective 'multi:softprob' was changed from 'merror' to 'mlogloss'. Explicitly set eval_metric if you'd like to restore the old behavior.\n",
      "XGBClassifier 0.8071030640668524\n"
     ]
    }
   ],
   "source": [
    "for _, clf in estimators:\n",
    "    clf.fit(x_train, y_train)\n",
    "    y_pred = clf.predict(x_test)\n",
    "    print(clf.__class__.__name__, accuracy_score(y_test, y_pred)) "
   ]
  },
  {
   "cell_type": "code",
   "execution_count": 187,
   "id": "normal-asian",
   "metadata": {
    "collapsed": true,
    "jupyter": {
     "outputs_hidden": true
    }
   },
   "outputs": [
    {
     "name": "stdout",
     "output_type": "stream",
     "text": [
      "[15:15:57] WARNING: ../src/learner.cc:1061: Starting in XGBoost 1.3.0, the default evaluation metric used with the objective 'multi:softprob' was changed from 'merror' to 'mlogloss'. Explicitly set eval_metric if you'd like to restore the old behavior.\n"
     ]
    },
    {
     "ename": "ValueError",
     "evalue": "could not broadcast input array from shape (1436,3) into shape (1436)",
     "output_type": "error",
     "traceback": [
      "\u001b[0;31m---------------------------------------------------------------------------\u001b[0m",
      "\u001b[0;31mValueError\u001b[0m                                Traceback (most recent call last)",
      "\u001b[0;32m<ipython-input-187-110cf42f7d56>\u001b[0m in \u001b[0;36m<module>\u001b[0;34m\u001b[0m\n\u001b[1;32m      1\u001b[0m \u001b[0mvoting_clf\u001b[0m\u001b[0;34m.\u001b[0m\u001b[0mfit\u001b[0m\u001b[0;34m(\u001b[0m\u001b[0mx_train\u001b[0m\u001b[0;34m,\u001b[0m\u001b[0my_train\u001b[0m\u001b[0;34m)\u001b[0m\u001b[0;34m\u001b[0m\u001b[0;34m\u001b[0m\u001b[0m\n\u001b[0;32m----> 2\u001b[0;31m \u001b[0mpred\u001b[0m \u001b[0;34m=\u001b[0m \u001b[0mvoting_clf\u001b[0m\u001b[0;34m.\u001b[0m\u001b[0mpredict\u001b[0m\u001b[0;34m(\u001b[0m\u001b[0mx_test\u001b[0m\u001b[0;34m)\u001b[0m\u001b[0;34m\u001b[0m\u001b[0;34m\u001b[0m\u001b[0m\n\u001b[0m\u001b[1;32m      3\u001b[0m \u001b[0maccuracy_score\u001b[0m\u001b[0;34m(\u001b[0m\u001b[0my_test\u001b[0m\u001b[0;34m,\u001b[0m\u001b[0mpred\u001b[0m\u001b[0;34m)\u001b[0m\u001b[0;34m\u001b[0m\u001b[0;34m\u001b[0m\u001b[0m\n",
      "\u001b[0;32m~/anaconda3/envs/python3/lib/python3.6/site-packages/sklearn/ensemble/_voting.py\u001b[0m in \u001b[0;36mpredict\u001b[0;34m(self, X)\u001b[0m\n\u001b[1;32m    307\u001b[0m         \u001b[0mcheck_is_fitted\u001b[0m\u001b[0;34m(\u001b[0m\u001b[0mself\u001b[0m\u001b[0;34m)\u001b[0m\u001b[0;34m\u001b[0m\u001b[0;34m\u001b[0m\u001b[0m\n\u001b[1;32m    308\u001b[0m         \u001b[0;32mif\u001b[0m \u001b[0mself\u001b[0m\u001b[0;34m.\u001b[0m\u001b[0mvoting\u001b[0m \u001b[0;34m==\u001b[0m \u001b[0;34m'soft'\u001b[0m\u001b[0;34m:\u001b[0m\u001b[0;34m\u001b[0m\u001b[0;34m\u001b[0m\u001b[0m\n\u001b[0;32m--> 309\u001b[0;31m             \u001b[0mmaj\u001b[0m \u001b[0;34m=\u001b[0m \u001b[0mnp\u001b[0m\u001b[0;34m.\u001b[0m\u001b[0margmax\u001b[0m\u001b[0;34m(\u001b[0m\u001b[0mself\u001b[0m\u001b[0;34m.\u001b[0m\u001b[0mpredict_proba\u001b[0m\u001b[0;34m(\u001b[0m\u001b[0mX\u001b[0m\u001b[0;34m)\u001b[0m\u001b[0;34m,\u001b[0m \u001b[0maxis\u001b[0m\u001b[0;34m=\u001b[0m\u001b[0;36m1\u001b[0m\u001b[0;34m)\u001b[0m\u001b[0;34m\u001b[0m\u001b[0;34m\u001b[0m\u001b[0m\n\u001b[0m\u001b[1;32m    310\u001b[0m \u001b[0;34m\u001b[0m\u001b[0m\n\u001b[1;32m    311\u001b[0m         \u001b[0;32melse\u001b[0m\u001b[0;34m:\u001b[0m  \u001b[0;31m# 'hard' voting\u001b[0m\u001b[0;34m\u001b[0m\u001b[0;34m\u001b[0m\u001b[0m\n",
      "\u001b[0;32m~/anaconda3/envs/python3/lib/python3.6/site-packages/sklearn/ensemble/_voting.py\u001b[0m in \u001b[0;36m_predict_proba\u001b[0;34m(self, X)\u001b[0m\n\u001b[1;32m    327\u001b[0m         \u001b[0;34m\"\"\"Predict class probabilities for X in 'soft' voting.\"\"\"\u001b[0m\u001b[0;34m\u001b[0m\u001b[0;34m\u001b[0m\u001b[0m\n\u001b[1;32m    328\u001b[0m         \u001b[0mcheck_is_fitted\u001b[0m\u001b[0;34m(\u001b[0m\u001b[0mself\u001b[0m\u001b[0;34m)\u001b[0m\u001b[0;34m\u001b[0m\u001b[0;34m\u001b[0m\u001b[0m\n\u001b[0;32m--> 329\u001b[0;31m         avg = np.average(self._collect_probas(X), axis=0,\n\u001b[0m\u001b[1;32m    330\u001b[0m                          weights=self._weights_not_none)\n\u001b[1;32m    331\u001b[0m         \u001b[0;32mreturn\u001b[0m \u001b[0mavg\u001b[0m\u001b[0;34m\u001b[0m\u001b[0;34m\u001b[0m\u001b[0m\n",
      "\u001b[0;32m~/anaconda3/envs/python3/lib/python3.6/site-packages/sklearn/ensemble/_voting.py\u001b[0m in \u001b[0;36m_collect_probas\u001b[0;34m(self, X)\u001b[0m\n\u001b[1;32m    322\u001b[0m     \u001b[0;32mdef\u001b[0m \u001b[0m_collect_probas\u001b[0m\u001b[0;34m(\u001b[0m\u001b[0mself\u001b[0m\u001b[0;34m,\u001b[0m \u001b[0mX\u001b[0m\u001b[0;34m)\u001b[0m\u001b[0;34m:\u001b[0m\u001b[0;34m\u001b[0m\u001b[0;34m\u001b[0m\u001b[0m\n\u001b[1;32m    323\u001b[0m         \u001b[0;34m\"\"\"Collect results from clf.predict calls.\"\"\"\u001b[0m\u001b[0;34m\u001b[0m\u001b[0;34m\u001b[0m\u001b[0m\n\u001b[0;32m--> 324\u001b[0;31m         \u001b[0;32mreturn\u001b[0m \u001b[0mnp\u001b[0m\u001b[0;34m.\u001b[0m\u001b[0masarray\u001b[0m\u001b[0;34m(\u001b[0m\u001b[0;34m[\u001b[0m\u001b[0mclf\u001b[0m\u001b[0;34m.\u001b[0m\u001b[0mpredict_proba\u001b[0m\u001b[0;34m(\u001b[0m\u001b[0mX\u001b[0m\u001b[0;34m)\u001b[0m \u001b[0;32mfor\u001b[0m \u001b[0mclf\u001b[0m \u001b[0;32min\u001b[0m \u001b[0mself\u001b[0m\u001b[0;34m.\u001b[0m\u001b[0mestimators_\u001b[0m\u001b[0;34m]\u001b[0m\u001b[0;34m)\u001b[0m\u001b[0;34m\u001b[0m\u001b[0;34m\u001b[0m\u001b[0m\n\u001b[0m\u001b[1;32m    325\u001b[0m \u001b[0;34m\u001b[0m\u001b[0m\n\u001b[1;32m    326\u001b[0m     \u001b[0;32mdef\u001b[0m \u001b[0m_predict_proba\u001b[0m\u001b[0;34m(\u001b[0m\u001b[0mself\u001b[0m\u001b[0;34m,\u001b[0m \u001b[0mX\u001b[0m\u001b[0;34m)\u001b[0m\u001b[0;34m:\u001b[0m\u001b[0;34m\u001b[0m\u001b[0;34m\u001b[0m\u001b[0m\n",
      "\u001b[0;32m~/anaconda3/envs/python3/lib/python3.6/site-packages/numpy/core/_asarray.py\u001b[0m in \u001b[0;36masarray\u001b[0;34m(a, dtype, order)\u001b[0m\n\u001b[1;32m     81\u001b[0m \u001b[0;34m\u001b[0m\u001b[0m\n\u001b[1;32m     82\u001b[0m     \"\"\"\n\u001b[0;32m---> 83\u001b[0;31m     \u001b[0;32mreturn\u001b[0m \u001b[0marray\u001b[0m\u001b[0;34m(\u001b[0m\u001b[0ma\u001b[0m\u001b[0;34m,\u001b[0m \u001b[0mdtype\u001b[0m\u001b[0;34m,\u001b[0m \u001b[0mcopy\u001b[0m\u001b[0;34m=\u001b[0m\u001b[0;32mFalse\u001b[0m\u001b[0;34m,\u001b[0m \u001b[0morder\u001b[0m\u001b[0;34m=\u001b[0m\u001b[0morder\u001b[0m\u001b[0;34m)\u001b[0m\u001b[0;34m\u001b[0m\u001b[0;34m\u001b[0m\u001b[0m\n\u001b[0m\u001b[1;32m     84\u001b[0m \u001b[0;34m\u001b[0m\u001b[0m\n\u001b[1;32m     85\u001b[0m \u001b[0;34m\u001b[0m\u001b[0m\n",
      "\u001b[0;31mValueError\u001b[0m: could not broadcast input array from shape (1436,3) into shape (1436)"
     ]
    }
   ],
   "source": [
    "voting_clf.fit(x_train,y_train)\n",
    "pred = voting_clf.predict(x_test)\n",
    "accuracy_score(y_test,pred)"
   ]
  },
  {
   "cell_type": "code",
   "execution_count": 183,
   "id": "synthetic-baptist",
   "metadata": {
    "collapsed": true,
    "jupyter": {
     "outputs_hidden": true
    }
   },
   "outputs": [
    {
     "name": "stdout",
     "output_type": "stream",
     "text": [
      "[14:43:14] WARNING: ../src/learner.cc:541: \n",
      "Parameters: { num_boost_round } might not be used.\n",
      "\n",
      "  This may not be accurate due to some parameters are only used in language bindings but\n",
      "  passed down to XGBoost core.  Or some parameters are not used but slip through this\n",
      "  verification. Please open an issue if you find above cases.\n",
      "\n",
      "\n",
      "[14:43:15] WARNING: ../src/learner.cc:1061: Starting in XGBoost 1.3.0, the default evaluation metric used with the objective 'multi:softprob' was changed from 'merror' to 'mlogloss'. Explicitly set eval_metric if you'd like to restore the old behavior.\n",
      "[14:49:34] WARNING: ../src/learner.cc:541: \n",
      "Parameters: { num_boost_round } might not be used.\n",
      "\n",
      "  This may not be accurate due to some parameters are only used in language bindings but\n",
      "  passed down to XGBoost core.  Or some parameters are not used but slip through this\n",
      "  verification. Please open an issue if you find above cases.\n",
      "\n",
      "\n",
      "[14:49:34] WARNING: ../src/learner.cc:1061: Starting in XGBoost 1.3.0, the default evaluation metric used with the objective 'multi:softprob' was changed from 'merror' to 'mlogloss'. Explicitly set eval_metric if you'd like to restore the old behavior.\n",
      "[14:49:53] WARNING: ../src/learner.cc:541: \n",
      "Parameters: { num_boost_round } might not be used.\n",
      "\n",
      "  This may not be accurate due to some parameters are only used in language bindings but\n",
      "  passed down to XGBoost core.  Or some parameters are not used but slip through this\n",
      "  verification. Please open an issue if you find above cases.\n",
      "\n",
      "\n",
      "[14:49:53] WARNING: ../src/learner.cc:1061: Starting in XGBoost 1.3.0, the default evaluation metric used with the objective 'multi:softprob' was changed from 'merror' to 'mlogloss'. Explicitly set eval_metric if you'd like to restore the old behavior.\n",
      "[14:50:12] WARNING: ../src/learner.cc:541: \n",
      "Parameters: { num_boost_round } might not be used.\n",
      "\n",
      "  This may not be accurate due to some parameters are only used in language bindings but\n",
      "  passed down to XGBoost core.  Or some parameters are not used but slip through this\n",
      "  verification. Please open an issue if you find above cases.\n",
      "\n",
      "\n",
      "[14:50:12] WARNING: ../src/learner.cc:1061: Starting in XGBoost 1.3.0, the default evaluation metric used with the objective 'multi:softprob' was changed from 'merror' to 'mlogloss'. Explicitly set eval_metric if you'd like to restore the old behavior.\n",
      "[14:50:31] WARNING: ../src/learner.cc:541: \n",
      "Parameters: { num_boost_round } might not be used.\n",
      "\n",
      "  This may not be accurate due to some parameters are only used in language bindings but\n",
      "  passed down to XGBoost core.  Or some parameters are not used but slip through this\n",
      "  verification. Please open an issue if you find above cases.\n",
      "\n",
      "\n",
      "[14:50:32] WARNING: ../src/learner.cc:1061: Starting in XGBoost 1.3.0, the default evaluation metric used with the objective 'multi:softprob' was changed from 'merror' to 'mlogloss'. Explicitly set eval_metric if you'd like to restore the old behavior.\n",
      "[14:50:50] WARNING: ../src/learner.cc:541: \n",
      "Parameters: { num_boost_round } might not be used.\n",
      "\n",
      "  This may not be accurate due to some parameters are only used in language bindings but\n",
      "  passed down to XGBoost core.  Or some parameters are not used but slip through this\n",
      "  verification. Please open an issue if you find above cases.\n",
      "\n",
      "\n",
      "[14:50:51] WARNING: ../src/learner.cc:1061: Starting in XGBoost 1.3.0, the default evaluation metric used with the objective 'multi:softprob' was changed from 'merror' to 'mlogloss'. Explicitly set eval_metric if you'd like to restore the old behavior.\n"
     ]
    },
    {
     "data": {
      "text/plain": [
       "0.8105849582172702"
      ]
     },
     "execution_count": 183,
     "metadata": {},
     "output_type": "execute_result"
    }
   ],
   "source": [
    "from sklearn.ensemble import StackingClassifier\n",
    "\n",
    "model = StackingClassifier(estimators=estimators, final_estimator=LogisticRegression(), cv=5)\n",
    "model.fit(x_train,y_train)\n",
    "y_pred = model.predict(x_test)\n",
    "accuracy_score(y_test, y_pred)"
   ]
  },
  {
   "cell_type": "code",
   "execution_count": 119,
   "id": "nasty-behalf",
   "metadata": {},
   "outputs": [],
   "source": [
    "cols = ['predict_0', 'predict_1', 'predict_2']\n",
    "pred_df=pd.DataFrame(columns=cols)"
   ]
  },
  {
   "cell_type": "code",
   "execution_count": 122,
   "id": "double-divide",
   "metadata": {},
   "outputs": [],
   "source": [
    "estimators=[('lr', log_clf), ('rf', rnd_clf), ('svc', svm_clf), ('ada', da_clf), ('xgb', xgb_clf)]"
   ]
  },
  {
   "cell_type": "code",
   "execution_count": 123,
   "id": "rural-blame",
   "metadata": {
    "collapsed": true,
    "jupyter": {
     "outputs_hidden": true
    }
   },
   "outputs": [
    {
     "ename": "AttributeError",
     "evalue": "'list' object has no attribute 'shape'",
     "output_type": "error",
     "traceback": [
      "\u001b[0;31m---------------------------------------------------------------------------\u001b[0m",
      "\u001b[0;31mAttributeError\u001b[0m                            Traceback (most recent call last)",
      "\u001b[0;32m<ipython-input-123-ab50bf88b14b>\u001b[0m in \u001b[0;36m<module>\u001b[0;34m\u001b[0m\n\u001b[1;32m      3\u001b[0m     \u001b[0mpred\u001b[0m \u001b[0;34m=\u001b[0m \u001b[0mclf\u001b[0m\u001b[0;34m.\u001b[0m\u001b[0mpredict_proba\u001b[0m\u001b[0;34m(\u001b[0m\u001b[0mx_test\u001b[0m\u001b[0;34m)\u001b[0m\u001b[0;34m\u001b[0m\u001b[0;34m\u001b[0m\u001b[0m\n\u001b[1;32m      4\u001b[0m     \u001b[0mpredictions\u001b[0m\u001b[0;34m.\u001b[0m\u001b[0mappend\u001b[0m\u001b[0;34m(\u001b[0m\u001b[0mpred\u001b[0m\u001b[0;34m)\u001b[0m\u001b[0;34m\u001b[0m\u001b[0;34m\u001b[0m\u001b[0m\n\u001b[0;32m----> 5\u001b[0;31m \u001b[0mpredictions\u001b[0m\u001b[0;34m.\u001b[0m\u001b[0mshape\u001b[0m\u001b[0;34m\u001b[0m\u001b[0;34m\u001b[0m\u001b[0m\n\u001b[0m\u001b[1;32m      6\u001b[0m \u001b[0;31m#pred = voting_clf.predict_proba(x_test)\u001b[0m\u001b[0;34m\u001b[0m\u001b[0;34m\u001b[0m\u001b[0;34m\u001b[0m\u001b[0m\n\u001b[1;32m      7\u001b[0m \u001b[0;31m#pred = pd.Series(pred.reshape(-1,1)\u001b[0m\u001b[0;34m\u001b[0m\u001b[0;34m\u001b[0m\u001b[0;34m\u001b[0m\u001b[0m\n",
      "\u001b[0;31mAttributeError\u001b[0m: 'list' object has no attribute 'shape'"
     ]
    }
   ],
   "source": [
    "predictions = []\n",
    "for name, clf in estimators:\n",
    "    pred = clf.predict_proba(x_test)\n",
    "    predictions.append(pred)\n",
    "predictions.append(voting_clf.predict_proba(x_test))"
   ]
  },
  {
   "cell_type": "code",
   "execution_count": 138,
   "id": "controversial-superintendent",
   "metadata": {},
   "outputs": [],
   "source": [
    "cols = [['lr_0', 'lr_1', 'lr_2'],['rf_0', 'rf_1', 'rf_2'],['svc_0', 'svc_1', 'svc_2'],\n",
    "        ['ada_0', 'ada_1', 'ada_2'],['xgb_0', 'xgb_1', 'xgb_2'],['vot_0', 'vot_1', 'vot_2']]"
   ]
  },
  {
   "cell_type": "code",
   "execution_count": 148,
   "id": "right-communist",
   "metadata": {},
   "outputs": [],
   "source": [
    "dfs = [pd.DataFrame(predictions[x], columns=cols[x]) for x in range(len(cols))]"
   ]
  },
  {
   "cell_type": "code",
   "execution_count": 159,
   "id": "sitting-modeling",
   "metadata": {},
   "outputs": [],
   "source": [
    "df = reduce(lambda left, right: pd.merge(left, right, left_index=True,right_index=True, how='left'), dfs)"
   ]
  },
  {
   "cell_type": "code",
   "execution_count": 160,
   "id": "timely-italic",
   "metadata": {},
   "outputs": [
    {
     "data": {
      "text/html": [
       "<div>\n",
       "<style scoped>\n",
       "    .dataframe tbody tr th:only-of-type {\n",
       "        vertical-align: middle;\n",
       "    }\n",
       "\n",
       "    .dataframe tbody tr th {\n",
       "        vertical-align: top;\n",
       "    }\n",
       "\n",
       "    .dataframe thead th {\n",
       "        text-align: right;\n",
       "    }\n",
       "</style>\n",
       "<table border=\"1\" class=\"dataframe\">\n",
       "  <thead>\n",
       "    <tr style=\"text-align: right;\">\n",
       "      <th></th>\n",
       "      <th>lr_0</th>\n",
       "      <th>lr_1</th>\n",
       "      <th>lr_2</th>\n",
       "      <th>rf_0</th>\n",
       "      <th>rf_1</th>\n",
       "      <th>rf_2</th>\n",
       "      <th>svc_0</th>\n",
       "      <th>svc_1</th>\n",
       "      <th>svc_2</th>\n",
       "      <th>ada_0</th>\n",
       "      <th>ada_1</th>\n",
       "      <th>ada_2</th>\n",
       "      <th>xgb_0</th>\n",
       "      <th>xgb_1</th>\n",
       "      <th>xgb_2</th>\n",
       "      <th>vot_0</th>\n",
       "      <th>vot_1</th>\n",
       "      <th>vot_2</th>\n",
       "    </tr>\n",
       "  </thead>\n",
       "  <tbody>\n",
       "    <tr>\n",
       "      <th>0</th>\n",
       "      <td>0.036171</td>\n",
       "      <td>0.149746</td>\n",
       "      <td>0.814083</td>\n",
       "      <td>0.000000</td>\n",
       "      <td>0.000000</td>\n",
       "      <td>1.000</td>\n",
       "      <td>0.037561</td>\n",
       "      <td>0.201438</td>\n",
       "      <td>0.761001</td>\n",
       "      <td>0.322713</td>\n",
       "      <td>0.330782</td>\n",
       "      <td>0.346505</td>\n",
       "      <td>0.063176</td>\n",
       "      <td>0.086498</td>\n",
       "      <td>0.850326</td>\n",
       "      <td>0.091959</td>\n",
       "      <td>0.153558</td>\n",
       "      <td>0.754484</td>\n",
       "    </tr>\n",
       "    <tr>\n",
       "      <th>1</th>\n",
       "      <td>0.695696</td>\n",
       "      <td>0.304276</td>\n",
       "      <td>0.000028</td>\n",
       "      <td>0.223810</td>\n",
       "      <td>0.776190</td>\n",
       "      <td>0.000</td>\n",
       "      <td>0.770742</td>\n",
       "      <td>0.207879</td>\n",
       "      <td>0.021380</td>\n",
       "      <td>0.408875</td>\n",
       "      <td>0.403441</td>\n",
       "      <td>0.187684</td>\n",
       "      <td>0.341765</td>\n",
       "      <td>0.657983</td>\n",
       "      <td>0.000251</td>\n",
       "      <td>0.484422</td>\n",
       "      <td>0.473816</td>\n",
       "      <td>0.041762</td>\n",
       "    </tr>\n",
       "    <tr>\n",
       "      <th>2</th>\n",
       "      <td>0.999037</td>\n",
       "      <td>0.000911</td>\n",
       "      <td>0.000052</td>\n",
       "      <td>0.870383</td>\n",
       "      <td>0.119617</td>\n",
       "      <td>0.010</td>\n",
       "      <td>0.457596</td>\n",
       "      <td>0.538727</td>\n",
       "      <td>0.003677</td>\n",
       "      <td>0.509080</td>\n",
       "      <td>0.253179</td>\n",
       "      <td>0.237741</td>\n",
       "      <td>0.999356</td>\n",
       "      <td>0.000592</td>\n",
       "      <td>0.000052</td>\n",
       "      <td>0.759597</td>\n",
       "      <td>0.192116</td>\n",
       "      <td>0.048286</td>\n",
       "    </tr>\n",
       "    <tr>\n",
       "      <th>3</th>\n",
       "      <td>0.000158</td>\n",
       "      <td>0.081920</td>\n",
       "      <td>0.917922</td>\n",
       "      <td>0.000000</td>\n",
       "      <td>0.000000</td>\n",
       "      <td>1.000</td>\n",
       "      <td>0.022437</td>\n",
       "      <td>0.201767</td>\n",
       "      <td>0.775796</td>\n",
       "      <td>0.319523</td>\n",
       "      <td>0.330755</td>\n",
       "      <td>0.349722</td>\n",
       "      <td>0.014762</td>\n",
       "      <td>0.082466</td>\n",
       "      <td>0.902771</td>\n",
       "      <td>0.071375</td>\n",
       "      <td>0.139253</td>\n",
       "      <td>0.789371</td>\n",
       "    </tr>\n",
       "    <tr>\n",
       "      <th>4</th>\n",
       "      <td>0.000010</td>\n",
       "      <td>0.138197</td>\n",
       "      <td>0.861793</td>\n",
       "      <td>0.000000</td>\n",
       "      <td>0.035000</td>\n",
       "      <td>0.965</td>\n",
       "      <td>0.019872</td>\n",
       "      <td>0.204047</td>\n",
       "      <td>0.776081</td>\n",
       "      <td>0.314978</td>\n",
       "      <td>0.335000</td>\n",
       "      <td>0.350021</td>\n",
       "      <td>0.010490</td>\n",
       "      <td>0.071701</td>\n",
       "      <td>0.917809</td>\n",
       "      <td>0.069082</td>\n",
       "      <td>0.156989</td>\n",
       "      <td>0.773929</td>\n",
       "    </tr>\n",
       "  </tbody>\n",
       "</table>\n",
       "</div>"
      ],
      "text/plain": [
       "       lr_0      lr_1      lr_2      rf_0      rf_1   rf_2     svc_0  \\\n",
       "0  0.036171  0.149746  0.814083  0.000000  0.000000  1.000  0.037561   \n",
       "1  0.695696  0.304276  0.000028  0.223810  0.776190  0.000  0.770742   \n",
       "2  0.999037  0.000911  0.000052  0.870383  0.119617  0.010  0.457596   \n",
       "3  0.000158  0.081920  0.917922  0.000000  0.000000  1.000  0.022437   \n",
       "4  0.000010  0.138197  0.861793  0.000000  0.035000  0.965  0.019872   \n",
       "\n",
       "      svc_1     svc_2     ada_0     ada_1     ada_2     xgb_0     xgb_1  \\\n",
       "0  0.201438  0.761001  0.322713  0.330782  0.346505  0.063176  0.086498   \n",
       "1  0.207879  0.021380  0.408875  0.403441  0.187684  0.341765  0.657983   \n",
       "2  0.538727  0.003677  0.509080  0.253179  0.237741  0.999356  0.000592   \n",
       "3  0.201767  0.775796  0.319523  0.330755  0.349722  0.014762  0.082466   \n",
       "4  0.204047  0.776081  0.314978  0.335000  0.350021  0.010490  0.071701   \n",
       "\n",
       "      xgb_2     vot_0     vot_1     vot_2  \n",
       "0  0.850326  0.091959  0.153558  0.754484  \n",
       "1  0.000251  0.484422  0.473816  0.041762  \n",
       "2  0.000052  0.759597  0.192116  0.048286  \n",
       "3  0.902771  0.071375  0.139253  0.789371  \n",
       "4  0.917809  0.069082  0.156989  0.773929  "
      ]
     },
     "execution_count": 160,
     "metadata": {},
     "output_type": "execute_result"
    }
   ],
   "source": [
    "df.head()"
   ]
  },
  {
   "cell_type": "code",
   "execution_count": 161,
   "id": "adapted-mouse",
   "metadata": {},
   "outputs": [
    {
     "data": {
      "text/plain": [
       "(1436, 18)"
      ]
     },
     "execution_count": 161,
     "metadata": {},
     "output_type": "execute_result"
    }
   ],
   "source": [
    "df.shape"
   ]
  },
  {
   "cell_type": "code",
   "execution_count": null,
   "id": "surprised-spokesman",
   "metadata": {},
   "outputs": [],
   "source": []
  },
  {
   "cell_type": "code",
   "execution_count": 191,
   "id": "physical-accounting",
   "metadata": {},
   "outputs": [],
   "source": [
    "#npred = voting_clf.predict_proba(scaler.transform(test.drop(['id', 'location'],axis=1)))\n",
    "npred = model.predict_proba(scaler.transform(test))"
   ]
  },
  {
   "cell_type": "code",
   "execution_count": 192,
   "id": "civic-public",
   "metadata": {},
   "outputs": [],
   "source": [
    "pred_df=pd.DataFrame(npred,columns=['predict_0', 'predict_1', 'predict_2'])\n",
    "submission=pd.concat([ids,pred_df],axis=1)\n",
    "submission.to_csv('sub.csv',index=False,header=True)"
   ]
  },
  {
   "cell_type": "code",
   "execution_count": 195,
   "id": "coral-enlargement",
   "metadata": {},
   "outputs": [
    {
     "name": "stdout",
     "output_type": "stream",
     "text": [
      "Warning: Your Kaggle API key is readable by other users on this system! To fix this, you can run 'chmod 600 /home/ec2-user/.kaggle/kaggle.json'\n",
      "100%|████████████████████████████████████████| 711k/711k [00:00<00:00, 1.53MB/s]\n",
      "Successfully submitted to Telstra Network Disruptions"
     ]
    }
   ],
   "source": [
    "!kaggle competitions submit -c telstra-recruiting-network -f sub.csv -m \"StackingClassifier with SMOTE (balance dataset) with predict_proba\""
   ]
  },
  {
   "cell_type": "markdown",
   "id": "important-carroll",
   "metadata": {},
   "source": [
    "### Now lets try a simple NN"
   ]
  },
  {
   "cell_type": "code",
   "execution_count": 269,
   "id": "chronic-oasis",
   "metadata": {
    "collapsed": true,
    "jupyter": {
     "outputs_hidden": true
    }
   },
   "outputs": [
    {
     "name": "stdout",
     "output_type": "stream",
     "text": [
      "Collecting tensorflow\n",
      "  Downloading tensorflow-2.4.1-cp36-cp36m-manylinux2010_x86_64.whl (394.3 MB)\n",
      "\u001b[K     |████████████████████████████████| 394.3 MB 7.8 kB/s  eta 0:00:01\n",
      "\u001b[?25hCollecting grpcio~=1.32.0\n",
      "  Downloading grpcio-1.32.0-cp36-cp36m-manylinux2014_x86_64.whl (3.8 MB)\n",
      "\u001b[K     |████████████████████████████████| 3.8 MB 41.3 MB/s eta 0:00:01\n",
      "\u001b[?25hRequirement already satisfied: protobuf>=3.9.2 in /home/ec2-user/anaconda3/envs/python3/lib/python3.6/site-packages (from tensorflow) (3.15.2)\n",
      "Collecting tensorflow-estimator<2.5.0,>=2.4.0\n",
      "  Downloading tensorflow_estimator-2.4.0-py2.py3-none-any.whl (462 kB)\n",
      "\u001b[K     |████████████████████████████████| 462 kB 53.8 MB/s eta 0:00:01\n",
      "\u001b[?25hCollecting termcolor~=1.1.0\n",
      "  Downloading termcolor-1.1.0.tar.gz (3.9 kB)\n",
      "Collecting h5py~=2.10.0\n",
      "  Downloading h5py-2.10.0-cp36-cp36m-manylinux1_x86_64.whl (2.9 MB)\n",
      "\u001b[K     |████████████████████████████████| 2.9 MB 50.7 MB/s eta 0:00:01\n",
      "\u001b[?25hRequirement already satisfied: six~=1.15.0 in /home/ec2-user/anaconda3/envs/python3/lib/python3.6/site-packages (from tensorflow) (1.15.0)\n",
      "Requirement already satisfied: wrapt~=1.12.1 in /home/ec2-user/anaconda3/envs/python3/lib/python3.6/site-packages (from tensorflow) (1.12.1)\n",
      "Requirement already satisfied: typing-extensions~=3.7.4 in /home/ec2-user/anaconda3/envs/python3/lib/python3.6/site-packages (from tensorflow) (3.7.4.3)\n",
      "Requirement already satisfied: google-pasta~=0.2 in /home/ec2-user/anaconda3/envs/python3/lib/python3.6/site-packages (from tensorflow) (0.2.0)\n",
      "Collecting gast==0.3.3\n",
      "  Downloading gast-0.3.3-py2.py3-none-any.whl (9.7 kB)\n",
      "Collecting astunparse~=1.6.3\n",
      "  Downloading astunparse-1.6.3-py2.py3-none-any.whl (12 kB)\n",
      "Collecting opt-einsum~=3.3.0\n",
      "  Downloading opt_einsum-3.3.0-py3-none-any.whl (65 kB)\n",
      "\u001b[K     |████████████████████████████████| 65 kB 6.3 MB/s  eta 0:00:01\n",
      "\u001b[?25hRequirement already satisfied: wheel~=0.35 in /home/ec2-user/anaconda3/envs/python3/lib/python3.6/site-packages (from tensorflow) (0.36.2)\n",
      "Collecting absl-py~=0.10\n",
      "  Downloading absl_py-0.12.0-py3-none-any.whl (129 kB)\n",
      "\u001b[K     |████████████████████████████████| 129 kB 69.9 MB/s eta 0:00:01\n",
      "\u001b[?25hRequirement already satisfied: numpy~=1.19.2 in /home/ec2-user/anaconda3/envs/python3/lib/python3.6/site-packages (from tensorflow) (1.19.5)\n",
      "Collecting tensorboard~=2.4\n",
      "  Downloading tensorboard-2.4.1-py3-none-any.whl (10.6 MB)\n",
      "\u001b[K     |████████████████████████████████| 10.6 MB 34.3 MB/s eta 0:00:01\n",
      "\u001b[?25hCollecting flatbuffers~=1.12.0\n",
      "  Downloading flatbuffers-1.12-py2.py3-none-any.whl (15 kB)\n",
      "Collecting keras-preprocessing~=1.1.2\n",
      "  Downloading Keras_Preprocessing-1.1.2-py2.py3-none-any.whl (42 kB)\n",
      "\u001b[K     |████████████████████████████████| 42 kB 1.9 MB/s  eta 0:00:01\n",
      "\u001b[?25hCollecting tensorboard-plugin-wit>=1.6.0\n",
      "  Downloading tensorboard_plugin_wit-1.8.0-py3-none-any.whl (781 kB)\n",
      "\u001b[K     |████████████████████████████████| 781 kB 46.1 MB/s eta 0:00:01\n",
      "\u001b[?25hCollecting markdown>=2.6.8\n",
      "  Downloading Markdown-3.3.4-py3-none-any.whl (97 kB)\n",
      "\u001b[K     |████████████████████████████████| 97 kB 10.0 MB/s eta 0:00:01\n",
      "\u001b[?25hRequirement already satisfied: setuptools>=41.0.0 in /home/ec2-user/anaconda3/envs/python3/lib/python3.6/site-packages (from tensorboard~=2.4->tensorflow) (49.6.0.post20210108)\n",
      "Requirement already satisfied: requests<3,>=2.21.0 in /home/ec2-user/anaconda3/envs/python3/lib/python3.6/site-packages (from tensorboard~=2.4->tensorflow) (2.25.1)\n",
      "Requirement already satisfied: werkzeug>=0.11.15 in /home/ec2-user/anaconda3/envs/python3/lib/python3.6/site-packages (from tensorboard~=2.4->tensorflow) (1.0.1)\n",
      "Collecting google-auth<2,>=1.6.3\n",
      "  Downloading google_auth-1.28.0-py2.py3-none-any.whl (136 kB)\n",
      "\u001b[K     |████████████████████████████████| 136 kB 68.0 MB/s eta 0:00:01\n",
      "\u001b[?25hCollecting google-auth-oauthlib<0.5,>=0.4.1\n",
      "  Downloading google_auth_oauthlib-0.4.4-py2.py3-none-any.whl (18 kB)\n",
      "Collecting pyasn1-modules>=0.2.1\n",
      "  Downloading pyasn1_modules-0.2.8-py2.py3-none-any.whl (155 kB)\n",
      "\u001b[K     |████████████████████████████████| 155 kB 70.2 MB/s eta 0:00:01\n",
      "\u001b[?25hRequirement already satisfied: rsa<5,>=3.1.4 in /home/ec2-user/anaconda3/envs/python3/lib/python3.6/site-packages (from google-auth<2,>=1.6.3->tensorboard~=2.4->tensorflow) (4.7.2)\n",
      "Collecting cachetools<5.0,>=2.0.0\n",
      "  Downloading cachetools-4.2.1-py3-none-any.whl (12 kB)\n",
      "Collecting requests-oauthlib>=0.7.0\n",
      "  Downloading requests_oauthlib-1.3.0-py2.py3-none-any.whl (23 kB)\n",
      "Requirement already satisfied: importlib-metadata in /home/ec2-user/anaconda3/envs/python3/lib/python3.6/site-packages (from markdown>=2.6.8->tensorboard~=2.4->tensorflow) (3.7.0)\n",
      "Requirement already satisfied: pyasn1<0.5.0,>=0.4.6 in /home/ec2-user/anaconda3/envs/python3/lib/python3.6/site-packages (from pyasn1-modules>=0.2.1->google-auth<2,>=1.6.3->tensorboard~=2.4->tensorflow) (0.4.8)\n",
      "Requirement already satisfied: certifi>=2017.4.17 in /home/ec2-user/anaconda3/envs/python3/lib/python3.6/site-packages (from requests<3,>=2.21.0->tensorboard~=2.4->tensorflow) (2020.12.5)\n",
      "Requirement already satisfied: idna<3,>=2.5 in /home/ec2-user/anaconda3/envs/python3/lib/python3.6/site-packages (from requests<3,>=2.21.0->tensorboard~=2.4->tensorflow) (2.10)\n",
      "Requirement already satisfied: chardet<5,>=3.0.2 in /home/ec2-user/anaconda3/envs/python3/lib/python3.6/site-packages (from requests<3,>=2.21.0->tensorboard~=2.4->tensorflow) (3.0.4)\n",
      "Requirement already satisfied: urllib3<1.27,>=1.21.1 in /home/ec2-user/anaconda3/envs/python3/lib/python3.6/site-packages (from requests<3,>=2.21.0->tensorboard~=2.4->tensorflow) (1.26.3)\n",
      "Collecting oauthlib>=3.0.0\n",
      "  Downloading oauthlib-3.1.0-py2.py3-none-any.whl (147 kB)\n",
      "\u001b[K     |████████████████████████████████| 147 kB 67.9 MB/s eta 0:00:01\n",
      "\u001b[?25hRequirement already satisfied: zipp>=0.5 in /home/ec2-user/anaconda3/envs/python3/lib/python3.6/site-packages (from importlib-metadata->markdown>=2.6.8->tensorboard~=2.4->tensorflow) (3.4.0)\n",
      "Building wheels for collected packages: termcolor\n",
      "  Building wheel for termcolor (setup.py) ... \u001b[?25ldone\n",
      "\u001b[?25h  Created wheel for termcolor: filename=termcolor-1.1.0-py3-none-any.whl size=4829 sha256=71b84df2e573ed3955761e53381f4bde26fd8f14ca980cf32a1145821d3f7e04\n",
      "  Stored in directory: /home/ec2-user/.cache/pip/wheels/93/2a/eb/e58dbcbc963549ee4f065ff80a59f274cc7210b6eab962acdc\n",
      "Successfully built termcolor\n",
      "Installing collected packages: pyasn1-modules, oauthlib, cachetools, requests-oauthlib, google-auth, tensorboard-plugin-wit, markdown, grpcio, google-auth-oauthlib, absl-py, termcolor, tensorflow-estimator, tensorboard, opt-einsum, keras-preprocessing, h5py, gast, flatbuffers, astunparse, tensorflow\n",
      "  Attempting uninstall: h5py\n",
      "    Found existing installation: h5py 3.1.0\n",
      "    Uninstalling h5py-3.1.0:\n",
      "      Successfully uninstalled h5py-3.1.0\n",
      "Successfully installed absl-py-0.12.0 astunparse-1.6.3 cachetools-4.2.1 flatbuffers-1.12 gast-0.3.3 google-auth-1.28.0 google-auth-oauthlib-0.4.4 grpcio-1.32.0 h5py-2.10.0 keras-preprocessing-1.1.2 markdown-3.3.4 oauthlib-3.1.0 opt-einsum-3.3.0 pyasn1-modules-0.2.8 requests-oauthlib-1.3.0 tensorboard-2.4.1 tensorboard-plugin-wit-1.8.0 tensorflow-2.4.1 tensorflow-estimator-2.4.0 termcolor-1.1.0\n"
     ]
    }
   ],
   "source": [
    "!pip install tensorflow"
   ]
  },
  {
   "cell_type": "code",
   "execution_count": 339,
   "id": "going-option",
   "metadata": {},
   "outputs": [],
   "source": [
    "scaler = StandardScaler()\n",
    "x_scaled = scaler.fit_transform(x_resampledx)\n",
    "test_scaled = scaler.transform(test.drop(['id','location'],axis=1))"
   ]
  },
  {
   "cell_type": "code",
   "execution_count": 202,
   "id": "mounted-prevention",
   "metadata": {},
   "outputs": [],
   "source": [
    "from tensorflow.keras.models import Sequential\n",
    "from tensorflow.keras.layers import Dense, Dropout\n",
    "from tensorflow.keras.wrappers.scikit_learn import KerasClassifier"
   ]
  },
  {
   "cell_type": "code",
   "execution_count": 273,
   "id": "printable-thickness",
   "metadata": {},
   "outputs": [
    {
     "data": {
      "text/plain": [
       "(14352, 337)"
      ]
     },
     "execution_count": 273,
     "metadata": {},
     "output_type": "execute_result"
    }
   ],
   "source": [
    "x_scaled.shape"
   ]
  },
  {
   "cell_type": "code",
   "execution_count": 196,
   "id": "surprised-family",
   "metadata": {},
   "outputs": [],
   "source": [
    "def create_model():\n",
    "    model = Sequential()\n",
    "    model.add(Dense(337, activation='relu'))\n",
    "    model.add(Dropout(0.3))\n",
    "    model.add(Dense(100, activation='relu'))\n",
    "    model.add(Dropout(0.2))\n",
    "    model.add(Dense(3, activation='softmax'))\n",
    "    \n",
    "    model.compile(loss='categorical_crossentropy', optimizer='adam', metrics=['accuracy'])\n",
    "    return model"
   ]
  },
  {
   "cell_type": "code",
   "execution_count": null,
   "id": "rotary-heath",
   "metadata": {},
   "outputs": [],
   "source": [
    "model=create_model()"
   ]
  },
  {
   "cell_type": "code",
   "execution_count": 281,
   "id": "requested-punishment",
   "metadata": {},
   "outputs": [],
   "source": [
    "from tensorflow.keras.callbacks import EarlyStopping"
   ]
  },
  {
   "cell_type": "code",
   "execution_count": 209,
   "id": "affected-calibration",
   "metadata": {},
   "outputs": [],
   "source": [
    "def create_3D_pred_input(y):\n",
    "    cols = ['predict_0', 'predict_1', 'predict_2']\n",
    "    pred_df=pd.DataFrame(columns=cols)\n",
    "    for value in y:\n",
    "        row = [0,0,0]\n",
    "        if value == 0:\n",
    "            row = [1.0,0.0,0.0]\n",
    "        elif value == 1:\n",
    "            row = [0.0,1.0,0.0]\n",
    "        elif value == 2:\n",
    "            row = [0.0,0.0,1.0]\n",
    "        series = pd.Series(dict(zip(cols,row)))\n",
    "        pred_df = pred_df.append(series, ignore_index=True)\n",
    "\n",
    "    return pred_df"
   ]
  },
  {
   "cell_type": "code",
   "execution_count": 210,
   "id": "hungry-democrat",
   "metadata": {},
   "outputs": [],
   "source": [
    "y = create_3D_pred_input(y_train)"
   ]
  },
  {
   "cell_type": "code",
   "execution_count": 208,
   "id": "enclosed-indie",
   "metadata": {},
   "outputs": [
    {
     "data": {
      "text/plain": [
       "((12916, 337), (12916,))"
      ]
     },
     "execution_count": 208,
     "metadata": {},
     "output_type": "execute_result"
    }
   ],
   "source": [
    "x_train.shape, y_train.shape"
   ]
  },
  {
   "cell_type": "code",
   "execution_count": 211,
   "id": "religious-microphone",
   "metadata": {
    "collapsed": true,
    "jupyter": {
     "outputs_hidden": true
    }
   },
   "outputs": [
    {
     "name": "stdout",
     "output_type": "stream",
     "text": [
      "Epoch 1/30\n",
      "404/404 [==============================] - 1s 2ms/step - loss: 0.7455 - accuracy: 0.7004\n",
      "Epoch 2/30\n",
      "404/404 [==============================] - 1s 2ms/step - loss: 0.4740 - accuracy: 0.7807\n",
      "Epoch 3/30\n",
      "404/404 [==============================] - 1s 2ms/step - loss: 0.4467 - accuracy: 0.7917\n",
      "Epoch 4/30\n",
      "404/404 [==============================] - 1s 2ms/step - loss: 0.4409 - accuracy: 0.7944\n",
      "Epoch 5/30\n",
      "404/404 [==============================] - 1s 2ms/step - loss: 0.4301 - accuracy: 0.7996\n",
      "Epoch 6/30\n",
      "404/404 [==============================] - 1s 2ms/step - loss: 0.4166 - accuracy: 0.8113\n",
      "Epoch 7/30\n",
      "404/404 [==============================] - 1s 2ms/step - loss: 0.4196 - accuracy: 0.8018\n",
      "Epoch 8/30\n",
      "404/404 [==============================] - 1s 2ms/step - loss: 0.4031 - accuracy: 0.8124\n",
      "Epoch 9/30\n",
      "404/404 [==============================] - 1s 2ms/step - loss: 0.4023 - accuracy: 0.8148\n",
      "Epoch 10/30\n",
      "404/404 [==============================] - 1s 2ms/step - loss: 0.3973 - accuracy: 0.8168\n",
      "Epoch 11/30\n",
      "404/404 [==============================] - 1s 2ms/step - loss: 0.3896 - accuracy: 0.8230\n",
      "Epoch 12/30\n",
      "404/404 [==============================] - 1s 2ms/step - loss: 0.3927 - accuracy: 0.8198\n",
      "Epoch 13/30\n",
      "404/404 [==============================] - 1s 2ms/step - loss: 0.3891 - accuracy: 0.8248\n",
      "Epoch 14/30\n",
      "404/404 [==============================] - 1s 2ms/step - loss: 0.3917 - accuracy: 0.8172\n",
      "Epoch 15/30\n",
      "404/404 [==============================] - 1s 2ms/step - loss: 0.3887 - accuracy: 0.8258\n",
      "Epoch 16/30\n",
      "404/404 [==============================] - 1s 2ms/step - loss: 0.3912 - accuracy: 0.8199\n",
      "Epoch 17/30\n",
      "404/404 [==============================] - 1s 2ms/step - loss: 0.3843 - accuracy: 0.8228\n",
      "Epoch 18/30\n",
      "404/404 [==============================] - 1s 2ms/step - loss: 0.3889 - accuracy: 0.8212\n",
      "Epoch 19/30\n",
      "404/404 [==============================] - 1s 2ms/step - loss: 0.3884 - accuracy: 0.8197\n",
      "Epoch 20/30\n",
      "404/404 [==============================] - 1s 2ms/step - loss: 0.3827 - accuracy: 0.8243\n",
      "Epoch 21/30\n",
      "404/404 [==============================] - 1s 2ms/step - loss: 0.3866 - accuracy: 0.8190\n",
      "Epoch 22/30\n",
      "404/404 [==============================] - 1s 2ms/step - loss: 0.3746 - accuracy: 0.8307\n",
      "Epoch 23/30\n",
      "404/404 [==============================] - 1s 2ms/step - loss: 0.3745 - accuracy: 0.8265\n",
      "Epoch 24/30\n",
      "404/404 [==============================] - 1s 2ms/step - loss: 0.3748 - accuracy: 0.8248\n",
      "Epoch 25/30\n",
      "404/404 [==============================] - 1s 2ms/step - loss: 0.3785 - accuracy: 0.8223\n",
      "Epoch 26/30\n",
      "404/404 [==============================] - 1s 2ms/step - loss: 0.3765 - accuracy: 0.8293\n",
      "Epoch 27/30\n",
      "404/404 [==============================] - 1s 2ms/step - loss: 0.3740 - accuracy: 0.8247\n",
      "Epoch 28/30\n",
      "404/404 [==============================] - 1s 2ms/step - loss: 0.3695 - accuracy: 0.8319\n",
      "Epoch 29/30\n",
      "404/404 [==============================] - 1s 2ms/step - loss: 0.3660 - accuracy: 0.8304\n",
      "Epoch 30/30\n",
      "404/404 [==============================] - 1s 2ms/step - loss: 0.3745 - accuracy: 0.8260\n"
     ]
    },
    {
     "data": {
      "text/plain": [
       "<tensorflow.python.keras.callbacks.History at 0x7fc39437c710>"
      ]
     },
     "execution_count": 211,
     "metadata": {},
     "output_type": "execute_result"
    }
   ],
   "source": [
    "model.fit(x_train, y.values, epochs=30)#, callbacks=[EarlyStopping(patience=4, monitor='loss')])"
   ]
  },
  {
   "cell_type": "code",
   "execution_count": 340,
   "id": "happy-setting",
   "metadata": {},
   "outputs": [
    {
     "data": {
      "text/plain": [
       "array([[ 5.14188333e-01, -1.33436586e+00,  4.30551255e-01, ...,\n",
       "        -1.44593846e-02,  0.00000000e+00, -1.18056267e-02],\n",
       "       [ 9.71059163e+00, -1.30863729e+00,  4.30551255e-01, ...,\n",
       "        -1.44593846e-02,  0.00000000e+00, -1.18056267e-02],\n",
       "       [-4.00371110e-01, -6.19969234e-01,  4.30551255e-01, ...,\n",
       "        -1.44593846e-02,  0.00000000e+00, -1.18056267e-02],\n",
       "       [ 6.09975350e-03, -5.63938126e-01,  4.30551255e-01, ...,\n",
       "        -1.44593846e-02,  0.00000000e+00, -1.18056267e-02],\n",
       "       [-4.00371110e-01, -3.88840915e-01,  4.30551255e-01, ...,\n",
       "        -1.44593846e-02,  0.00000000e+00, -1.18056267e-02]])"
      ]
     },
     "execution_count": 340,
     "metadata": {},
     "output_type": "execute_result"
    }
   ],
   "source": [
    "x_scaled[:5]"
   ]
  },
  {
   "cell_type": "code",
   "execution_count": 213,
   "id": "fabulous-acceptance",
   "metadata": {},
   "outputs": [],
   "source": [
    "predictions = model.predict(scaler.transform(test))"
   ]
  },
  {
   "cell_type": "code",
   "execution_count": 214,
   "id": "directed-description",
   "metadata": {},
   "outputs": [
    {
     "data": {
      "text/plain": [
       "array([[0.98797917, 0.00926533, 0.00275553],\n",
       "       [0.22223507, 0.27666926, 0.50109565],\n",
       "       [0.99999452, 0.00000541, 0.00000017],\n",
       "       ...,\n",
       "       [0.25923043, 0.736687  , 0.0040826 ],\n",
       "       [0.99117082, 0.0088291 , 0.        ],\n",
       "       [0.99922204, 0.00075084, 0.00002713]])"
      ]
     },
     "execution_count": 214,
     "metadata": {},
     "output_type": "execute_result"
    }
   ],
   "source": [
    "np.set_printoptions(suppress=True)\n",
    "predictions.astype('float')"
   ]
  },
  {
   "cell_type": "code",
   "execution_count": 215,
   "id": "charged-toilet",
   "metadata": {},
   "outputs": [],
   "source": [
    "pred_df=pd.DataFrame(predictions,columns=['predict_0', 'predict_1', 'predict_2'])\n",
    "submission=pd.concat([ids,pred_df],axis=1)\n",
    "submission.to_csv('sub.csv',index=False,header=True)"
   ]
  },
  {
   "cell_type": "code",
   "execution_count": 216,
   "id": "greek-internet",
   "metadata": {},
   "outputs": [
    {
     "name": "stdout",
     "output_type": "stream",
     "text": [
      "Warning: Your Kaggle API key is readable by other users on this system! To fix this, you can run 'chmod 600 /home/ec2-user/.kaggle/kaggle.json'\n",
      "100%|████████████████████████████████████████| 438k/438k [00:00<00:00, 1.21MB/s]\n",
      "Successfully submitted to Telstra Network Disruptions"
     ]
    }
   ],
   "source": [
    "!kaggle competitions submit -c telstra-recruiting-network -f sub.csv -m \"Keras Dense + Dropout .2 + Dense + Dropout.3\""
   ]
  },
  {
   "cell_type": "markdown",
   "id": "arctic-trouble",
   "metadata": {},
   "source": [
    "### Using all training data to predict on test (no split)"
   ]
  },
  {
   "cell_type": "code",
   "execution_count": 220,
   "id": "expressed-triangle",
   "metadata": {},
   "outputs": [
    {
     "data": {
      "text/plain": [
       "((14352, 337), (14352,))"
      ]
     },
     "execution_count": 220,
     "metadata": {},
     "output_type": "execute_result"
    }
   ],
   "source": [
    "# Train with whole datase\n",
    "x_resampled.shape, y_resamples.shape"
   ]
  },
  {
   "cell_type": "code",
   "execution_count": 224,
   "id": "weird-daughter",
   "metadata": {},
   "outputs": [],
   "source": [
    "scaler = StandardScaler()\n",
    "X = scaler.fit_transform(x_resampled)\n",
    "Y = scaler.transform(test)"
   ]
  },
  {
   "cell_type": "code",
   "execution_count": 225,
   "id": "banned-camcorder",
   "metadata": {},
   "outputs": [],
   "source": [
    "# Testing with keras\n",
    "y = create_3D_pred_input(y_resamples)"
   ]
  },
  {
   "cell_type": "code",
   "execution_count": 226,
   "id": "acoustic-regard",
   "metadata": {},
   "outputs": [],
   "source": [
    "model = create_model()"
   ]
  },
  {
   "cell_type": "code",
   "execution_count": 227,
   "id": "breathing-nirvana",
   "metadata": {
    "collapsed": true,
    "jupyter": {
     "outputs_hidden": true
    }
   },
   "outputs": [
    {
     "name": "stdout",
     "output_type": "stream",
     "text": [
      "Epoch 1/30\n",
      "449/449 [==============================] - 1s 2ms/step - loss: 0.7163 - accuracy: 0.7201\n",
      "Epoch 2/30\n",
      "449/449 [==============================] - 1s 2ms/step - loss: 0.4770 - accuracy: 0.7831\n",
      "Epoch 3/30\n",
      "449/449 [==============================] - 1s 2ms/step - loss: 0.4424 - accuracy: 0.7910\n",
      "Epoch 4/30\n",
      "449/449 [==============================] - 1s 2ms/step - loss: 0.4266 - accuracy: 0.8023\n",
      "Epoch 5/30\n",
      "449/449 [==============================] - 1s 2ms/step - loss: 0.4240 - accuracy: 0.7998\n",
      "Epoch 6/30\n",
      "449/449 [==============================] - 1s 2ms/step - loss: 0.4208 - accuracy: 0.8033\n",
      "Epoch 7/30\n",
      "449/449 [==============================] - 1s 2ms/step - loss: 0.4072 - accuracy: 0.8082\n",
      "Epoch 8/30\n",
      "449/449 [==============================] - 1s 2ms/step - loss: 0.4116 - accuracy: 0.8038\n",
      "Epoch 9/30\n",
      "449/449 [==============================] - 1s 2ms/step - loss: 0.4023 - accuracy: 0.8145\n",
      "Epoch 10/30\n",
      "449/449 [==============================] - 1s 2ms/step - loss: 0.4010 - accuracy: 0.8115\n",
      "Epoch 11/30\n",
      "449/449 [==============================] - 1s 2ms/step - loss: 0.4007 - accuracy: 0.8135\n",
      "Epoch 12/30\n",
      "449/449 [==============================] - 1s 2ms/step - loss: 0.3889 - accuracy: 0.8214\n",
      "Epoch 13/30\n",
      "449/449 [==============================] - 1s 2ms/step - loss: 0.3970 - accuracy: 0.8173\n",
      "Epoch 14/30\n",
      "449/449 [==============================] - 1s 2ms/step - loss: 0.3826 - accuracy: 0.8229\n",
      "Epoch 15/30\n",
      "449/449 [==============================] - 1s 2ms/step - loss: 0.3864 - accuracy: 0.8222\n",
      "Epoch 16/30\n",
      "449/449 [==============================] - 1s 2ms/step - loss: 0.3879 - accuracy: 0.8223\n",
      "Epoch 17/30\n",
      "449/449 [==============================] - 1s 2ms/step - loss: 0.3860 - accuracy: 0.8217\n",
      "Epoch 18/30\n",
      "449/449 [==============================] - 1s 2ms/step - loss: 0.3995 - accuracy: 0.8174\n",
      "Epoch 19/30\n",
      "449/449 [==============================] - 1s 2ms/step - loss: 0.3835 - accuracy: 0.8229\n",
      "Epoch 20/30\n",
      "449/449 [==============================] - 1s 2ms/step - loss: 0.3909 - accuracy: 0.8214\n",
      "Epoch 21/30\n",
      "449/449 [==============================] - 1s 2ms/step - loss: 0.3802 - accuracy: 0.8277\n"
     ]
    },
    {
     "data": {
      "text/plain": [
       "<tensorflow.python.keras.callbacks.History at 0x7fc3941d6240>"
      ]
     },
     "execution_count": 227,
     "metadata": {},
     "output_type": "execute_result"
    }
   ],
   "source": [
    "model.fit(X, y, epochs=30, callbacks=[EarlyStopping(patience=4, monitor='accuracy')])"
   ]
  },
  {
   "cell_type": "code",
   "execution_count": 228,
   "id": "sweet-grammar",
   "metadata": {},
   "outputs": [],
   "source": [
    "pred = model.predict(Y)"
   ]
  },
  {
   "cell_type": "code",
   "execution_count": 229,
   "id": "involved-harmony",
   "metadata": {},
   "outputs": [],
   "source": [
    "pred_df=pd.DataFrame(pred,columns=['predict_0', 'predict_1', 'predict_2'])\n",
    "submission=pd.concat([ids,pred_df],axis=1)\n",
    "submission.to_csv('sub.csv',index=False,header=True)"
   ]
  },
  {
   "cell_type": "code",
   "execution_count": 230,
   "id": "yellow-wesley",
   "metadata": {},
   "outputs": [
    {
     "name": "stdout",
     "output_type": "stream",
     "text": [
      "Warning: Your Kaggle API key is readable by other users on this system! To fix this, you can run 'chmod 600 /home/ec2-user/.kaggle/kaggle.json'\n",
      "100%|█████████████████████████████████████████| 438k/438k [00:00<00:00, 916kB/s]\n",
      "Successfully submitted to Telstra Network Disruptions"
     ]
    }
   ],
   "source": [
    "!kaggle competitions submit -c telstra-recruiting-network -f sub.csv -m \"All training data Keras Dense + Dropout .2 + Dense + Dropout.3\""
   ]
  },
  {
   "cell_type": "code",
   "execution_count": 241,
   "id": "independent-consent",
   "metadata": {},
   "outputs": [],
   "source": [
    "# Votting Classifier\n",
    "rnd_clf.fit(X, y_resamples)\n",
    "rnd_pred = rnd_clf.predict_proba(Y)"
   ]
  },
  {
   "cell_type": "code",
   "execution_count": 242,
   "id": "short-talent",
   "metadata": {},
   "outputs": [],
   "source": [
    "voting_clf.fit(X, y_resamples)\n",
    "voting_pred = voting_clf.predict_proba(Y)"
   ]
  },
  {
   "cell_type": "code",
   "execution_count": 243,
   "id": "placed-surgeon",
   "metadata": {},
   "outputs": [],
   "source": [
    "stacking_clf = StackingClassifier(estimators=estimators, final_estimator=RandomForestClassifier(), cv=5)\n",
    "stacking_clf.fit(X, y_resamples)\n",
    "stacking_pred = stacking_clf.predict_proba(Y)"
   ]
  },
  {
   "cell_type": "code",
   "execution_count": 248,
   "id": "irish-belly",
   "metadata": {},
   "outputs": [],
   "source": [
    "pred_df=pd.DataFrame(stacking_pred,columns=['predict_0', 'predict_1', 'predict_2'])\n",
    "submission=pd.concat([ids,pred_df],axis=1)\n",
    "submission.to_csv('stacking_sub.csv',index=False,header=True)"
   ]
  },
  {
   "cell_type": "code",
   "execution_count": 249,
   "id": "internal-insertion",
   "metadata": {},
   "outputs": [
    {
     "name": "stdout",
     "output_type": "stream",
     "text": [
      "Warning: Your Kaggle API key is readable by other users on this system! To fix this, you can run 'chmod 600 /home/ec2-user/.kaggle/kaggle.json'\n",
      "100%|█████████████████████████████████████████| 344k/344k [00:00<00:00, 821kB/s]\n",
      "Successfully submitted to Telstra Network Disruptions"
     ]
    }
   ],
   "source": [
    "!kaggle competitions submit -c telstra-recruiting-network -f stacking_sub.csv -m \"StackingClassifier Final\""
   ]
  },
  {
   "cell_type": "markdown",
   "id": "brutal-indonesia",
   "metadata": {},
   "source": [
    "### Create an stacked model with VotingClassifier + XGBoost + Keras"
   ]
  },
  {
   "cell_type": "code",
   "execution_count": null,
   "id": "handy-summer",
   "metadata": {},
   "outputs": [],
   "source": []
  }
 ],
 "metadata": {
  "kernelspec": {
   "display_name": "conda_python3",
   "language": "python",
   "name": "conda_python3"
  },
  "language_info": {
   "codemirror_mode": {
    "name": "ipython",
    "version": 3
   },
   "file_extension": ".py",
   "mimetype": "text/x-python",
   "name": "python",
   "nbconvert_exporter": "python",
   "pygments_lexer": "ipython3",
   "version": "3.6.13"
  }
 },
 "nbformat": 4,
 "nbformat_minor": 5
}
