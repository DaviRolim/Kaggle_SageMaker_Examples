{
 "cells": [
  {
   "cell_type": "code",
   "execution_count": 3,
   "id": "tender-brazilian",
   "metadata": {},
   "outputs": [],
   "source": [
    "import sys\n",
    "import os\n",
    "import time\n",
    "import pprint\n",
    "\n",
    "import boto3\n",
    "# importing forecast notebook utility from notebooks/common directory\n",
    "#sys.path.insert( 0, os.path.abspath(\"../../common\") )\n",
    "import util\n",
    "\n",
    "pp = pprint.PrettyPrinter(indent=2)  # Better display for dictionaries"
   ]
  },
  {
   "cell_type": "code",
   "execution_count": 4,
   "id": "happy-validation",
   "metadata": {},
   "outputs": [],
   "source": [
    "import pandas as pd\n",
    "import numpy as np\n",
    "import matplotlib.pyplot as plt\n",
    "plt.rc('figure',figsize=(12,6))\n",
    "import seaborn as sns"
   ]
  },
  {
   "cell_type": "code",
   "execution_count": 5,
   "id": "crude-savings",
   "metadata": {},
   "outputs": [],
   "source": [
    "import warnings\n",
    "warnings.filterwarnings(\"ignore\")\n"
   ]
  },
  {
   "cell_type": "code",
   "execution_count": 6,
   "id": "detailed-novel",
   "metadata": {},
   "outputs": [],
   "source": [
    "train = pd.read_csv('train.csv', parse_dates=[0])\n",
    "test = pd.read_csv('test.csv', parse_dates=[0])"
   ]
  },
  {
   "cell_type": "code",
   "execution_count": 95,
   "id": "roman-option",
   "metadata": {},
   "outputs": [
    {
     "data": {
      "text/plain": [
       "1826"
      ]
     },
     "execution_count": 95,
     "metadata": {},
     "output_type": "execute_result"
    }
   ],
   "source": [
    "train.date.nunique()"
   ]
  },
  {
   "cell_type": "code",
   "execution_count": 94,
   "id": "atomic-burning",
   "metadata": {},
   "outputs": [
    {
     "data": {
      "text/plain": [
       "array(['2018-01-01', '2018-01-02', '2018-01-03', '2018-01-04',\n",
       "       '2018-01-05', '2018-01-06', '2018-01-07', '2018-01-08',\n",
       "       '2018-01-09', '2018-01-10', '2018-01-11', '2018-01-12',\n",
       "       '2018-01-13', '2018-01-14', '2018-01-15', '2018-01-16',\n",
       "       '2018-01-17', '2018-01-18', '2018-01-19', '2018-01-20',\n",
       "       '2018-01-21', '2018-01-22', '2018-01-23', '2018-01-24',\n",
       "       '2018-01-25', '2018-01-26', '2018-01-27', '2018-01-28',\n",
       "       '2018-01-29', '2018-01-30', '2018-01-31', '2018-02-01',\n",
       "       '2018-02-02', '2018-02-03', '2018-02-04', '2018-02-05',\n",
       "       '2018-02-06', '2018-02-07', '2018-02-08', '2018-02-09',\n",
       "       '2018-02-10', '2018-02-11', '2018-02-12', '2018-02-13',\n",
       "       '2018-02-14', '2018-02-15', '2018-02-16', '2018-02-17',\n",
       "       '2018-02-18', '2018-02-19', '2018-02-20', '2018-02-21',\n",
       "       '2018-02-22', '2018-02-23', '2018-02-24', '2018-02-25',\n",
       "       '2018-02-26', '2018-02-27', '2018-02-28', '2018-03-01',\n",
       "       '2018-03-02', '2018-03-03', '2018-03-04', '2018-03-05',\n",
       "       '2018-03-06', '2018-03-07', '2018-03-08', '2018-03-09',\n",
       "       '2018-03-10', '2018-03-11', '2018-03-12', '2018-03-13',\n",
       "       '2018-03-14', '2018-03-15', '2018-03-16', '2018-03-17',\n",
       "       '2018-03-18', '2018-03-19', '2018-03-20', '2018-03-21',\n",
       "       '2018-03-22', '2018-03-23', '2018-03-24', '2018-03-25',\n",
       "       '2018-03-26', '2018-03-27', '2018-03-28', '2018-03-29',\n",
       "       '2018-03-30', '2018-03-31'], dtype=object)"
      ]
     },
     "execution_count": 94,
     "metadata": {},
     "output_type": "execute_result"
    }
   ],
   "source": [
    "test.date.nunique()"
   ]
  },
  {
   "cell_type": "code",
   "execution_count": null,
   "id": "suspected-rhythm",
   "metadata": {},
   "outputs": [],
   "source": [
    "train = train.sort_values(by='date')"
   ]
  },
  {
   "cell_type": "code",
   "execution_count": 57,
   "id": "continent-anger",
   "metadata": {},
   "outputs": [
    {
     "name": "stdout",
     "output_type": "stream",
     "text": [
      "(913000, 4)\n"
     ]
    },
    {
     "data": {
      "text/html": [
       "<div>\n",
       "<style scoped>\n",
       "    .dataframe tbody tr th:only-of-type {\n",
       "        vertical-align: middle;\n",
       "    }\n",
       "\n",
       "    .dataframe tbody tr th {\n",
       "        vertical-align: top;\n",
       "    }\n",
       "\n",
       "    .dataframe thead th {\n",
       "        text-align: right;\n",
       "    }\n",
       "</style>\n",
       "<table border=\"1\" class=\"dataframe\">\n",
       "  <thead>\n",
       "    <tr style=\"text-align: right;\">\n",
       "      <th></th>\n",
       "      <th>date</th>\n",
       "      <th>store</th>\n",
       "      <th>item</th>\n",
       "      <th>sales</th>\n",
       "    </tr>\n",
       "  </thead>\n",
       "  <tbody>\n",
       "    <tr>\n",
       "      <th>0</th>\n",
       "      <td>2013-01-01</td>\n",
       "      <td>1</td>\n",
       "      <td>1</td>\n",
       "      <td>13</td>\n",
       "    </tr>\n",
       "    <tr>\n",
       "      <th>1</th>\n",
       "      <td>2013-01-02</td>\n",
       "      <td>1</td>\n",
       "      <td>1</td>\n",
       "      <td>11</td>\n",
       "    </tr>\n",
       "    <tr>\n",
       "      <th>2</th>\n",
       "      <td>2013-01-03</td>\n",
       "      <td>1</td>\n",
       "      <td>1</td>\n",
       "      <td>14</td>\n",
       "    </tr>\n",
       "    <tr>\n",
       "      <th>3</th>\n",
       "      <td>2013-01-04</td>\n",
       "      <td>1</td>\n",
       "      <td>1</td>\n",
       "      <td>13</td>\n",
       "    </tr>\n",
       "    <tr>\n",
       "      <th>4</th>\n",
       "      <td>2013-01-05</td>\n",
       "      <td>1</td>\n",
       "      <td>1</td>\n",
       "      <td>10</td>\n",
       "    </tr>\n",
       "  </tbody>\n",
       "</table>\n",
       "</div>"
      ],
      "text/plain": [
       "        date  store  item  sales\n",
       "0 2013-01-01      1     1     13\n",
       "1 2013-01-02      1     1     11\n",
       "2 2013-01-03      1     1     14\n",
       "3 2013-01-04      1     1     13\n",
       "4 2013-01-05      1     1     10"
      ]
     },
     "execution_count": 57,
     "metadata": {},
     "output_type": "execute_result"
    }
   ],
   "source": [
    "print(train.shape)\n",
    "train.head()"
   ]
  },
  {
   "cell_type": "code",
   "execution_count": 7,
   "id": "eleven-method",
   "metadata": {},
   "outputs": [],
   "source": [
    "def print_error(test, value_column, predictions,date_column='',date_index=False):\n",
    "    if not date_index:\n",
    "        test.index = test[date_column]\n",
    "    test = test[[value_column]]\n",
    "\n",
    "    test['predictions'] = predictions\n",
    "        \n",
    "    test.plot(legend=True, figsize=(12,6))\n",
    "    \n",
    "    error_mse = mse(test[value_column], predictions)\n",
    "    error_rmse = rmse(test[value_column], predictions)\n",
    "    print(f'MSE: {error_mse:.2f}, RMSE: {error_rmse:.2f}')\n",
    "    test_mean = test.mean()\n",
    "    predictions_mean = predictions.mean()\n",
    "    print(f'But the mean should be somewhat similar -> test_mean: {test_mean}, predictions mean: {predictions_mean}')"
   ]
  },
  {
   "cell_type": "code",
   "execution_count": 71,
   "id": "dirty-functionality",
   "metadata": {},
   "outputs": [
    {
     "data": {
      "text/plain": [
       "date\n",
       "2013-01-01    13696\n",
       "2013-01-02    13678\n",
       "2013-01-03    14488\n",
       "2013-01-04    15677\n",
       "2013-01-05    16237\n",
       "              ...  \n",
       "2017-12-27    20378\n",
       "2017-12-28    21885\n",
       "2017-12-29    23535\n",
       "2017-12-30    24988\n",
       "2017-12-31    26420\n",
       "Freq: D, Name: sales, Length: 1826, dtype: int64"
      ]
     },
     "execution_count": 71,
     "metadata": {},
     "output_type": "execute_result"
    }
   ],
   "source": [
    "train.resample('D', on='date').sum()['sales']"
   ]
  },
  {
   "cell_type": "code",
   "execution_count": 72,
   "id": "prerequisite-resort",
   "metadata": {},
   "outputs": [],
   "source": [
    "train_to_forecast = train.drop('store', axis=1)"
   ]
  },
  {
   "cell_type": "code",
   "execution_count": 85,
   "id": "complimentary-joining",
   "metadata": {},
   "outputs": [],
   "source": [
    "train_to_forecast = train_to_forecast.groupby(['date', 'item']).sum().reset_index()"
   ]
  },
  {
   "cell_type": "code",
   "execution_count": 86,
   "id": "southeast-connectivity",
   "metadata": {},
   "outputs": [],
   "source": [
    "x = train_to_forecast[:-31]\n",
    "y = train_to_forecast[-31:]"
   ]
  },
  {
   "cell_type": "code",
   "execution_count": 87,
   "id": "interior-greece",
   "metadata": {},
   "outputs": [
    {
     "data": {
      "text/html": [
       "<div>\n",
       "<style scoped>\n",
       "    .dataframe tbody tr th:only-of-type {\n",
       "        vertical-align: middle;\n",
       "    }\n",
       "\n",
       "    .dataframe tbody tr th {\n",
       "        vertical-align: top;\n",
       "    }\n",
       "\n",
       "    .dataframe thead th {\n",
       "        text-align: right;\n",
       "    }\n",
       "</style>\n",
       "<table border=\"1\" class=\"dataframe\">\n",
       "  <thead>\n",
       "    <tr style=\"text-align: right;\">\n",
       "      <th></th>\n",
       "      <th>date</th>\n",
       "      <th>item</th>\n",
       "      <th>sales</th>\n",
       "    </tr>\n",
       "  </thead>\n",
       "  <tbody>\n",
       "    <tr>\n",
       "      <th>0</th>\n",
       "      <td>2013-01-01</td>\n",
       "      <td>1</td>\n",
       "      <td>133</td>\n",
       "    </tr>\n",
       "    <tr>\n",
       "      <th>1</th>\n",
       "      <td>2013-01-01</td>\n",
       "      <td>2</td>\n",
       "      <td>327</td>\n",
       "    </tr>\n",
       "    <tr>\n",
       "      <th>2</th>\n",
       "      <td>2013-01-01</td>\n",
       "      <td>3</td>\n",
       "      <td>172</td>\n",
       "    </tr>\n",
       "    <tr>\n",
       "      <th>3</th>\n",
       "      <td>2013-01-01</td>\n",
       "      <td>4</td>\n",
       "      <td>102</td>\n",
       "    </tr>\n",
       "    <tr>\n",
       "      <th>4</th>\n",
       "      <td>2013-01-01</td>\n",
       "      <td>5</td>\n",
       "      <td>83</td>\n",
       "    </tr>\n",
       "  </tbody>\n",
       "</table>\n",
       "</div>"
      ],
      "text/plain": [
       "        date  item  sales\n",
       "0 2013-01-01     1    133\n",
       "1 2013-01-01     2    327\n",
       "2 2013-01-01     3    172\n",
       "3 2013-01-01     4    102\n",
       "4 2013-01-01     5     83"
      ]
     },
     "execution_count": 87,
     "metadata": {},
     "output_type": "execute_result"
    }
   ],
   "source": [
    "x.head()"
   ]
  },
  {
   "cell_type": "code",
   "execution_count": 88,
   "id": "therapeutic-plasma",
   "metadata": {},
   "outputs": [],
   "source": [
    "x.to_csv('forecast_train.csv', header=False, index=False)\n",
    "y.to_csv('forecast_test.csv', header=False, index=False)"
   ]
  },
  {
   "cell_type": "code",
   "execution_count": 89,
   "id": "loose-armor",
   "metadata": {},
   "outputs": [
    {
     "data": {
      "text/plain": [
       "date     datetime64[ns]\n",
       "item              int64\n",
       "sales             int64\n",
       "dtype: object"
      ]
     },
     "execution_count": 89,
     "metadata": {},
     "output_type": "execute_result"
    }
   ],
   "source": [
    "x.dtypes"
   ]
  },
  {
   "cell_type": "code",
   "execution_count": 96,
   "id": "individual-knight",
   "metadata": {},
   "outputs": [
    {
     "data": {
      "text/html": [
       "<div>\n",
       "<style scoped>\n",
       "    .dataframe tbody tr th:only-of-type {\n",
       "        vertical-align: middle;\n",
       "    }\n",
       "\n",
       "    .dataframe tbody tr th {\n",
       "        vertical-align: top;\n",
       "    }\n",
       "\n",
       "    .dataframe thead th {\n",
       "        text-align: right;\n",
       "    }\n",
       "</style>\n",
       "<table border=\"1\" class=\"dataframe\">\n",
       "  <thead>\n",
       "    <tr style=\"text-align: right;\">\n",
       "      <th></th>\n",
       "      <th>date</th>\n",
       "      <th>item</th>\n",
       "      <th>sales</th>\n",
       "    </tr>\n",
       "  </thead>\n",
       "  <tbody>\n",
       "    <tr>\n",
       "      <th>0</th>\n",
       "      <td>2013-01-01</td>\n",
       "      <td>1</td>\n",
       "      <td>133</td>\n",
       "    </tr>\n",
       "    <tr>\n",
       "      <th>1</th>\n",
       "      <td>2013-01-01</td>\n",
       "      <td>2</td>\n",
       "      <td>327</td>\n",
       "    </tr>\n",
       "    <tr>\n",
       "      <th>2</th>\n",
       "      <td>2013-01-01</td>\n",
       "      <td>3</td>\n",
       "      <td>172</td>\n",
       "    </tr>\n",
       "    <tr>\n",
       "      <th>3</th>\n",
       "      <td>2013-01-01</td>\n",
       "      <td>4</td>\n",
       "      <td>102</td>\n",
       "    </tr>\n",
       "    <tr>\n",
       "      <th>4</th>\n",
       "      <td>2013-01-01</td>\n",
       "      <td>5</td>\n",
       "      <td>83</td>\n",
       "    </tr>\n",
       "  </tbody>\n",
       "</table>\n",
       "</div>"
      ],
      "text/plain": [
       "        date  item  sales\n",
       "0 2013-01-01     1    133\n",
       "1 2013-01-01     2    327\n",
       "2 2013-01-01     3    172\n",
       "3 2013-01-01     4    102\n",
       "4 2013-01-01     5     83"
      ]
     },
     "execution_count": 96,
     "metadata": {},
     "output_type": "execute_result"
    }
   ],
   "source": [
    "x.head()"
   ]
  },
  {
   "cell_type": "code",
   "execution_count": 92,
   "id": "impressed-antigua",
   "metadata": {},
   "outputs": [],
   "source": [
    "xt = train[:-31]\n",
    "yt = train[-31:]\n",
    "xt.to_csv('forecast_full.csv', header=False, index=False)"
   ]
  },
  {
   "cell_type": "code",
   "execution_count": 97,
   "id": "needed-apparatus",
   "metadata": {},
   "outputs": [
    {
     "data": {
      "text/html": [
       "<div>\n",
       "<style scoped>\n",
       "    .dataframe tbody tr th:only-of-type {\n",
       "        vertical-align: middle;\n",
       "    }\n",
       "\n",
       "    .dataframe tbody tr th {\n",
       "        vertical-align: top;\n",
       "    }\n",
       "\n",
       "    .dataframe thead th {\n",
       "        text-align: right;\n",
       "    }\n",
       "</style>\n",
       "<table border=\"1\" class=\"dataframe\">\n",
       "  <thead>\n",
       "    <tr style=\"text-align: right;\">\n",
       "      <th></th>\n",
       "      <th>id</th>\n",
       "      <th>date</th>\n",
       "      <th>store</th>\n",
       "      <th>item</th>\n",
       "    </tr>\n",
       "  </thead>\n",
       "  <tbody>\n",
       "    <tr>\n",
       "      <th>0</th>\n",
       "      <td>0</td>\n",
       "      <td>2018-01-01</td>\n",
       "      <td>1</td>\n",
       "      <td>1</td>\n",
       "    </tr>\n",
       "    <tr>\n",
       "      <th>1</th>\n",
       "      <td>1</td>\n",
       "      <td>2018-01-02</td>\n",
       "      <td>1</td>\n",
       "      <td>1</td>\n",
       "    </tr>\n",
       "    <tr>\n",
       "      <th>2</th>\n",
       "      <td>2</td>\n",
       "      <td>2018-01-03</td>\n",
       "      <td>1</td>\n",
       "      <td>1</td>\n",
       "    </tr>\n",
       "    <tr>\n",
       "      <th>3</th>\n",
       "      <td>3</td>\n",
       "      <td>2018-01-04</td>\n",
       "      <td>1</td>\n",
       "      <td>1</td>\n",
       "    </tr>\n",
       "    <tr>\n",
       "      <th>4</th>\n",
       "      <td>4</td>\n",
       "      <td>2018-01-05</td>\n",
       "      <td>1</td>\n",
       "      <td>1</td>\n",
       "    </tr>\n",
       "  </tbody>\n",
       "</table>\n",
       "</div>"
      ],
      "text/plain": [
       "  id        date  store  item\n",
       "0  0  2018-01-01      1     1\n",
       "1  1  2018-01-02      1     1\n",
       "2  2  2018-01-03      1     1\n",
       "3  3  2018-01-04      1     1\n",
       "4  4  2018-01-05      1     1"
      ]
     },
     "execution_count": 97,
     "metadata": {},
     "output_type": "execute_result"
    }
   ],
   "source": [
    "test.head()"
   ]
  },
  {
   "cell_type": "code",
   "execution_count": 99,
   "id": "inappropriate-threshold",
   "metadata": {},
   "outputs": [
    {
     "data": {
      "text/html": [
       "<div>\n",
       "<style scoped>\n",
       "    .dataframe tbody tr th:only-of-type {\n",
       "        vertical-align: middle;\n",
       "    }\n",
       "\n",
       "    .dataframe tbody tr th {\n",
       "        vertical-align: top;\n",
       "    }\n",
       "\n",
       "    .dataframe thead th {\n",
       "        text-align: right;\n",
       "    }\n",
       "</style>\n",
       "<table border=\"1\" class=\"dataframe\">\n",
       "  <thead>\n",
       "    <tr style=\"text-align: right;\">\n",
       "      <th></th>\n",
       "      <th>id</th>\n",
       "      <th>date</th>\n",
       "      <th>store</th>\n",
       "      <th>item</th>\n",
       "    </tr>\n",
       "  </thead>\n",
       "  <tbody>\n",
       "    <tr>\n",
       "      <th>44995</th>\n",
       "      <td>44995</td>\n",
       "      <td>2018-03-27</td>\n",
       "      <td>10</td>\n",
       "      <td>50</td>\n",
       "    </tr>\n",
       "    <tr>\n",
       "      <th>44996</th>\n",
       "      <td>44996</td>\n",
       "      <td>2018-03-28</td>\n",
       "      <td>10</td>\n",
       "      <td>50</td>\n",
       "    </tr>\n",
       "    <tr>\n",
       "      <th>44997</th>\n",
       "      <td>44997</td>\n",
       "      <td>2018-03-29</td>\n",
       "      <td>10</td>\n",
       "      <td>50</td>\n",
       "    </tr>\n",
       "    <tr>\n",
       "      <th>44998</th>\n",
       "      <td>44998</td>\n",
       "      <td>2018-03-30</td>\n",
       "      <td>10</td>\n",
       "      <td>50</td>\n",
       "    </tr>\n",
       "    <tr>\n",
       "      <th>44999</th>\n",
       "      <td>44999</td>\n",
       "      <td>2018-03-31</td>\n",
       "      <td>10</td>\n",
       "      <td>50</td>\n",
       "    </tr>\n",
       "  </tbody>\n",
       "</table>\n",
       "</div>"
      ],
      "text/plain": [
       "          id        date  store  item\n",
       "44995  44995  2018-03-27     10    50\n",
       "44996  44996  2018-03-28     10    50\n",
       "44997  44997  2018-03-29     10    50\n",
       "44998  44998  2018-03-30     10    50\n",
       "44999  44999  2018-03-31     10    50"
      ]
     },
     "execution_count": 99,
     "metadata": {},
     "output_type": "execute_result"
    }
   ],
   "source": [
    "test.tail()"
   ]
  },
  {
   "cell_type": "code",
   "execution_count": 101,
   "id": "smooth-michigan",
   "metadata": {},
   "outputs": [
    {
     "data": {
      "text/plain": [
       "array([ 1,  2,  3,  4,  5,  6,  7,  8,  9, 10, 11, 12, 13, 14, 15, 16, 17,\n",
       "       18, 19, 20, 21, 22, 23, 24, 25, 26, 27, 28, 29, 30, 31, 32, 33, 34,\n",
       "       35, 36, 37, 38, 39, 40, 41, 42, 43, 44, 45, 46, 47, 48, 49, 50])"
      ]
     },
     "execution_count": 101,
     "metadata": {},
     "output_type": "execute_result"
    }
   ],
   "source": [
    "test.item.unique()"
   ]
  },
  {
   "cell_type": "code",
   "execution_count": 8,
   "id": "attractive-phenomenon",
   "metadata": {},
   "outputs": [],
   "source": [
    "fr0 = pd.read_csv('forecast_export_item1_2021-04-08T19-33-53Z_part0.csv')\n",
    "fr1 = pd.read_csv('forecast_export_item1_2021-04-08T19-33-53Z_part1.csv')\n",
    "fr2 = pd.read_csv('forecast_export_item1_2021-04-08T19-33-53Z_part2.csv')\n",
    "fr3 = pd.read_csv('forecast_export_item1_2021-04-08T19-33-53Z_part3.csv')"
   ]
  },
  {
   "cell_type": "code",
   "execution_count": 117,
   "id": "selected-caribbean",
   "metadata": {},
   "outputs": [
    {
     "data": {
      "text/html": [
       "<div>\n",
       "<style scoped>\n",
       "    .dataframe tbody tr th:only-of-type {\n",
       "        vertical-align: middle;\n",
       "    }\n",
       "\n",
       "    .dataframe tbody tr th {\n",
       "        vertical-align: top;\n",
       "    }\n",
       "\n",
       "    .dataframe thead th {\n",
       "        text-align: right;\n",
       "    }\n",
       "</style>\n",
       "<table border=\"1\" class=\"dataframe\">\n",
       "  <thead>\n",
       "    <tr style=\"text-align: right;\">\n",
       "      <th></th>\n",
       "      <th>item_id</th>\n",
       "      <th>date</th>\n",
       "      <th>store</th>\n",
       "      <th>p10</th>\n",
       "      <th>p50</th>\n",
       "      <th>p90</th>\n",
       "    </tr>\n",
       "  </thead>\n",
       "  <tbody>\n",
       "    <tr>\n",
       "      <th>0</th>\n",
       "      <td>24</td>\n",
       "      <td>2018-01-01T00:00:00Z</td>\n",
       "      <td>1</td>\n",
       "      <td>23.710733</td>\n",
       "      <td>34.701153</td>\n",
       "      <td>43.378487</td>\n",
       "    </tr>\n",
       "    <tr>\n",
       "      <th>1</th>\n",
       "      <td>24</td>\n",
       "      <td>2018-01-02T00:00:00Z</td>\n",
       "      <td>1</td>\n",
       "      <td>33.661163</td>\n",
       "      <td>43.381706</td>\n",
       "      <td>52.266064</td>\n",
       "    </tr>\n",
       "    <tr>\n",
       "      <th>2</th>\n",
       "      <td>24</td>\n",
       "      <td>2018-01-03T00:00:00Z</td>\n",
       "      <td>1</td>\n",
       "      <td>34.368095</td>\n",
       "      <td>42.373062</td>\n",
       "      <td>51.194790</td>\n",
       "    </tr>\n",
       "    <tr>\n",
       "      <th>3</th>\n",
       "      <td>24</td>\n",
       "      <td>2018-01-04T00:00:00Z</td>\n",
       "      <td>1</td>\n",
       "      <td>36.460640</td>\n",
       "      <td>46.856777</td>\n",
       "      <td>56.094807</td>\n",
       "    </tr>\n",
       "    <tr>\n",
       "      <th>4</th>\n",
       "      <td>24</td>\n",
       "      <td>2018-01-05T00:00:00Z</td>\n",
       "      <td>1</td>\n",
       "      <td>39.956226</td>\n",
       "      <td>50.281727</td>\n",
       "      <td>59.517036</td>\n",
       "    </tr>\n",
       "  </tbody>\n",
       "</table>\n",
       "</div>"
      ],
      "text/plain": [
       "   item_id                  date  store        p10        p50        p90\n",
       "0       24  2018-01-01T00:00:00Z      1  23.710733  34.701153  43.378487\n",
       "1       24  2018-01-02T00:00:00Z      1  33.661163  43.381706  52.266064\n",
       "2       24  2018-01-03T00:00:00Z      1  34.368095  42.373062  51.194790\n",
       "3       24  2018-01-04T00:00:00Z      1  36.460640  46.856777  56.094807\n",
       "4       24  2018-01-05T00:00:00Z      1  39.956226  50.281727  59.517036"
      ]
     },
     "execution_count": 117,
     "metadata": {},
     "output_type": "execute_result"
    }
   ],
   "source": [
    "fr0.head()"
   ]
  },
  {
   "cell_type": "code",
   "execution_count": 118,
   "id": "multiple-deadline",
   "metadata": {},
   "outputs": [
    {
     "data": {
      "text/html": [
       "<div>\n",
       "<style scoped>\n",
       "    .dataframe tbody tr th:only-of-type {\n",
       "        vertical-align: middle;\n",
       "    }\n",
       "\n",
       "    .dataframe tbody tr th {\n",
       "        vertical-align: top;\n",
       "    }\n",
       "\n",
       "    .dataframe thead th {\n",
       "        text-align: right;\n",
       "    }\n",
       "</style>\n",
       "<table border=\"1\" class=\"dataframe\">\n",
       "  <thead>\n",
       "    <tr style=\"text-align: right;\">\n",
       "      <th></th>\n",
       "      <th>item_id</th>\n",
       "      <th>date</th>\n",
       "      <th>store</th>\n",
       "      <th>p10</th>\n",
       "      <th>p50</th>\n",
       "      <th>p90</th>\n",
       "    </tr>\n",
       "  </thead>\n",
       "  <tbody>\n",
       "    <tr>\n",
       "      <th>0</th>\n",
       "      <td>43</td>\n",
       "      <td>2018-01-01T00:00:00Z</td>\n",
       "      <td>7</td>\n",
       "      <td>15.035352</td>\n",
       "      <td>23.972351</td>\n",
       "      <td>31.041718</td>\n",
       "    </tr>\n",
       "    <tr>\n",
       "      <th>1</th>\n",
       "      <td>43</td>\n",
       "      <td>2018-01-02T00:00:00Z</td>\n",
       "      <td>7</td>\n",
       "      <td>20.536219</td>\n",
       "      <td>28.033861</td>\n",
       "      <td>34.835148</td>\n",
       "    </tr>\n",
       "    <tr>\n",
       "      <th>2</th>\n",
       "      <td>43</td>\n",
       "      <td>2018-01-03T00:00:00Z</td>\n",
       "      <td>7</td>\n",
       "      <td>21.629093</td>\n",
       "      <td>27.995485</td>\n",
       "      <td>34.892693</td>\n",
       "    </tr>\n",
       "    <tr>\n",
       "      <th>3</th>\n",
       "      <td>43</td>\n",
       "      <td>2018-01-04T00:00:00Z</td>\n",
       "      <td>7</td>\n",
       "      <td>21.818283</td>\n",
       "      <td>30.309904</td>\n",
       "      <td>38.103474</td>\n",
       "    </tr>\n",
       "    <tr>\n",
       "      <th>4</th>\n",
       "      <td>43</td>\n",
       "      <td>2018-01-05T00:00:00Z</td>\n",
       "      <td>7</td>\n",
       "      <td>24.421043</td>\n",
       "      <td>32.224472</td>\n",
       "      <td>39.394394</td>\n",
       "    </tr>\n",
       "  </tbody>\n",
       "</table>\n",
       "</div>"
      ],
      "text/plain": [
       "   item_id                  date  store        p10        p50        p90\n",
       "0       43  2018-01-01T00:00:00Z      7  15.035352  23.972351  31.041718\n",
       "1       43  2018-01-02T00:00:00Z      7  20.536219  28.033861  34.835148\n",
       "2       43  2018-01-03T00:00:00Z      7  21.629093  27.995485  34.892693\n",
       "3       43  2018-01-04T00:00:00Z      7  21.818283  30.309904  38.103474\n",
       "4       43  2018-01-05T00:00:00Z      7  24.421043  32.224472  39.394394"
      ]
     },
     "execution_count": 118,
     "metadata": {},
     "output_type": "execute_result"
    }
   ],
   "source": []
  },
  {
   "cell_type": "code",
   "execution_count": 9,
   "id": "prime-progress",
   "metadata": {},
   "outputs": [
    {
     "data": {
      "text/plain": [
       "(45000, (45000, 4))"
      ]
     },
     "execution_count": 9,
     "metadata": {},
     "output_type": "execute_result"
    }
   ],
   "source": [
    "fr0.shape[0] + fr1.shape[0] + fr2.shape[0] + fr3.shape[0] , test.shape"
   ]
  },
  {
   "cell_type": "code",
   "execution_count": 24,
   "id": "approximate-morning",
   "metadata": {},
   "outputs": [],
   "source": [
    "forecast = pd.concat([fr0,fr1,fr2,fr3], axis=0)"
   ]
  },
  {
   "cell_type": "code",
   "execution_count": 25,
   "id": "younger-uncle",
   "metadata": {},
   "outputs": [
    {
     "data": {
      "text/html": [
       "<div>\n",
       "<style scoped>\n",
       "    .dataframe tbody tr th:only-of-type {\n",
       "        vertical-align: middle;\n",
       "    }\n",
       "\n",
       "    .dataframe tbody tr th {\n",
       "        vertical-align: top;\n",
       "    }\n",
       "\n",
       "    .dataframe thead th {\n",
       "        text-align: right;\n",
       "    }\n",
       "</style>\n",
       "<table border=\"1\" class=\"dataframe\">\n",
       "  <thead>\n",
       "    <tr style=\"text-align: right;\">\n",
       "      <th></th>\n",
       "      <th>item_id</th>\n",
       "      <th>date</th>\n",
       "      <th>store</th>\n",
       "      <th>p10</th>\n",
       "      <th>p50</th>\n",
       "      <th>p90</th>\n",
       "    </tr>\n",
       "  </thead>\n",
       "  <tbody>\n",
       "    <tr>\n",
       "      <th>0</th>\n",
       "      <td>24</td>\n",
       "      <td>2018-01-01T00:00:00Z</td>\n",
       "      <td>1</td>\n",
       "      <td>23.710733</td>\n",
       "      <td>34.701153</td>\n",
       "      <td>43.378487</td>\n",
       "    </tr>\n",
       "    <tr>\n",
       "      <th>1</th>\n",
       "      <td>24</td>\n",
       "      <td>2018-01-02T00:00:00Z</td>\n",
       "      <td>1</td>\n",
       "      <td>33.661163</td>\n",
       "      <td>43.381706</td>\n",
       "      <td>52.266064</td>\n",
       "    </tr>\n",
       "    <tr>\n",
       "      <th>2</th>\n",
       "      <td>24</td>\n",
       "      <td>2018-01-03T00:00:00Z</td>\n",
       "      <td>1</td>\n",
       "      <td>34.368095</td>\n",
       "      <td>42.373062</td>\n",
       "      <td>51.194790</td>\n",
       "    </tr>\n",
       "    <tr>\n",
       "      <th>3</th>\n",
       "      <td>24</td>\n",
       "      <td>2018-01-04T00:00:00Z</td>\n",
       "      <td>1</td>\n",
       "      <td>36.460640</td>\n",
       "      <td>46.856777</td>\n",
       "      <td>56.094807</td>\n",
       "    </tr>\n",
       "    <tr>\n",
       "      <th>4</th>\n",
       "      <td>24</td>\n",
       "      <td>2018-01-05T00:00:00Z</td>\n",
       "      <td>1</td>\n",
       "      <td>39.956226</td>\n",
       "      <td>50.281727</td>\n",
       "      <td>59.517036</td>\n",
       "    </tr>\n",
       "  </tbody>\n",
       "</table>\n",
       "</div>"
      ],
      "text/plain": [
       "   item_id                  date  store        p10        p50        p90\n",
       "0       24  2018-01-01T00:00:00Z      1  23.710733  34.701153  43.378487\n",
       "1       24  2018-01-02T00:00:00Z      1  33.661163  43.381706  52.266064\n",
       "2       24  2018-01-03T00:00:00Z      1  34.368095  42.373062  51.194790\n",
       "3       24  2018-01-04T00:00:00Z      1  36.460640  46.856777  56.094807\n",
       "4       24  2018-01-05T00:00:00Z      1  39.956226  50.281727  59.517036"
      ]
     },
     "execution_count": 25,
     "metadata": {},
     "output_type": "execute_result"
    }
   ],
   "source": [
    "forecast.head()"
   ]
  },
  {
   "cell_type": "code",
   "execution_count": 31,
   "id": "continued-yeast",
   "metadata": {},
   "outputs": [],
   "source": [
    "df_pred = forecast.copy()"
   ]
  },
  {
   "cell_type": "code",
   "execution_count": 32,
   "id": "modular-nigeria",
   "metadata": {},
   "outputs": [],
   "source": [
    "df_pred['id'] = df_pred['item_id']"
   ]
  },
  {
   "cell_type": "code",
   "execution_count": 34,
   "id": "unexpected-cargo",
   "metadata": {},
   "outputs": [],
   "source": [
    "df_pred['sales10'] = df_pred['p10']\n",
    "df_pred['sales'] = df_pred['p50']\n",
    "df_pred['sales90'] = df_pred['p90']"
   ]
  },
  {
   "cell_type": "code",
   "execution_count": 35,
   "id": "streaming-screen",
   "metadata": {},
   "outputs": [],
   "source": [
    "df_pred.drop(['item_id','p10','p50','p90'], axis=1,inplace=True)"
   ]
  },
  {
   "cell_type": "code",
   "execution_count": 36,
   "id": "permanent-expense",
   "metadata": {},
   "outputs": [
    {
     "data": {
      "text/html": [
       "<div>\n",
       "<style scoped>\n",
       "    .dataframe tbody tr th:only-of-type {\n",
       "        vertical-align: middle;\n",
       "    }\n",
       "\n",
       "    .dataframe tbody tr th {\n",
       "        vertical-align: top;\n",
       "    }\n",
       "\n",
       "    .dataframe thead th {\n",
       "        text-align: right;\n",
       "    }\n",
       "</style>\n",
       "<table border=\"1\" class=\"dataframe\">\n",
       "  <thead>\n",
       "    <tr style=\"text-align: right;\">\n",
       "      <th></th>\n",
       "      <th>date</th>\n",
       "      <th>store</th>\n",
       "      <th>id</th>\n",
       "      <th>sales10</th>\n",
       "      <th>sales</th>\n",
       "      <th>sales90</th>\n",
       "    </tr>\n",
       "  </thead>\n",
       "  <tbody>\n",
       "    <tr>\n",
       "      <th>0</th>\n",
       "      <td>2018-01-01T00:00:00Z</td>\n",
       "      <td>1</td>\n",
       "      <td>24</td>\n",
       "      <td>23.710733</td>\n",
       "      <td>34.701153</td>\n",
       "      <td>43.378487</td>\n",
       "    </tr>\n",
       "    <tr>\n",
       "      <th>1</th>\n",
       "      <td>2018-01-02T00:00:00Z</td>\n",
       "      <td>1</td>\n",
       "      <td>24</td>\n",
       "      <td>33.661163</td>\n",
       "      <td>43.381706</td>\n",
       "      <td>52.266064</td>\n",
       "    </tr>\n",
       "    <tr>\n",
       "      <th>2</th>\n",
       "      <td>2018-01-03T00:00:00Z</td>\n",
       "      <td>1</td>\n",
       "      <td>24</td>\n",
       "      <td>34.368095</td>\n",
       "      <td>42.373062</td>\n",
       "      <td>51.194790</td>\n",
       "    </tr>\n",
       "    <tr>\n",
       "      <th>3</th>\n",
       "      <td>2018-01-04T00:00:00Z</td>\n",
       "      <td>1</td>\n",
       "      <td>24</td>\n",
       "      <td>36.460640</td>\n",
       "      <td>46.856777</td>\n",
       "      <td>56.094807</td>\n",
       "    </tr>\n",
       "    <tr>\n",
       "      <th>4</th>\n",
       "      <td>2018-01-05T00:00:00Z</td>\n",
       "      <td>1</td>\n",
       "      <td>24</td>\n",
       "      <td>39.956226</td>\n",
       "      <td>50.281727</td>\n",
       "      <td>59.517036</td>\n",
       "    </tr>\n",
       "  </tbody>\n",
       "</table>\n",
       "</div>"
      ],
      "text/plain": [
       "                   date  store  id    sales10      sales    sales90\n",
       "0  2018-01-01T00:00:00Z      1  24  23.710733  34.701153  43.378487\n",
       "1  2018-01-02T00:00:00Z      1  24  33.661163  43.381706  52.266064\n",
       "2  2018-01-03T00:00:00Z      1  24  34.368095  42.373062  51.194790\n",
       "3  2018-01-04T00:00:00Z      1  24  36.460640  46.856777  56.094807\n",
       "4  2018-01-05T00:00:00Z      1  24  39.956226  50.281727  59.517036"
      ]
     },
     "execution_count": 36,
     "metadata": {},
     "output_type": "execute_result"
    }
   ],
   "source": [
    "df_pred.head()"
   ]
  },
  {
   "cell_type": "code",
   "execution_count": 37,
   "id": "textile-appliance",
   "metadata": {},
   "outputs": [
    {
     "data": {
      "text/plain": [
       "date        object\n",
       "store        int64\n",
       "id           int64\n",
       "sales10    float64\n",
       "sales      float64\n",
       "sales90    float64\n",
       "dtype: object"
      ]
     },
     "execution_count": 37,
     "metadata": {},
     "output_type": "execute_result"
    }
   ],
   "source": [
    "df_pred.dtypes"
   ]
  },
  {
   "cell_type": "code",
   "execution_count": 38,
   "id": "pleasant-ceremony",
   "metadata": {},
   "outputs": [],
   "source": [
    "from datetime import datetime"
   ]
  },
  {
   "cell_type": "code",
   "execution_count": 40,
   "id": "running-reservation",
   "metadata": {},
   "outputs": [
    {
     "data": {
      "text/html": [
       "<div>\n",
       "<style scoped>\n",
       "    .dataframe tbody tr th:only-of-type {\n",
       "        vertical-align: middle;\n",
       "    }\n",
       "\n",
       "    .dataframe tbody tr th {\n",
       "        vertical-align: top;\n",
       "    }\n",
       "\n",
       "    .dataframe thead th {\n",
       "        text-align: right;\n",
       "    }\n",
       "</style>\n",
       "<table border=\"1\" class=\"dataframe\">\n",
       "  <thead>\n",
       "    <tr style=\"text-align: right;\">\n",
       "      <th></th>\n",
       "      <th>date</th>\n",
       "      <th>store</th>\n",
       "      <th>id</th>\n",
       "      <th>sales10</th>\n",
       "      <th>sales</th>\n",
       "      <th>sales90</th>\n",
       "    </tr>\n",
       "  </thead>\n",
       "  <tbody>\n",
       "    <tr>\n",
       "      <th>0</th>\n",
       "      <td>2018-01-01</td>\n",
       "      <td>1</td>\n",
       "      <td>24</td>\n",
       "      <td>23.710733</td>\n",
       "      <td>34.701153</td>\n",
       "      <td>43.378487</td>\n",
       "    </tr>\n",
       "    <tr>\n",
       "      <th>1</th>\n",
       "      <td>2018-01-02</td>\n",
       "      <td>1</td>\n",
       "      <td>24</td>\n",
       "      <td>33.661163</td>\n",
       "      <td>43.381706</td>\n",
       "      <td>52.266064</td>\n",
       "    </tr>\n",
       "    <tr>\n",
       "      <th>2</th>\n",
       "      <td>2018-01-03</td>\n",
       "      <td>1</td>\n",
       "      <td>24</td>\n",
       "      <td>34.368095</td>\n",
       "      <td>42.373062</td>\n",
       "      <td>51.194790</td>\n",
       "    </tr>\n",
       "    <tr>\n",
       "      <th>3</th>\n",
       "      <td>2018-01-04</td>\n",
       "      <td>1</td>\n",
       "      <td>24</td>\n",
       "      <td>36.460640</td>\n",
       "      <td>46.856777</td>\n",
       "      <td>56.094807</td>\n",
       "    </tr>\n",
       "    <tr>\n",
       "      <th>4</th>\n",
       "      <td>2018-01-05</td>\n",
       "      <td>1</td>\n",
       "      <td>24</td>\n",
       "      <td>39.956226</td>\n",
       "      <td>50.281727</td>\n",
       "      <td>59.517036</td>\n",
       "    </tr>\n",
       "  </tbody>\n",
       "</table>\n",
       "</div>"
      ],
      "text/plain": [
       "         date  store  id    sales10      sales    sales90\n",
       "0  2018-01-01      1  24  23.710733  34.701153  43.378487\n",
       "1  2018-01-02      1  24  33.661163  43.381706  52.266064\n",
       "2  2018-01-03      1  24  34.368095  42.373062  51.194790\n",
       "3  2018-01-04      1  24  36.460640  46.856777  56.094807\n",
       "4  2018-01-05      1  24  39.956226  50.281727  59.517036"
      ]
     },
     "execution_count": 40,
     "metadata": {},
     "output_type": "execute_result"
    }
   ],
   "source": [
    "df_pred['date'] = pd.to_datetime(df_pred['date'])\n",
    "df_pred['date'] = df_pred['date'].apply(lambda x: x.strftime('%Y-%m-%d'))\n",
    "df_pred.head()"
   ]
  },
  {
   "cell_type": "code",
   "execution_count": 47,
   "id": "incorrect-hotel",
   "metadata": {},
   "outputs": [],
   "source": [
    "df_pred.rename(columns={'id': 'item_id'}, inplace=True)"
   ]
  },
  {
   "cell_type": "code",
   "execution_count": 51,
   "id": "intense-window",
   "metadata": {},
   "outputs": [],
   "source": [
    "df_sorted = df_pred.sort_values(by=['item_id','store','date'])"
   ]
  },
  {
   "cell_type": "code",
   "execution_count": 53,
   "id": "diverse-allowance",
   "metadata": {},
   "outputs": [],
   "source": [
    "ids = list(range(45000))\n",
    "sales = df_sorted.sales\n",
    "data = dict(id=ids, sales=sales)\n",
    "df_submission = pd.DataFrame(data)"
   ]
  },
  {
   "cell_type": "code",
   "execution_count": 54,
   "id": "corresponding-fundamentals",
   "metadata": {},
   "outputs": [
    {
     "data": {
      "text/html": [
       "<div>\n",
       "<style scoped>\n",
       "    .dataframe tbody tr th:only-of-type {\n",
       "        vertical-align: middle;\n",
       "    }\n",
       "\n",
       "    .dataframe tbody tr th {\n",
       "        vertical-align: top;\n",
       "    }\n",
       "\n",
       "    .dataframe thead th {\n",
       "        text-align: right;\n",
       "    }\n",
       "</style>\n",
       "<table border=\"1\" class=\"dataframe\">\n",
       "  <thead>\n",
       "    <tr style=\"text-align: right;\">\n",
       "      <th></th>\n",
       "      <th>id</th>\n",
       "      <th>sales</th>\n",
       "    </tr>\n",
       "  </thead>\n",
       "  <tbody>\n",
       "    <tr>\n",
       "      <th>3870</th>\n",
       "      <td>0</td>\n",
       "      <td>12.487864</td>\n",
       "    </tr>\n",
       "    <tr>\n",
       "      <th>3871</th>\n",
       "      <td>1</td>\n",
       "      <td>17.644295</td>\n",
       "    </tr>\n",
       "    <tr>\n",
       "      <th>3872</th>\n",
       "      <td>2</td>\n",
       "      <td>15.187359</td>\n",
       "    </tr>\n",
       "    <tr>\n",
       "      <th>3873</th>\n",
       "      <td>3</td>\n",
       "      <td>15.710437</td>\n",
       "    </tr>\n",
       "    <tr>\n",
       "      <th>3874</th>\n",
       "      <td>4</td>\n",
       "      <td>18.179716</td>\n",
       "    </tr>\n",
       "  </tbody>\n",
       "</table>\n",
       "</div>"
      ],
      "text/plain": [
       "      id      sales\n",
       "3870   0  12.487864\n",
       "3871   1  17.644295\n",
       "3872   2  15.187359\n",
       "3873   3  15.710437\n",
       "3874   4  18.179716"
      ]
     },
     "execution_count": 54,
     "metadata": {},
     "output_type": "execute_result"
    }
   ],
   "source": [
    "df_submission.head()"
   ]
  },
  {
   "cell_type": "code",
   "execution_count": 56,
   "id": "published-darwin",
   "metadata": {},
   "outputs": [],
   "source": [
    "df_submission.to_csv('submission.csv', index=False, header=True)"
   ]
  },
  {
   "cell_type": "code",
   "execution_count": 55,
   "id": "regular-translation",
   "metadata": {
    "collapsed": true,
    "jupyter": {
     "outputs_hidden": true
    }
   },
   "outputs": [
    {
     "name": "stdout",
     "output_type": "stream",
     "text": [
      "Requirement already satisfied: kaggle in /home/ec2-user/anaconda3/envs/python3/lib/python3.6/site-packages (1.5.12)\n",
      "Requirement already satisfied: urllib3 in /home/ec2-user/anaconda3/envs/python3/lib/python3.6/site-packages (from kaggle) (1.26.3)\n",
      "Requirement already satisfied: certifi in /home/ec2-user/anaconda3/envs/python3/lib/python3.6/site-packages (from kaggle) (2020.12.5)\n",
      "Requirement already satisfied: tqdm in /home/ec2-user/anaconda3/envs/python3/lib/python3.6/site-packages (from kaggle) (4.60.0)\n",
      "Requirement already satisfied: python-dateutil in /home/ec2-user/anaconda3/envs/python3/lib/python3.6/site-packages (from kaggle) (2.8.1)\n",
      "Requirement already satisfied: python-slugify in /home/ec2-user/anaconda3/envs/python3/lib/python3.6/site-packages (from kaggle) (4.0.1)\n",
      "Requirement already satisfied: six>=1.10 in /home/ec2-user/anaconda3/envs/python3/lib/python3.6/site-packages (from kaggle) (1.15.0)\n",
      "Requirement already satisfied: requests in /home/ec2-user/anaconda3/envs/python3/lib/python3.6/site-packages (from kaggle) (2.25.1)\n",
      "Requirement already satisfied: text-unidecode>=1.3 in /home/ec2-user/anaconda3/envs/python3/lib/python3.6/site-packages (from python-slugify->kaggle) (1.3)\n",
      "Requirement already satisfied: chardet<5,>=3.0.2 in /home/ec2-user/anaconda3/envs/python3/lib/python3.6/site-packages (from requests->kaggle) (3.0.4)\n",
      "Requirement already satisfied: idna<3,>=2.5 in /home/ec2-user/anaconda3/envs/python3/lib/python3.6/site-packages (from requests->kaggle) (2.10)\n"
     ]
    }
   ],
   "source": [
    "!pip install kaggle"
   ]
  },
  {
   "cell_type": "code",
   "execution_count": null,
   "id": "distant-fashion",
   "metadata": {},
   "outputs": [],
   "source": []
  }
 ],
 "metadata": {
  "kernelspec": {
   "display_name": "conda_python3",
   "language": "python",
   "name": "conda_python3"
  },
  "language_info": {
   "codemirror_mode": {
    "name": "ipython",
    "version": 3
   },
   "file_extension": ".py",
   "mimetype": "text/x-python",
   "name": "python",
   "nbconvert_exporter": "python",
   "pygments_lexer": "ipython3",
   "version": "3.6.13"
  }
 },
 "nbformat": 4,
 "nbformat_minor": 5
}
